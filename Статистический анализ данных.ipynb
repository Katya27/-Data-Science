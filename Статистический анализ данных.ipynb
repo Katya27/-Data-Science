{
 "cells": [
  {
   "cell_type": "markdown",
   "id": "d9b911d5",
   "metadata": {},
   "source": [
    "# Проект: Статистический анализ данных\n",
    "\n",
    "**Цель исследования:** Проанализировать данные и проверить некоторые гипотизы, которые помогут бизнесу вырасти.\n",
    "\n",
    "Иследование будет проводиться на данных, предоставленных сервисом аренды самокатов GoFast.\n",
    "\n",
    "Чтобы совершать поездки по городу, пользователи сервиса GoFast пользуются мобильным приложением. Сервисом можно пользоваться:\n",
    "- без подписки\n",
    "  - абонентская плата отсутствует;\n",
    "  - стоимость одной минуты поездки — 8 рублей;\n",
    "  - стоимость старта (начала поездки) — 50 рублей;\n",
    "  \n",
    "  \n",
    "- с подпиской Ultra\n",
    "  - абонентская плата — 199 рублей в месяц;\n",
    "  - стоимость одной минуты поездки — 6 рублей;\n",
    "  - стоимость старта — бесплатно.\n",
    "\n",
    "**Описание данных**\n",
    "\n",
    "В основных данных есть информация о пользователях, их поездках и подписках.\n",
    "\n",
    "Пользователи — *users_go.csv*\n",
    "- user_id - уникальный идентификатор пользователя\n",
    "- name - имя пользователя\n",
    "- age - возраст\n",
    "- city - город\n",
    "- subscription_type - тип подписки (free, ultra)\n",
    "\n",
    "Поездки — *rides_go.csv*\n",
    "- user_id - уникальный идентификатор пользователя\n",
    "- distance - расстояние, которое пользователь проехал в текущей сессии (в метрах)\n",
    "- duration - продолжительность сессии (в минутах) — время с того момента, как пользователь нажал кнопку «Начать поездку» до момента, как он нажал кнопку «Завершить поездку»\n",
    "- date - дата совершения поездки\n",
    "\n",
    "Подписки — *subscriptions_go.csv*\n",
    "- subscription_type - тип подписки\n",
    "- minute_price - стоимость одной минуты поездки по данной подписке\n",
    "- start_ride_price - стоимость начала поездки\n",
    "- subscription_fee - стоимость ежемесячного платежа"
   ]
  },
  {
   "cell_type": "markdown",
   "id": "f98bf3cd",
   "metadata": {},
   "source": [
    "Подключаем необходимые библиотеки."
   ]
  },
  {
   "cell_type": "code",
   "execution_count": 1,
   "id": "72576667",
   "metadata": {},
   "outputs": [],
   "source": [
    "import pandas as pd\n",
    "import numpy as np\n",
    "import matplotlib.pyplot as plt\n",
    "from scipy import stats as st"
   ]
  },
  {
   "cell_type": "markdown",
   "id": "c42cbe00",
   "metadata": {},
   "source": [
    "#### Шаг 1. Загрузка данных"
   ]
  },
  {
   "cell_type": "code",
   "execution_count": 2,
   "id": "eff9f206",
   "metadata": {},
   "outputs": [],
   "source": [
    "users_go = pd.read_csv('/datasets/users_go.csv')\n",
    "rides_go = pd.read_csv('/datasets/rides_go.csv')\n",
    "subscriptions_go = pd.read_csv('/datasets/subscriptions_go.csv')"
   ]
  },
  {
   "cell_type": "code",
   "execution_count": 3,
   "id": "741c02f4",
   "metadata": {
    "scrolled": true
   },
   "outputs": [
    {
     "name": "stdout",
     "output_type": "stream",
     "text": [
      "   user_id        name  age            city subscription_type\n",
      "0        1        Кира   22          Тюмень             ultra\n",
      "1        2   Станислав   31            Омск             ultra\n",
      "2        3     Алексей   20          Москва             ultra\n",
      "3        4  Константин   26  Ростов-на-Дону             ultra\n",
      "4        5       Адель   28            Омск             ultra\n",
      "<class 'pandas.core.frame.DataFrame'>\n",
      "RangeIndex: 1565 entries, 0 to 1564\n",
      "Data columns (total 5 columns):\n",
      " #   Column             Non-Null Count  Dtype \n",
      "---  ------             --------------  ----- \n",
      " 0   user_id            1565 non-null   int64 \n",
      " 1   name               1565 non-null   object\n",
      " 2   age                1565 non-null   int64 \n",
      " 3   city               1565 non-null   object\n",
      " 4   subscription_type  1565 non-null   object\n",
      "dtypes: int64(2), object(3)\n",
      "memory usage: 61.3+ KB\n"
     ]
    }
   ],
   "source": [
    "print(users_go.head())\n",
    "users_go.info()"
   ]
  },
  {
   "cell_type": "code",
   "execution_count": 4,
   "id": "7ff4fe67",
   "metadata": {
    "scrolled": true
   },
   "outputs": [
    {
     "name": "stdout",
     "output_type": "stream",
     "text": [
      "   user_id     distance   duration        date\n",
      "0        1  4409.919140  25.599769  2021-01-01\n",
      "1        1  2617.592153  15.816871  2021-01-18\n",
      "2        1   754.159807   6.232113  2021-04-20\n",
      "3        1  2694.783254  18.511000  2021-08-11\n",
      "4        1  4028.687306  26.265803  2021-08-28\n",
      "<class 'pandas.core.frame.DataFrame'>\n",
      "RangeIndex: 18068 entries, 0 to 18067\n",
      "Data columns (total 4 columns):\n",
      " #   Column    Non-Null Count  Dtype  \n",
      "---  ------    --------------  -----  \n",
      " 0   user_id   18068 non-null  int64  \n",
      " 1   distance  18068 non-null  float64\n",
      " 2   duration  18068 non-null  float64\n",
      " 3   date      18068 non-null  object \n",
      "dtypes: float64(2), int64(1), object(1)\n",
      "memory usage: 564.8+ KB\n"
     ]
    }
   ],
   "source": [
    "print(rides_go.head())\n",
    "rides_go.info()"
   ]
  },
  {
   "cell_type": "code",
   "execution_count": 5,
   "id": "054ee715",
   "metadata": {},
   "outputs": [
    {
     "name": "stdout",
     "output_type": "stream",
     "text": [
      "  subscription_type  minute_price  start_ride_price  subscription_fee\n",
      "0              free             8                50                 0\n",
      "1             ultra             6                 0               199\n",
      "<class 'pandas.core.frame.DataFrame'>\n",
      "RangeIndex: 2 entries, 0 to 1\n",
      "Data columns (total 4 columns):\n",
      " #   Column             Non-Null Count  Dtype \n",
      "---  ------             --------------  ----- \n",
      " 0   subscription_type  2 non-null      object\n",
      " 1   minute_price       2 non-null      int64 \n",
      " 2   start_ride_price   2 non-null      int64 \n",
      " 3   subscription_fee   2 non-null      int64 \n",
      "dtypes: int64(3), object(1)\n",
      "memory usage: 192.0+ bytes\n"
     ]
    }
   ],
   "source": [
    "print(subscriptions_go.head())\n",
    "subscriptions_go.info()"
   ]
  },
  {
   "cell_type": "markdown",
   "id": "030d2303",
   "metadata": {},
   "source": [
    "В итоге мы загрузили данные, теперь каждая таблица в своей переменной, и просмотрели первый строки этих таблиц и общую информацию. На первый взгляд нужно изменить тип данных столбца 'data' в датафрейме rides_go.\n",
    "\n",
    "Перейдём к предобработке данных."
   ]
  },
  {
   "cell_type": "markdown",
   "id": "e95ebca7",
   "metadata": {},
   "source": [
    "#### Шаг 2. Предобработка данных"
   ]
  },
  {
   "cell_type": "markdown",
   "id": "dc4d63b8",
   "metadata": {},
   "source": [
    "Первым делом сменим тип данных в столбце 'data' на datetime64."
   ]
  },
  {
   "cell_type": "code",
   "execution_count": 6,
   "id": "af6d202c",
   "metadata": {
    "scrolled": true
   },
   "outputs": [
    {
     "name": "stdout",
     "output_type": "stream",
     "text": [
      "<class 'pandas.core.frame.DataFrame'>\n",
      "RangeIndex: 18068 entries, 0 to 18067\n",
      "Data columns (total 4 columns):\n",
      " #   Column    Non-Null Count  Dtype         \n",
      "---  ------    --------------  -----         \n",
      " 0   user_id   18068 non-null  int64         \n",
      " 1   distance  18068 non-null  float64       \n",
      " 2   duration  18068 non-null  float64       \n",
      " 3   date      18068 non-null  datetime64[ns]\n",
      "dtypes: datetime64[ns](1), float64(2), int64(1)\n",
      "memory usage: 564.8 KB\n"
     ]
    }
   ],
   "source": [
    "rides_go['date'] = pd.to_datetime(\n",
    "    rides_go['date'], format='%Y-%m-%d'\n",
    ")\n",
    "rides_go.info()"
   ]
  },
  {
   "cell_type": "markdown",
   "id": "a23aa428",
   "metadata": {},
   "source": [
    "Теперь добавим новый столбец в DataFrame rides_go, в котором будут указаны номера месяца для каждой поездки, и назовём его 'number_month'."
   ]
  },
  {
   "cell_type": "code",
   "execution_count": 7,
   "id": "49ff111e",
   "metadata": {},
   "outputs": [
    {
     "data": {
      "text/html": [
       "<div>\n",
       "<style scoped>\n",
       "    .dataframe tbody tr th:only-of-type {\n",
       "        vertical-align: middle;\n",
       "    }\n",
       "\n",
       "    .dataframe tbody tr th {\n",
       "        vertical-align: top;\n",
       "    }\n",
       "\n",
       "    .dataframe thead th {\n",
       "        text-align: right;\n",
       "    }\n",
       "</style>\n",
       "<table border=\"1\" class=\"dataframe\">\n",
       "  <thead>\n",
       "    <tr style=\"text-align: right;\">\n",
       "      <th></th>\n",
       "      <th>user_id</th>\n",
       "      <th>distance</th>\n",
       "      <th>duration</th>\n",
       "      <th>date</th>\n",
       "      <th>number_month</th>\n",
       "    </tr>\n",
       "  </thead>\n",
       "  <tbody>\n",
       "    <tr>\n",
       "      <th>0</th>\n",
       "      <td>1</td>\n",
       "      <td>4409.919140</td>\n",
       "      <td>25.599769</td>\n",
       "      <td>2021-01-01</td>\n",
       "      <td>1</td>\n",
       "    </tr>\n",
       "    <tr>\n",
       "      <th>1</th>\n",
       "      <td>1</td>\n",
       "      <td>2617.592153</td>\n",
       "      <td>15.816871</td>\n",
       "      <td>2021-01-18</td>\n",
       "      <td>1</td>\n",
       "    </tr>\n",
       "    <tr>\n",
       "      <th>2</th>\n",
       "      <td>1</td>\n",
       "      <td>754.159807</td>\n",
       "      <td>6.232113</td>\n",
       "      <td>2021-04-20</td>\n",
       "      <td>4</td>\n",
       "    </tr>\n",
       "    <tr>\n",
       "      <th>3</th>\n",
       "      <td>1</td>\n",
       "      <td>2694.783254</td>\n",
       "      <td>18.511000</td>\n",
       "      <td>2021-08-11</td>\n",
       "      <td>8</td>\n",
       "    </tr>\n",
       "    <tr>\n",
       "      <th>4</th>\n",
       "      <td>1</td>\n",
       "      <td>4028.687306</td>\n",
       "      <td>26.265803</td>\n",
       "      <td>2021-08-28</td>\n",
       "      <td>8</td>\n",
       "    </tr>\n",
       "  </tbody>\n",
       "</table>\n",
       "</div>"
      ],
      "text/plain": [
       "   user_id     distance   duration       date  number_month\n",
       "0        1  4409.919140  25.599769 2021-01-01             1\n",
       "1        1  2617.592153  15.816871 2021-01-18             1\n",
       "2        1   754.159807   6.232113 2021-04-20             4\n",
       "3        1  2694.783254  18.511000 2021-08-11             8\n",
       "4        1  4028.687306  26.265803 2021-08-28             8"
      ]
     },
     "execution_count": 7,
     "metadata": {},
     "output_type": "execute_result"
    }
   ],
   "source": [
    "rides_go['number_month'] = rides_go['date'].dt.month\n",
    "rides_go.head()"
   ]
  },
  {
   "cell_type": "markdown",
   "id": "1c7eb5cb",
   "metadata": {},
   "source": [
    "Далее проведем проверку на наличие явных дупликатов в датафреймах rides_go и users_go, subscriptions_go трогать не будем, так как там болько 2 строчки."
   ]
  },
  {
   "cell_type": "code",
   "execution_count": 8,
   "id": "825f5ce9",
   "metadata": {},
   "outputs": [
    {
     "data": {
      "text/plain": [
       "0"
      ]
     },
     "execution_count": 8,
     "metadata": {},
     "output_type": "execute_result"
    }
   ],
   "source": [
    "rides_go.duplicated().sum()"
   ]
  },
  {
   "cell_type": "code",
   "execution_count": 9,
   "id": "1887beb9",
   "metadata": {},
   "outputs": [
    {
     "data": {
      "text/plain": [
       "31"
      ]
     },
     "execution_count": 9,
     "metadata": {},
     "output_type": "execute_result"
    }
   ],
   "source": [
    "users_go.duplicated().sum()"
   ]
  },
  {
   "cell_type": "code",
   "execution_count": 10,
   "id": "8e188f9b",
   "metadata": {},
   "outputs": [
    {
     "data": {
      "text/plain": [
       "0"
      ]
     },
     "execution_count": 10,
     "metadata": {},
     "output_type": "execute_result"
    }
   ],
   "source": [
    "users_go = users_go.drop_duplicates()\n",
    "users_go.duplicated().sum()"
   ]
  },
  {
   "cell_type": "markdown",
   "id": "131ed445",
   "metadata": {},
   "source": [
    "В результате проверки был выявлен 31 дупликат в users_go, избавились от них с помощью метода drop_duplicates()."
   ]
  },
  {
   "cell_type": "markdown",
   "id": "81734e29",
   "metadata": {},
   "source": [
    "Далее проверим те же датафреймы на наличие неявных дупликатов."
   ]
  },
  {
   "cell_type": "code",
   "execution_count": 11,
   "id": "5b83c7ef",
   "metadata": {},
   "outputs": [
    {
     "data": {
      "text/plain": [
       "array(['Кира', 'Станислав', 'Алексей', 'Константин', 'Адель', 'Регина',\n",
       "       'Игорь', 'Юрий', 'Ян', 'Валерий', 'Агата', 'Марк', 'Ева',\n",
       "       'Антонина', 'Валерия', 'Амалия', 'Даниил', 'Аделина', 'Святогор',\n",
       "       'Борис', 'Вероника', 'Ростислав', 'Назар', 'Эдуард', 'Василий',\n",
       "       'Денис', 'Тамара', 'Николай', 'Эвелина', 'Федор', 'Руслан', 'Иван',\n",
       "       'Любовь', 'Ярослава', 'Майя', 'Ильдар', 'Данила', 'Нина',\n",
       "       'Стефания', 'Ясмина', 'Дмитрий', 'Александр', 'Одиссей', 'Арсений',\n",
       "       'Алла', 'Таисия', 'Максим', 'Юлиана', 'Павел', 'Карина', 'Алиса',\n",
       "       'Лидия', 'Рамиль', 'Родион', 'Ника', 'Оксана', 'Анастасия',\n",
       "       'Маргарита', 'Вера', 'Тимур', 'Никита', 'Лев', 'Влад', 'Артур',\n",
       "       'Анна', 'Ольга', 'Вячеслав', 'Ксения', 'Виталина', 'Владислав',\n",
       "       'Тамерлан', 'Амина', 'Вадим', 'Олеся', 'Зарина', 'Егор', 'Гордей',\n",
       "       'Лилия', 'Святослав', 'Роберт', 'Амир', 'Влада', 'Богдан',\n",
       "       'Полина', 'Марат', 'Елисей', 'Макар', 'Алина', 'Глеб', 'Андрей',\n",
       "       'Альбина', 'Людмила', 'Марсель', 'Милена', 'Диана', 'Дарина',\n",
       "       'Данил', 'Артемий', 'Лиана', 'Альберт', 'Герман', 'Жанна', 'Нелли',\n",
       "       'Евгения', 'Ариана', 'Самира', 'Захар', 'Эльвира', 'Екатерина',\n",
       "       'Инна', 'Демид', 'Яна', 'Михаил', 'Татьяна', 'Степан', 'Мелания',\n",
       "       'Тимофей', 'Ирина', 'Анжелика', 'Владислава', 'Елизавета',\n",
       "       'Мадина', 'Снежана', 'Даниэль', 'Рустам', 'Каролина', 'Ангелина',\n",
       "       'Владимир', 'Виктория', 'Валентина', 'Семен', 'Арина', 'Лариса',\n",
       "       'Есения', 'Галина', 'Кирилл', 'Игнат', 'Виталий', 'Эмилия',\n",
       "       'Виолетта', 'Яромир', 'Софья', 'Мирослава', 'Евгений', 'Варвара',\n",
       "       'Платон', 'Наталия', 'Анатолий', 'Кристина', 'Всеволод', 'Дарья',\n",
       "       'Наташа', 'Мария', 'Марина', 'Василиса', 'Юлия', 'Илья', 'Злата',\n",
       "       'Роман', 'Наталья', 'Элина', 'Арсен', 'Айдар', 'Алия', 'Виктор',\n",
       "       'Мирон', 'Ульяна', 'Георгий', 'Петр', 'Эльмира', 'Олег', 'Дамир',\n",
       "       'Самир', 'Ярослав', 'Камилла', 'Сергей', 'Эмиль', 'Радмир',\n",
       "       'Савелий', 'Елена', 'Антон', 'Мирослав', 'София', 'Тихон', 'Артём',\n",
       "       'Давид', 'Григорий', 'Алёна', 'Светлана', 'Леонид', 'Александра',\n",
       "       'Василина', 'Милана', 'Матвей'], dtype=object)"
      ]
     },
     "execution_count": 11,
     "metadata": {},
     "output_type": "execute_result"
    }
   ],
   "source": [
    "users_go['name'].unique()"
   ]
  },
  {
   "cell_type": "code",
   "execution_count": 12,
   "id": "ae700e22",
   "metadata": {},
   "outputs": [
    {
     "data": {
      "text/plain": [
       "array(['Тюмень', 'Омск', 'Москва', 'Ростов-на-Дону', 'Краснодар',\n",
       "       'Пятигорск', 'Екатеринбург', 'Сочи'], dtype=object)"
      ]
     },
     "execution_count": 12,
     "metadata": {},
     "output_type": "execute_result"
    }
   ],
   "source": [
    "users_go['city'].unique()"
   ]
  },
  {
   "cell_type": "markdown",
   "id": "34ac625b",
   "metadata": {},
   "source": [
    "По результатам проверки неявных дупликатов не было обнаружено."
   ]
  },
  {
   "cell_type": "markdown",
   "id": "6b09d0aa",
   "metadata": {},
   "source": [
    "Теперь стоит проверить наличие пропусков в этих датафреймах."
   ]
  },
  {
   "cell_type": "code",
   "execution_count": 13,
   "id": "eafeaa4c",
   "metadata": {},
   "outputs": [
    {
     "data": {
      "text/plain": [
       "user_id              0\n",
       "name                 0\n",
       "age                  0\n",
       "city                 0\n",
       "subscription_type    0\n",
       "dtype: int64"
      ]
     },
     "execution_count": 13,
     "metadata": {},
     "output_type": "execute_result"
    }
   ],
   "source": [
    "users_go.isna().sum()"
   ]
  },
  {
   "cell_type": "code",
   "execution_count": 14,
   "id": "2dab5b3c",
   "metadata": {},
   "outputs": [
    {
     "data": {
      "text/plain": [
       "user_id         0\n",
       "distance        0\n",
       "duration        0\n",
       "date            0\n",
       "number_month    0\n",
       "dtype: int64"
      ]
     },
     "execution_count": 14,
     "metadata": {},
     "output_type": "execute_result"
    }
   ],
   "source": [
    "rides_go.isna().sum()"
   ]
  },
  {
   "cell_type": "markdown",
   "id": "fe91aecb",
   "metadata": {},
   "source": [
    "Пропуски также отсутствуют."
   ]
  },
  {
   "cell_type": "markdown",
   "id": "526193cd",
   "metadata": {},
   "source": [
    "**Вывод** \n",
    "\n",
    "В разделе предобработка данных были выполнены следующие манипуляции:\n",
    "- изменение типа данных столбца 'date' на datetime64;\n",
    "- был добавлен новый столбец в DataFrame rides_go, в котором указаны номера месяца для каждой поездки\n",
    "- данные были проверены на наличие явных и неявных дупликатов, в результате в одном из датафреймов были обнаружены явные дупликаты, после чего они были удалены\n",
    "- данные были проверены на наличие пропусков"
   ]
  },
  {
   "cell_type": "code",
   "execution_count": 15,
   "id": "9eccce8e",
   "metadata": {},
   "outputs": [
    {
     "data": {
      "text/plain": [
       "Timedelta('363 days 00:00:00')"
      ]
     },
     "execution_count": 15,
     "metadata": {},
     "output_type": "execute_result"
    }
   ],
   "source": [
    "rides_go['date'].max() - rides_go['date'].min()"
   ]
  },
  {
   "cell_type": "code",
   "execution_count": 16,
   "id": "f7097f9a",
   "metadata": {
    "scrolled": true
   },
   "outputs": [
    {
     "data": {
      "text/plain": [
       "count    18068.000000\n",
       "mean      3070.659010\n",
       "std       1116.832209\n",
       "min          1.000000\n",
       "25%       2543.000000\n",
       "50%       3134.000000\n",
       "75%       3776.000000\n",
       "max       7211.000000\n",
       "Name: distance, dtype: float64"
      ]
     },
     "execution_count": 16,
     "metadata": {},
     "output_type": "execute_result"
    }
   ],
   "source": [
    "rides_go['distance'] = rides_go['distance'].round()\n",
    "rides_go['distance'].describe()"
   ]
  },
  {
   "cell_type": "code",
   "execution_count": 17,
   "id": "7c75eb92",
   "metadata": {
    "scrolled": true
   },
   "outputs": [
    {
     "data": {
      "text/plain": [
       "distance\n",
       "2690.0    15\n",
       "2788.0    16\n",
       "2923.0    16\n",
       "2998.0    17\n",
       "3021.0    15\n",
       "3054.0    15\n",
       "3115.0    18\n",
       "3131.0    15\n",
       "3153.0    16\n",
       "3155.0    15\n",
       "3163.0    17\n",
       "3251.0    15\n",
       "3272.0    19\n",
       "3337.0    15\n",
       "3359.0    17\n",
       "3393.0    17\n",
       "Name: distance, dtype: int64"
      ]
     },
     "execution_count": 17,
     "metadata": {},
     "output_type": "execute_result"
    }
   ],
   "source": [
    "x = rides_go.groupby('distance')['distance'].count()\n",
    "x[x>14]"
   ]
  },
  {
   "cell_type": "code",
   "execution_count": 18,
   "id": "a6376f87",
   "metadata": {},
   "outputs": [
    {
     "data": {
      "text/plain": [
       "distance\n",
       "1.0       1\n",
       "3.0       1\n",
       "4.0       1\n",
       "7.0       2\n",
       "11.0      1\n",
       "         ..\n",
       "6725.0    1\n",
       "6761.0    1\n",
       "6908.0    1\n",
       "7066.0    1\n",
       "7211.0    1\n",
       "Name: distance, Length: 4608, dtype: int64"
      ]
     },
     "execution_count": 18,
     "metadata": {},
     "output_type": "execute_result"
    }
   ],
   "source": [
    "x"
   ]
  },
  {
   "cell_type": "markdown",
   "id": "c6d6d534",
   "metadata": {},
   "source": [
    "<div class=\"alert alert-info\" style=\"border-radius: 10px; box-shadow: 2px 2px 2px; border: 1px solid; padding: 10px \"> \n",
    "<b>Комментарий студента</b> \n",
    "\n",
    "Данные предоставлены за периоды 363 дня, значит проблем с месяцами не должно быть.\n",
    "    \n",
    "В результате проверки столбца 'distance' к аномалиям можно отнести маленькое расстояние поездки (1, 3, 4, 7 метров и тд). В остальном аномалии отсутсвуют (нет отрицательных значений, есть повторения значений, но они присутствуют ближе к среднему, где большое скопление значений).\n",
    "</div>"
   ]
  },
  {
   "cell_type": "markdown",
   "id": "212593c7",
   "metadata": {},
   "source": [
    "#### Шаг 3. Исследовательский анализ данных"
   ]
  },
  {
   "cell_type": "code",
   "execution_count": 19,
   "id": "e3a4274c",
   "metadata": {},
   "outputs": [
    {
     "data": {
      "image/png": "[encoded data removed]",
      "text/plain": [
       "<Figure size 1008x504 with 1 Axes>"
      ]
     },
     "metadata": {
      "needs_background": "light"
     },
     "output_type": "display_data"
    }
   ],
   "source": [
    "#частота встречаемости городов\n",
    "users_go.groupby('city')['city'].count().plot(kind='bar', figsize=(14, 7))\n",
    "plt.title('Частота встречаемости городов')\n",
    "plt.xlabel('название города')\n",
    "plt.ylabel('количество упоминаний города')\n",
    "plt.show()"
   ]
  },
  {
   "cell_type": "code",
   "execution_count": 20,
   "id": "489dcfa8",
   "metadata": {},
   "outputs": [
    {
     "data": {
      "text/plain": [
       "city\n",
       "Пятигорск         0.142764\n",
       "Екатеринбург      0.132986\n",
       "Ростов-на-Дону    0.129074\n",
       "Краснодар         0.125815\n",
       "Сочи              0.123207\n",
       "Омск              0.119296\n",
       "Тюмень            0.117340\n",
       "Москва            0.109518\n",
       "Name: city, dtype: float64"
      ]
     },
     "execution_count": 20,
     "metadata": {},
     "output_type": "execute_result"
    }
   ],
   "source": [
    "(users_go.groupby('city')['city'].count()/users_go['city'].count()).sort_values(ascending = False)"
   ]
  },
  {
   "cell_type": "code",
   "execution_count": 21,
   "id": "35c404bd",
   "metadata": {},
   "outputs": [
    {
     "data": {
      "text/plain": [
       "subscription_type\n",
       "free     835\n",
       "ultra    699\n",
       "Name: subscription_type, dtype: int64"
      ]
     },
     "execution_count": 21,
     "metadata": {},
     "output_type": "execute_result"
    }
   ],
   "source": [
    "users_go.groupby('subscription_type')['subscription_type'].count()"
   ]
  },
  {
   "cell_type": "code",
   "execution_count": 22,
   "id": "efeb9ee9",
   "metadata": {},
   "outputs": [
    {
     "name": "stdout",
     "output_type": "stream",
     "text": [
      "Доля пользователей с подпиской:  0.4556714471968709\n",
      "Доля пользователей без подписки:  0.5443285528031291\n"
     ]
    }
   ],
   "source": [
    "#доля пользователей с подпиской и без подписки\n",
    "ultra = users_go.loc[users_go['subscription_type'] == 'ultra', 'subscription_type'].count()/users_go['subscription_type'].count()\n",
    "free = users_go.loc[users_go['subscription_type'] == 'free', 'subscription_type'].count()/users_go['subscription_type'].count()\n",
    "print('Доля пользователей с подпиской: ', ultra)\n",
    "print('Доля пользователей без подписки: ', free)"
   ]
  },
  {
   "cell_type": "code",
   "execution_count": 23,
   "id": "b19a0cc3",
   "metadata": {},
   "outputs": [
    {
     "data": {
      "image/png": "[encoded data removed]",
      "text/plain": [
       "<Figure size 720x720 with 1 Axes>"
      ]
     },
     "metadata": {},
     "output_type": "display_data"
    }
   ],
   "source": [
    "fig1, ax1 = plt.subplots(figsize = (10,10))\n",
    "ax1.pie([ultra, free], labels=['пользователи с подпиской', 'пользователи без подписки'], autopct='%1.1f%%')\n",
    "plt.show()"
   ]
  },
  {
   "cell_type": "code",
   "execution_count": 24,
   "id": "11206dad",
   "metadata": {},
   "outputs": [
    {
     "data": {
      "image/png": "[encoded data removed]",
      "text/plain": [
       "<Figure size 1008x504 with 1 Axes>"
      ]
     },
     "metadata": {
      "needs_background": "light"
     },
     "output_type": "display_data"
    }
   ],
   "source": [
    "#возраст пользователей\n",
    "users_go['age'].hist(bins = 30, figsize=(14, 7))\n",
    "plt.title('Распределение возраста пользователей')\n",
    "plt.xlabel('возраст')\n",
    "plt.ylabel('количество пользователей')\n",
    "plt.show()"
   ]
  },
  {
   "cell_type": "code",
   "execution_count": 25,
   "id": "df5d045f",
   "metadata": {},
   "outputs": [
    {
     "data": {
      "text/plain": [
       "count    1534.000000\n",
       "mean       24.903520\n",
       "std         4.572367\n",
       "min        12.000000\n",
       "25%        22.000000\n",
       "50%        25.000000\n",
       "75%        28.000000\n",
       "max        43.000000\n",
       "Name: age, dtype: float64"
      ]
     },
     "execution_count": 25,
     "metadata": {},
     "output_type": "execute_result"
    }
   ],
   "source": [
    "users_go['age'].describe()"
   ]
  },
  {
   "cell_type": "code",
   "execution_count": 26,
   "id": "edb74386",
   "metadata": {},
   "outputs": [
    {
     "data": {
      "image/png": "[encoded data removed]",
      "text/plain": [
       "<Figure size 1008x504 with 1 Axes>"
      ]
     },
     "metadata": {
      "needs_background": "light"
     },
     "output_type": "display_data"
    }
   ],
   "source": [
    "#дистанция, которую проехал пользователь за одну поездку\n",
    "rides_go['distance'].hist(bins = 100, figsize=(14, 7))\n",
    "plt.title('Распределение расстояния одной поездки')\n",
    "plt.xlabel('растояние, м')\n",
    "plt.ylabel('количество поездок')\n",
    "plt.show()"
   ]
  },
  {
   "cell_type": "code",
   "execution_count": 27,
   "id": "10c5f856",
   "metadata": {
    "scrolled": true
   },
   "outputs": [
    {
     "data": {
      "text/plain": [
       "count    18068.000000\n",
       "mean      3070.659010\n",
       "std       1116.832209\n",
       "min          1.000000\n",
       "25%       2543.000000\n",
       "50%       3134.000000\n",
       "75%       3776.000000\n",
       "max       7211.000000\n",
       "Name: distance, dtype: float64"
      ]
     },
     "execution_count": 27,
     "metadata": {},
     "output_type": "execute_result"
    }
   ],
   "source": [
    "rides_go['distance'].describe()"
   ]
  },
  {
   "cell_type": "code",
   "execution_count": 28,
   "id": "8a960bad",
   "metadata": {},
   "outputs": [
    {
     "data": {
      "image/png": "[encoded data removed]",
      "text/plain": [
       "<Figure size 1008x504 with 1 Axes>"
      ]
     },
     "metadata": {
      "needs_background": "light"
     },
     "output_type": "display_data"
    }
   ],
   "source": [
    "#время поездки пользователя\n",
    "rides_go['duration'].hist(bins = 200, figsize=(14, 7))\n",
    "plt.title('Распределение времени одной поездки')\n",
    "plt.xlabel('время, мин')\n",
    "plt.ylabel('количество поездок')\n",
    "plt.show()"
   ]
  },
  {
   "cell_type": "code",
   "execution_count": 29,
   "id": "7f1ba582",
   "metadata": {},
   "outputs": [
    {
     "data": {
      "text/plain": [
       "count    18068.000000\n",
       "mean        17.805011\n",
       "std          6.091051\n",
       "min          0.500000\n",
       "25%         13.597563\n",
       "50%         17.678395\n",
       "75%         21.724800\n",
       "max         40.823963\n",
       "Name: duration, dtype: float64"
      ]
     },
     "execution_count": 29,
     "metadata": {},
     "output_type": "execute_result"
    }
   ],
   "source": [
    "rides_go['duration'].describe()"
   ]
  },
  {
   "cell_type": "code",
   "execution_count": 30,
   "id": "0ffe6b2f",
   "metadata": {},
   "outputs": [
    {
     "data": {
      "text/plain": [
       "duration\n",
       "0.500000     95\n",
       "2.035632      1\n",
       "2.053251      1\n",
       "2.180879      1\n",
       "2.222598      1\n",
       "             ..\n",
       "38.265229     1\n",
       "38.352763     1\n",
       "39.526602     1\n",
       "39.873856     1\n",
       "40.823963     1\n",
       "Name: duration, Length: 17974, dtype: int64"
      ]
     },
     "execution_count": 30,
     "metadata": {},
     "output_type": "execute_result"
    }
   ],
   "source": [
    "rides_go.groupby('duration')['duration'].count()"
   ]
  },
  {
   "cell_type": "markdown",
   "id": "789c8b03",
   "metadata": {},
   "source": [
    "**Вывод**\n",
    "\n",
    "- При оценке частоты встречаемости городов по графику можно заметить, что уровень встречаемость приблизительно одинаковый для всех городов. Пятигорск встречается чаще, чем остальные, и составляет 0.142764 от всех городов, а Москва меньше всего - 0.109518.\n",
    "- Соотношение пользователей с подпиской и без подписки составляет 0.837125748502994, значит пользователей без подписки больше.\n",
    "- Судя по гистограмме больше всего пользователей в возрасте 25 лет, самый минимальный возраст составляет 12 лет, а самый максимальный 43 года. Также можно заметить, что гистограмма по возрасту пользователей подчиняется нормальному распределению.\n",
    "- По гистограмме расстояния одной поездки можно заметить две возвышенности, первая небольшая с пиком около 600 метров, а вторая возвышенность достаточно большая и её пик находится примерно на уровне 3000 метров. Также можно заметить, что гистограмма подчиняется нормальному закону рапределения.\n",
    "- Судя по гистограмме времени поездки пользователя, среднее время поездки составляет около 17 минут - это пик гистограммы. Есть странные значение равные 0.5 их 95 штук, что указывает на аномалию."
   ]
  },
  {
   "cell_type": "markdown",
   "id": "4ef51331",
   "metadata": {},
   "source": [
    "#### Шаг 4. Объединение данных"
   ]
  },
  {
   "cell_type": "markdown",
   "id": "fba029e6",
   "metadata": {},
   "source": [
    "Объединим данные в таблицах rides_go, users_go и subscriptions_go методом merge()."
   ]
  },
  {
   "cell_type": "code",
   "execution_count": 31,
   "id": "6bf288b5",
   "metadata": {},
   "outputs": [
    {
     "data": {
      "text/html": [
       "<div>\n",
       "<style scoped>\n",
       "    .dataframe tbody tr th:only-of-type {\n",
       "        vertical-align: middle;\n",
       "    }\n",
       "\n",
       "    .dataframe tbody tr th {\n",
       "        vertical-align: top;\n",
       "    }\n",
       "\n",
       "    .dataframe thead th {\n",
       "        text-align: right;\n",
       "    }\n",
       "</style>\n",
       "<table border=\"1\" class=\"dataframe\">\n",
       "  <thead>\n",
       "    <tr style=\"text-align: right;\">\n",
       "      <th></th>\n",
       "      <th>user_id</th>\n",
       "      <th>distance</th>\n",
       "      <th>duration</th>\n",
       "      <th>date</th>\n",
       "      <th>number_month</th>\n",
       "      <th>name</th>\n",
       "      <th>age</th>\n",
       "      <th>city</th>\n",
       "      <th>subscription_type</th>\n",
       "      <th>minute_price</th>\n",
       "      <th>start_ride_price</th>\n",
       "      <th>subscription_fee</th>\n",
       "    </tr>\n",
       "  </thead>\n",
       "  <tbody>\n",
       "    <tr>\n",
       "      <th>0</th>\n",
       "      <td>1</td>\n",
       "      <td>4410.0</td>\n",
       "      <td>25.599769</td>\n",
       "      <td>2021-01-01</td>\n",
       "      <td>1</td>\n",
       "      <td>Кира</td>\n",
       "      <td>22</td>\n",
       "      <td>Тюмень</td>\n",
       "      <td>ultra</td>\n",
       "      <td>6</td>\n",
       "      <td>0</td>\n",
       "      <td>199</td>\n",
       "    </tr>\n",
       "    <tr>\n",
       "      <th>1</th>\n",
       "      <td>1</td>\n",
       "      <td>2618.0</td>\n",
       "      <td>15.816871</td>\n",
       "      <td>2021-01-18</td>\n",
       "      <td>1</td>\n",
       "      <td>Кира</td>\n",
       "      <td>22</td>\n",
       "      <td>Тюмень</td>\n",
       "      <td>ultra</td>\n",
       "      <td>6</td>\n",
       "      <td>0</td>\n",
       "      <td>199</td>\n",
       "    </tr>\n",
       "    <tr>\n",
       "      <th>2</th>\n",
       "      <td>1</td>\n",
       "      <td>754.0</td>\n",
       "      <td>6.232113</td>\n",
       "      <td>2021-04-20</td>\n",
       "      <td>4</td>\n",
       "      <td>Кира</td>\n",
       "      <td>22</td>\n",
       "      <td>Тюмень</td>\n",
       "      <td>ultra</td>\n",
       "      <td>6</td>\n",
       "      <td>0</td>\n",
       "      <td>199</td>\n",
       "    </tr>\n",
       "    <tr>\n",
       "      <th>3</th>\n",
       "      <td>1</td>\n",
       "      <td>2695.0</td>\n",
       "      <td>18.511000</td>\n",
       "      <td>2021-08-11</td>\n",
       "      <td>8</td>\n",
       "      <td>Кира</td>\n",
       "      <td>22</td>\n",
       "      <td>Тюмень</td>\n",
       "      <td>ultra</td>\n",
       "      <td>6</td>\n",
       "      <td>0</td>\n",
       "      <td>199</td>\n",
       "    </tr>\n",
       "    <tr>\n",
       "      <th>4</th>\n",
       "      <td>1</td>\n",
       "      <td>4029.0</td>\n",
       "      <td>26.265803</td>\n",
       "      <td>2021-08-28</td>\n",
       "      <td>8</td>\n",
       "      <td>Кира</td>\n",
       "      <td>22</td>\n",
       "      <td>Тюмень</td>\n",
       "      <td>ultra</td>\n",
       "      <td>6</td>\n",
       "      <td>0</td>\n",
       "      <td>199</td>\n",
       "    </tr>\n",
       "    <tr>\n",
       "      <th>...</th>\n",
       "      <td>...</td>\n",
       "      <td>...</td>\n",
       "      <td>...</td>\n",
       "      <td>...</td>\n",
       "      <td>...</td>\n",
       "      <td>...</td>\n",
       "      <td>...</td>\n",
       "      <td>...</td>\n",
       "      <td>...</td>\n",
       "      <td>...</td>\n",
       "      <td>...</td>\n",
       "      <td>...</td>\n",
       "    </tr>\n",
       "    <tr>\n",
       "      <th>18063</th>\n",
       "      <td>1534</td>\n",
       "      <td>3781.0</td>\n",
       "      <td>19.822962</td>\n",
       "      <td>2021-11-04</td>\n",
       "      <td>11</td>\n",
       "      <td>Альберт</td>\n",
       "      <td>25</td>\n",
       "      <td>Краснодар</td>\n",
       "      <td>free</td>\n",
       "      <td>8</td>\n",
       "      <td>50</td>\n",
       "      <td>0</td>\n",
       "    </tr>\n",
       "    <tr>\n",
       "      <th>18064</th>\n",
       "      <td>1534</td>\n",
       "      <td>2840.0</td>\n",
       "      <td>21.409799</td>\n",
       "      <td>2021-11-16</td>\n",
       "      <td>11</td>\n",
       "      <td>Альберт</td>\n",
       "      <td>25</td>\n",
       "      <td>Краснодар</td>\n",
       "      <td>free</td>\n",
       "      <td>8</td>\n",
       "      <td>50</td>\n",
       "      <td>0</td>\n",
       "    </tr>\n",
       "    <tr>\n",
       "      <th>18065</th>\n",
       "      <td>1534</td>\n",
       "      <td>3826.0</td>\n",
       "      <td>18.435051</td>\n",
       "      <td>2021-11-18</td>\n",
       "      <td>11</td>\n",
       "      <td>Альберт</td>\n",
       "      <td>25</td>\n",
       "      <td>Краснодар</td>\n",
       "      <td>free</td>\n",
       "      <td>8</td>\n",
       "      <td>50</td>\n",
       "      <td>0</td>\n",
       "    </tr>\n",
       "    <tr>\n",
       "      <th>18066</th>\n",
       "      <td>1534</td>\n",
       "      <td>2902.0</td>\n",
       "      <td>16.674362</td>\n",
       "      <td>2021-11-27</td>\n",
       "      <td>11</td>\n",
       "      <td>Альберт</td>\n",
       "      <td>25</td>\n",
       "      <td>Краснодар</td>\n",
       "      <td>free</td>\n",
       "      <td>8</td>\n",
       "      <td>50</td>\n",
       "      <td>0</td>\n",
       "    </tr>\n",
       "    <tr>\n",
       "      <th>18067</th>\n",
       "      <td>1534</td>\n",
       "      <td>2372.0</td>\n",
       "      <td>15.893917</td>\n",
       "      <td>2021-12-29</td>\n",
       "      <td>12</td>\n",
       "      <td>Альберт</td>\n",
       "      <td>25</td>\n",
       "      <td>Краснодар</td>\n",
       "      <td>free</td>\n",
       "      <td>8</td>\n",
       "      <td>50</td>\n",
       "      <td>0</td>\n",
       "    </tr>\n",
       "  </tbody>\n",
       "</table>\n",
       "<p>18068 rows × 12 columns</p>\n",
       "</div>"
      ],
      "text/plain": [
       "       user_id  distance   duration       date  number_month     name  age  \\\n",
       "0            1    4410.0  25.599769 2021-01-01             1     Кира   22   \n",
       "1            1    2618.0  15.816871 2021-01-18             1     Кира   22   \n",
       "2            1     754.0   6.232113 2021-04-20             4     Кира   22   \n",
       "3            1    2695.0  18.511000 2021-08-11             8     Кира   22   \n",
       "4            1    4029.0  26.265803 2021-08-28             8     Кира   22   \n",
       "...        ...       ...        ...        ...           ...      ...  ...   \n",
       "18063     1534    3781.0  19.822962 2021-11-04            11  Альберт   25   \n",
       "18064     1534    2840.0  21.409799 2021-11-16            11  Альберт   25   \n",
       "18065     1534    3826.0  18.435051 2021-11-18            11  Альберт   25   \n",
       "18066     1534    2902.0  16.674362 2021-11-27            11  Альберт   25   \n",
       "18067     1534    2372.0  15.893917 2021-12-29            12  Альберт   25   \n",
       "\n",
       "            city subscription_type  minute_price  start_ride_price  \\\n",
       "0         Тюмень             ultra             6                 0   \n",
       "1         Тюмень             ultra             6                 0   \n",
       "2         Тюмень             ultra             6                 0   \n",
       "3         Тюмень             ultra             6                 0   \n",
       "4         Тюмень             ultra             6                 0   \n",
       "...          ...               ...           ...               ...   \n",
       "18063  Краснодар              free             8                50   \n",
       "18064  Краснодар              free             8                50   \n",
       "18065  Краснодар              free             8                50   \n",
       "18066  Краснодар              free             8                50   \n",
       "18067  Краснодар              free             8                50   \n",
       "\n",
       "       subscription_fee  \n",
       "0                   199  \n",
       "1                   199  \n",
       "2                   199  \n",
       "3                   199  \n",
       "4                   199  \n",
       "...                 ...  \n",
       "18063                 0  \n",
       "18064                 0  \n",
       "18065                 0  \n",
       "18066                 0  \n",
       "18067                 0  \n",
       "\n",
       "[18068 rows x 12 columns]"
      ]
     },
     "execution_count": 31,
     "metadata": {},
     "output_type": "execute_result"
    }
   ],
   "source": [
    "new_data = rides_go.merge(users_go).merge(subscriptions_go)\n",
    "new_data"
   ]
  },
  {
   "cell_type": "code",
   "execution_count": 32,
   "id": "8552a2a7",
   "metadata": {},
   "outputs": [
    {
     "name": "stdout",
     "output_type": "stream",
     "text": [
      "До преобразования \"rides_go\":  (18068, 5)\n",
      "До преобразования \"users_go\":  (1534, 5)\n",
      "До преобразования \"subscriptions_go\":  (2, 4)\n",
      "После преобразования:  (18068, 12)\n"
     ]
    }
   ],
   "source": [
    "do_preobr_rides = rides_go.shape\n",
    "do_preobr_users = users_go.shape\n",
    "do_preobr_subscriptions = subscriptions_go.shape\n",
    "posle_preobr = new_data.shape\n",
    "print('До преобразования \"rides_go\": ',do_preobr_rides)\n",
    "print('До преобразования \"users_go\": ',do_preobr_users)\n",
    "print('До преобразования \"subscriptions_go\": ',do_preobr_subscriptions)\n",
    "print('После преобразования: ',posle_preobr)"
   ]
  },
  {
   "cell_type": "code",
   "execution_count": 33,
   "id": "5577d576",
   "metadata": {},
   "outputs": [
    {
     "data": {
      "text/plain": [
       "user_id              0\n",
       "distance             0\n",
       "duration             0\n",
       "date                 0\n",
       "number_month         0\n",
       "name                 0\n",
       "age                  0\n",
       "city                 0\n",
       "subscription_type    0\n",
       "minute_price         0\n",
       "start_ride_price     0\n",
       "subscription_fee     0\n",
       "dtype: int64"
      ]
     },
     "execution_count": 33,
     "metadata": {},
     "output_type": "execute_result"
    }
   ],
   "source": [
    "new_data.isna().sum()"
   ]
  },
  {
   "cell_type": "markdown",
   "id": "31f3a425",
   "metadata": {},
   "source": [
    "<div class=\"alert alert-info\" style=\"border-radius: 10px; box-shadow: 2px 2px 2px; border: 1px solid; padding: 10px \"> \n",
    "<b>Комментарий студента</b> \n",
    "    \n",
    "В результате объединения таблиц был получен датасет с количеством строк равным изначальному датасету, к которому присоединяли остальные таблицы (18068). А количество с столбцов с каждом объединение увеличивалось. После объединения таблиц rides_go и users_go количество столбцов стало равным 9 (один столбец общий, по нему происходило объединение user_id). После объединения датасета из предыдущего шага и subscriptions_go количество столбцов стало равным 12, также есть один общий столбец (subscription_type).\n",
    "    \n",
    "После объединения пропуски отсутствуют.\n",
    "</div>"
   ]
  },
  {
   "cell_type": "markdown",
   "id": "3acab189",
   "metadata": {},
   "source": [
    "Разделим получившийся датафрейм на 2: c данными о пользователях без подписки, с данными о пользователях с подпиской."
   ]
  },
  {
   "cell_type": "code",
   "execution_count": 34,
   "id": "b54950be",
   "metadata": {},
   "outputs": [
    {
     "data": {
      "text/html": [
       "<div>\n",
       "<style scoped>\n",
       "    .dataframe tbody tr th:only-of-type {\n",
       "        vertical-align: middle;\n",
       "    }\n",
       "\n",
       "    .dataframe tbody tr th {\n",
       "        vertical-align: top;\n",
       "    }\n",
       "\n",
       "    .dataframe thead th {\n",
       "        text-align: right;\n",
       "    }\n",
       "</style>\n",
       "<table border=\"1\" class=\"dataframe\">\n",
       "  <thead>\n",
       "    <tr style=\"text-align: right;\">\n",
       "      <th></th>\n",
       "      <th>user_id</th>\n",
       "      <th>distance</th>\n",
       "      <th>duration</th>\n",
       "      <th>date</th>\n",
       "      <th>number_month</th>\n",
       "      <th>name</th>\n",
       "      <th>age</th>\n",
       "      <th>city</th>\n",
       "      <th>subscription_type</th>\n",
       "      <th>minute_price</th>\n",
       "      <th>start_ride_price</th>\n",
       "      <th>subscription_fee</th>\n",
       "    </tr>\n",
       "  </thead>\n",
       "  <tbody>\n",
       "    <tr>\n",
       "      <th>0</th>\n",
       "      <td>1</td>\n",
       "      <td>4410.0</td>\n",
       "      <td>25.599769</td>\n",
       "      <td>2021-01-01</td>\n",
       "      <td>1</td>\n",
       "      <td>Кира</td>\n",
       "      <td>22</td>\n",
       "      <td>Тюмень</td>\n",
       "      <td>ultra</td>\n",
       "      <td>6</td>\n",
       "      <td>0</td>\n",
       "      <td>199</td>\n",
       "    </tr>\n",
       "    <tr>\n",
       "      <th>1</th>\n",
       "      <td>1</td>\n",
       "      <td>2618.0</td>\n",
       "      <td>15.816871</td>\n",
       "      <td>2021-01-18</td>\n",
       "      <td>1</td>\n",
       "      <td>Кира</td>\n",
       "      <td>22</td>\n",
       "      <td>Тюмень</td>\n",
       "      <td>ultra</td>\n",
       "      <td>6</td>\n",
       "      <td>0</td>\n",
       "      <td>199</td>\n",
       "    </tr>\n",
       "    <tr>\n",
       "      <th>2</th>\n",
       "      <td>1</td>\n",
       "      <td>754.0</td>\n",
       "      <td>6.232113</td>\n",
       "      <td>2021-04-20</td>\n",
       "      <td>4</td>\n",
       "      <td>Кира</td>\n",
       "      <td>22</td>\n",
       "      <td>Тюмень</td>\n",
       "      <td>ultra</td>\n",
       "      <td>6</td>\n",
       "      <td>0</td>\n",
       "      <td>199</td>\n",
       "    </tr>\n",
       "    <tr>\n",
       "      <th>3</th>\n",
       "      <td>1</td>\n",
       "      <td>2695.0</td>\n",
       "      <td>18.511000</td>\n",
       "      <td>2021-08-11</td>\n",
       "      <td>8</td>\n",
       "      <td>Кира</td>\n",
       "      <td>22</td>\n",
       "      <td>Тюмень</td>\n",
       "      <td>ultra</td>\n",
       "      <td>6</td>\n",
       "      <td>0</td>\n",
       "      <td>199</td>\n",
       "    </tr>\n",
       "    <tr>\n",
       "      <th>4</th>\n",
       "      <td>1</td>\n",
       "      <td>4029.0</td>\n",
       "      <td>26.265803</td>\n",
       "      <td>2021-08-28</td>\n",
       "      <td>8</td>\n",
       "      <td>Кира</td>\n",
       "      <td>22</td>\n",
       "      <td>Тюмень</td>\n",
       "      <td>ultra</td>\n",
       "      <td>6</td>\n",
       "      <td>0</td>\n",
       "      <td>199</td>\n",
       "    </tr>\n",
       "  </tbody>\n",
       "</table>\n",
       "</div>"
      ],
      "text/plain": [
       "   user_id  distance   duration       date  number_month  name  age    city  \\\n",
       "0        1    4410.0  25.599769 2021-01-01             1  Кира   22  Тюмень   \n",
       "1        1    2618.0  15.816871 2021-01-18             1  Кира   22  Тюмень   \n",
       "2        1     754.0   6.232113 2021-04-20             4  Кира   22  Тюмень   \n",
       "3        1    2695.0  18.511000 2021-08-11             8  Кира   22  Тюмень   \n",
       "4        1    4029.0  26.265803 2021-08-28             8  Кира   22  Тюмень   \n",
       "\n",
       "  subscription_type  minute_price  start_ride_price  subscription_fee  \n",
       "0             ultra             6                 0               199  \n",
       "1             ultra             6                 0               199  \n",
       "2             ultra             6                 0               199  \n",
       "3             ultra             6                 0               199  \n",
       "4             ultra             6                 0               199  "
      ]
     },
     "metadata": {},
     "output_type": "display_data"
    },
    {
     "data": {
      "text/html": [
       "<div>\n",
       "<style scoped>\n",
       "    .dataframe tbody tr th:only-of-type {\n",
       "        vertical-align: middle;\n",
       "    }\n",
       "\n",
       "    .dataframe tbody tr th {\n",
       "        vertical-align: top;\n",
       "    }\n",
       "\n",
       "    .dataframe thead th {\n",
       "        text-align: right;\n",
       "    }\n",
       "</style>\n",
       "<table border=\"1\" class=\"dataframe\">\n",
       "  <thead>\n",
       "    <tr style=\"text-align: right;\">\n",
       "      <th></th>\n",
       "      <th>user_id</th>\n",
       "      <th>distance</th>\n",
       "      <th>duration</th>\n",
       "      <th>date</th>\n",
       "      <th>number_month</th>\n",
       "      <th>name</th>\n",
       "      <th>age</th>\n",
       "      <th>city</th>\n",
       "      <th>subscription_type</th>\n",
       "      <th>minute_price</th>\n",
       "      <th>start_ride_price</th>\n",
       "      <th>subscription_fee</th>\n",
       "    </tr>\n",
       "  </thead>\n",
       "  <tbody>\n",
       "    <tr>\n",
       "      <th>0</th>\n",
       "      <td>700</td>\n",
       "      <td>2516.0</td>\n",
       "      <td>14.944286</td>\n",
       "      <td>2021-01-02</td>\n",
       "      <td>1</td>\n",
       "      <td>Айдар</td>\n",
       "      <td>22</td>\n",
       "      <td>Омск</td>\n",
       "      <td>free</td>\n",
       "      <td>8</td>\n",
       "      <td>50</td>\n",
       "      <td>0</td>\n",
       "    </tr>\n",
       "    <tr>\n",
       "      <th>1</th>\n",
       "      <td>700</td>\n",
       "      <td>847.0</td>\n",
       "      <td>16.234663</td>\n",
       "      <td>2021-02-01</td>\n",
       "      <td>2</td>\n",
       "      <td>Айдар</td>\n",
       "      <td>22</td>\n",
       "      <td>Омск</td>\n",
       "      <td>free</td>\n",
       "      <td>8</td>\n",
       "      <td>50</td>\n",
       "      <td>0</td>\n",
       "    </tr>\n",
       "    <tr>\n",
       "      <th>2</th>\n",
       "      <td>700</td>\n",
       "      <td>4004.0</td>\n",
       "      <td>20.016628</td>\n",
       "      <td>2021-02-04</td>\n",
       "      <td>2</td>\n",
       "      <td>Айдар</td>\n",
       "      <td>22</td>\n",
       "      <td>Омск</td>\n",
       "      <td>free</td>\n",
       "      <td>8</td>\n",
       "      <td>50</td>\n",
       "      <td>0</td>\n",
       "    </tr>\n",
       "    <tr>\n",
       "      <th>3</th>\n",
       "      <td>700</td>\n",
       "      <td>1206.0</td>\n",
       "      <td>9.782872</td>\n",
       "      <td>2021-02-10</td>\n",
       "      <td>2</td>\n",
       "      <td>Айдар</td>\n",
       "      <td>22</td>\n",
       "      <td>Омск</td>\n",
       "      <td>free</td>\n",
       "      <td>8</td>\n",
       "      <td>50</td>\n",
       "      <td>0</td>\n",
       "    </tr>\n",
       "    <tr>\n",
       "      <th>4</th>\n",
       "      <td>700</td>\n",
       "      <td>3047.0</td>\n",
       "      <td>17.427673</td>\n",
       "      <td>2021-02-14</td>\n",
       "      <td>2</td>\n",
       "      <td>Айдар</td>\n",
       "      <td>22</td>\n",
       "      <td>Омск</td>\n",
       "      <td>free</td>\n",
       "      <td>8</td>\n",
       "      <td>50</td>\n",
       "      <td>0</td>\n",
       "    </tr>\n",
       "  </tbody>\n",
       "</table>\n",
       "</div>"
      ],
      "text/plain": [
       "   user_id  distance   duration       date  number_month   name  age  city  \\\n",
       "0      700    2516.0  14.944286 2021-01-02             1  Айдар   22  Омск   \n",
       "1      700     847.0  16.234663 2021-02-01             2  Айдар   22  Омск   \n",
       "2      700    4004.0  20.016628 2021-02-04             2  Айдар   22  Омск   \n",
       "3      700    1206.0   9.782872 2021-02-10             2  Айдар   22  Омск   \n",
       "4      700    3047.0  17.427673 2021-02-14             2  Айдар   22  Омск   \n",
       "\n",
       "  subscription_type  minute_price  start_ride_price  subscription_fee  \n",
       "0              free             8                50                 0  \n",
       "1              free             8                50                 0  \n",
       "2              free             8                50                 0  \n",
       "3              free             8                50                 0  \n",
       "4              free             8                50                 0  "
      ]
     },
     "metadata": {},
     "output_type": "display_data"
    }
   ],
   "source": [
    "#с данными о пользователях с подпиской\n",
    "data_ultra = new_data[new_data['subscription_type'] == 'ultra']\n",
    "data_ultra = data_ultra.reset_index(drop=True)\n",
    "#с данными о пользователях без подписки\n",
    "data_free = new_data[new_data['subscription_type'] == 'free']\n",
    "data_free = data_free.reset_index(drop=True)\n",
    "display(data_ultra.head())\n",
    "display(data_free.head())"
   ]
  },
  {
   "cell_type": "markdown",
   "id": "d1757d75",
   "metadata": {},
   "source": [
    "Теперь визуализируем время и дистанцию поездок для каждого датафрейма и сравним их."
   ]
  },
  {
   "cell_type": "code",
   "execution_count": 35,
   "id": "047775d8",
   "metadata": {},
   "outputs": [
    {
     "data": {
      "image/png": "[encoded data removed]",
      "text/plain": [
       "<Figure size 1008x504 with 1 Axes>"
      ]
     },
     "metadata": {
      "needs_background": "light"
     },
     "output_type": "display_data"
    }
   ],
   "source": [
    "data_free['duration'].plot(kind = 'hist', grid=True, figsize = (14,7), bins = 100, label='без подписки')\n",
    "data_ultra['duration'].plot(kind = 'hist', grid=True, figsize = (14,7), bins = 100, label='с подпиской Ultra')\n",
    "plt.title('Время одной поездки для пользователей с подпиской и без')\n",
    "plt.xlabel('время, мин')\n",
    "plt.ylabel('количество пользователей')\n",
    "plt.legend(loc='upper right')\n",
    "plt.show()"
   ]
  },
  {
   "cell_type": "code",
   "execution_count": 36,
   "id": "12f9aa19",
   "metadata": {},
   "outputs": [
    {
     "name": "stdout",
     "output_type": "stream",
     "text": [
      "Для датасета с подпиской\n",
      "count    6500.000000\n",
      "mean       18.541985\n",
      "std         5.572048\n",
      "min         3.760353\n",
      "25%        14.524654\n",
      "50%        18.178153\n",
      "75%        21.884129\n",
      "max        40.823963\n",
      "Name: duration, dtype: float64 \n",
      "\n",
      "Для датасета без подпиской\n",
      "count    11568.000000\n",
      "mean        17.390909\n",
      "std          6.326803\n",
      "min          0.500000\n",
      "25%         12.958437\n",
      "50%         17.326890\n",
      "75%         21.594071\n",
      "max         34.948498\n",
      "Name: duration, dtype: float64\n"
     ]
    }
   ],
   "source": [
    "print(\"Для датасета с подпиской\")\n",
    "print(data_ultra['duration'].describe(),'\\n')\n",
    "print(\"Для датасета без подпиской\")\n",
    "print(data_free['duration'].describe())"
   ]
  },
  {
   "cell_type": "code",
   "execution_count": 37,
   "id": "39a63200",
   "metadata": {},
   "outputs": [
    {
     "data": {
      "image/png": "[encoded data removed]",
      "text/plain": [
       "<Figure size 1008x504 with 1 Axes>"
      ]
     },
     "metadata": {
      "needs_background": "light"
     },
     "output_type": "display_data"
    }
   ],
   "source": [
    "data_free['distance'].plot(kind = 'hist', grid=True, figsize = (14,7), bins = 100, label='без подписки')\n",
    "data_ultra['distance'].plot(kind = 'hist', grid=True, figsize = (14,7), bins = 100, label='с подпиской Ultra')\n",
    "plt.title('Расстояние одной поездки для пользователей с подпиской и без')\n",
    "plt.xlabel('расстояние, м')\n",
    "plt.ylabel('количество пользователей')\n",
    "plt.legend(loc='upper right')\n",
    "plt.show()"
   ]
  },
  {
   "cell_type": "code",
   "execution_count": 38,
   "id": "a2275a8b",
   "metadata": {},
   "outputs": [
    {
     "name": "stdout",
     "output_type": "stream",
     "text": [
      "Для датасета с подпиской\n",
      "count    6500.000000\n",
      "mean     3115.443385\n",
      "std       836.898137\n",
      "min       244.000000\n",
      "25%      2785.000000\n",
      "50%      3149.000000\n",
      "75%      3561.000000\n",
      "max      5700.000000\n",
      "Name: distance, dtype: float64 \n",
      "\n",
      "Для датасета без подпиской\n",
      "count    11568.00000\n",
      "mean      3045.49490\n",
      "std       1246.17418\n",
      "min          1.00000\n",
      "25%       2367.00000\n",
      "50%       3115.00000\n",
      "75%       3906.00000\n",
      "max       7211.00000\n",
      "Name: distance, dtype: float64\n"
     ]
    }
   ],
   "source": [
    "print(\"Для датасета с подпиской\")\n",
    "print(data_ultra['distance'].describe(),'\\n')\n",
    "print(\"Для датасета без подпиской\")\n",
    "print(data_free['distance'].describe())"
   ]
  },
  {
   "cell_type": "markdown",
   "id": "73a4219f",
   "metadata": {},
   "source": [
    "**Вывод**\n",
    "- Были объединены все 3 датасета в один\n",
    "- Были получены два новых датасета пользователей с подпиской и без подписки\n",
    "- Были визуализированы данные для времени и расстояния поездки для двух датасетов. По полученным графикам сразу можно сделать вывод, что аномальные значения 0.5 для времени находятся в датасете с людьми без подписки. Также разброс данных для людей без подписки больше, как и само количество поездок."
   ]
  },
  {
   "cell_type": "markdown",
   "id": "402d620f",
   "metadata": {},
   "source": [
    "#### Шаг 5. Подсчёт выручки"
   ]
  },
  {
   "cell_type": "markdown",
   "id": "5a2da425",
   "metadata": {},
   "source": [
    "Найдём суммарное расстояние, количество поездок и суммарное время для каждого пользователя за каждый месяц."
   ]
  },
  {
   "cell_type": "code",
   "execution_count": 39,
   "id": "64aa3c88",
   "metadata": {},
   "outputs": [
    {
     "data": {
      "text/html": [
       "<div>\n",
       "<style scoped>\n",
       "    .dataframe tbody tr th:only-of-type {\n",
       "        vertical-align: middle;\n",
       "    }\n",
       "\n",
       "    .dataframe tbody tr th {\n",
       "        vertical-align: top;\n",
       "    }\n",
       "\n",
       "    .dataframe thead th {\n",
       "        text-align: right;\n",
       "    }\n",
       "</style>\n",
       "<table border=\"1\" class=\"dataframe\">\n",
       "  <thead>\n",
       "    <tr style=\"text-align: right;\">\n",
       "      <th></th>\n",
       "      <th></th>\n",
       "      <th>count_of_trips</th>\n",
       "      <th>sum_distance</th>\n",
       "      <th>sum_duration</th>\n",
       "      <th>minute_price</th>\n",
       "      <th>start_ride_price</th>\n",
       "      <th>subscription_fee</th>\n",
       "      <th>tariff</th>\n",
       "    </tr>\n",
       "    <tr>\n",
       "      <th>user_id</th>\n",
       "      <th>number_month</th>\n",
       "      <th></th>\n",
       "      <th></th>\n",
       "      <th></th>\n",
       "      <th></th>\n",
       "      <th></th>\n",
       "      <th></th>\n",
       "      <th></th>\n",
       "    </tr>\n",
       "  </thead>\n",
       "  <tbody>\n",
       "    <tr>\n",
       "      <th rowspan=\"5\" valign=\"top\">1</th>\n",
       "      <th>1</th>\n",
       "      <td>2</td>\n",
       "      <td>7028.0</td>\n",
       "      <td>42</td>\n",
       "      <td>6</td>\n",
       "      <td>0</td>\n",
       "      <td>199</td>\n",
       "      <td>ultra</td>\n",
       "    </tr>\n",
       "    <tr>\n",
       "      <th>4</th>\n",
       "      <td>1</td>\n",
       "      <td>754.0</td>\n",
       "      <td>7</td>\n",
       "      <td>6</td>\n",
       "      <td>0</td>\n",
       "      <td>199</td>\n",
       "      <td>ultra</td>\n",
       "    </tr>\n",
       "    <tr>\n",
       "      <th>8</th>\n",
       "      <td>2</td>\n",
       "      <td>6724.0</td>\n",
       "      <td>45</td>\n",
       "      <td>6</td>\n",
       "      <td>0</td>\n",
       "      <td>199</td>\n",
       "      <td>ultra</td>\n",
       "    </tr>\n",
       "    <tr>\n",
       "      <th>10</th>\n",
       "      <td>2</td>\n",
       "      <td>5810.0</td>\n",
       "      <td>32</td>\n",
       "      <td>6</td>\n",
       "      <td>0</td>\n",
       "      <td>199</td>\n",
       "      <td>ultra</td>\n",
       "    </tr>\n",
       "    <tr>\n",
       "      <th>11</th>\n",
       "      <td>3</td>\n",
       "      <td>7004.0</td>\n",
       "      <td>54</td>\n",
       "      <td>6</td>\n",
       "      <td>0</td>\n",
       "      <td>199</td>\n",
       "      <td>ultra</td>\n",
       "    </tr>\n",
       "    <tr>\n",
       "      <th>...</th>\n",
       "      <th>...</th>\n",
       "      <td>...</td>\n",
       "      <td>...</td>\n",
       "      <td>...</td>\n",
       "      <td>...</td>\n",
       "      <td>...</td>\n",
       "      <td>...</td>\n",
       "      <td>...</td>\n",
       "    </tr>\n",
       "    <tr>\n",
       "      <th rowspan=\"5\" valign=\"top\">1534</th>\n",
       "      <th>6</th>\n",
       "      <td>2</td>\n",
       "      <td>3409.0</td>\n",
       "      <td>25</td>\n",
       "      <td>8</td>\n",
       "      <td>50</td>\n",
       "      <td>0</td>\n",
       "      <td>free</td>\n",
       "    </tr>\n",
       "    <tr>\n",
       "      <th>8</th>\n",
       "      <td>2</td>\n",
       "      <td>7623.0</td>\n",
       "      <td>48</td>\n",
       "      <td>8</td>\n",
       "      <td>50</td>\n",
       "      <td>0</td>\n",
       "      <td>free</td>\n",
       "    </tr>\n",
       "    <tr>\n",
       "      <th>9</th>\n",
       "      <td>1</td>\n",
       "      <td>4928.0</td>\n",
       "      <td>23</td>\n",
       "      <td>8</td>\n",
       "      <td>50</td>\n",
       "      <td>0</td>\n",
       "      <td>free</td>\n",
       "    </tr>\n",
       "    <tr>\n",
       "      <th>11</th>\n",
       "      <td>4</td>\n",
       "      <td>13349.0</td>\n",
       "      <td>77</td>\n",
       "      <td>8</td>\n",
       "      <td>50</td>\n",
       "      <td>0</td>\n",
       "      <td>free</td>\n",
       "    </tr>\n",
       "    <tr>\n",
       "      <th>12</th>\n",
       "      <td>1</td>\n",
       "      <td>2372.0</td>\n",
       "      <td>16</td>\n",
       "      <td>8</td>\n",
       "      <td>50</td>\n",
       "      <td>0</td>\n",
       "      <td>free</td>\n",
       "    </tr>\n",
       "  </tbody>\n",
       "</table>\n",
       "<p>11331 rows × 7 columns</p>\n",
       "</div>"
      ],
      "text/plain": [
       "                      count_of_trips  sum_distance  sum_duration  \\\n",
       "user_id number_month                                               \n",
       "1       1                          2        7028.0            42   \n",
       "        4                          1         754.0             7   \n",
       "        8                          2        6724.0            45   \n",
       "        10                         2        5810.0            32   \n",
       "        11                         3        7004.0            54   \n",
       "...                              ...           ...           ...   \n",
       "1534    6                          2        3409.0            25   \n",
       "        8                          2        7623.0            48   \n",
       "        9                          1        4928.0            23   \n",
       "        11                         4       13349.0            77   \n",
       "        12                         1        2372.0            16   \n",
       "\n",
       "                      minute_price  start_ride_price  subscription_fee tariff  \n",
       "user_id number_month                                                           \n",
       "1       1                        6                 0               199  ultra  \n",
       "        4                        6                 0               199  ultra  \n",
       "        8                        6                 0               199  ultra  \n",
       "        10                       6                 0               199  ultra  \n",
       "        11                       6                 0               199  ultra  \n",
       "...                            ...               ...               ...    ...  \n",
       "1534    6                        8                50                 0   free  \n",
       "        8                        8                50                 0   free  \n",
       "        9                        8                50                 0   free  \n",
       "        11                       8                50                 0   free  \n",
       "        12                       8                50                 0   free  \n",
       "\n",
       "[11331 rows x 7 columns]"
      ]
     },
     "execution_count": 39,
     "metadata": {},
     "output_type": "execute_result"
    }
   ],
   "source": [
    "data = new_data.pivot_table(index= ['user_id', 'number_month'], values = ['minute_price', 'start_ride_price', 'subscription_fee', 'distance', 'duration'], aggfunc = ['count', 'sum', 'mean'])\n",
    "data.columns = [\"_\".join((j,k)) for j,k in data.columns]\n",
    "data = data.drop(['count_distance','count_minute_price','count_start_ride_price','count_subscription_fee', 'sum_minute_price', 'sum_start_ride_price', 'sum_subscription_fee', 'mean_distance', 'mean_duration'], axis=1)\n",
    "data = data.rename(columns = {'count_duration': 'count_of_trips','mean_minute_price':'minute_price','mean_start_ride_price':'start_ride_price','mean_subscription_fee':'subscription_fee'})\n",
    "data.loc[data['subscription_fee'] == 199, 'tariff'] = 'ultra'\n",
    "data.loc[data['subscription_fee'] == 0, 'tariff'] = 'free'\n",
    "data['sum_duration'] = np.ceil(data['sum_duration']).astype('int')\n",
    "data"
   ]
  },
  {
   "cell_type": "markdown",
   "id": "1ca5729b",
   "metadata": {},
   "source": [
    "Также были добавлены столбцы с информацией о тарифах для людей с подпиской и без подписки.\n",
    "\n",
    "Далее высчитаем помесячную выручку для каждого пользователя."
   ]
  },
  {
   "cell_type": "code",
   "execution_count": 40,
   "id": "e6633ace",
   "metadata": {},
   "outputs": [
    {
     "data": {
      "text/html": [
       "<div>\n",
       "<style scoped>\n",
       "    .dataframe tbody tr th:only-of-type {\n",
       "        vertical-align: middle;\n",
       "    }\n",
       "\n",
       "    .dataframe tbody tr th {\n",
       "        vertical-align: top;\n",
       "    }\n",
       "\n",
       "    .dataframe thead th {\n",
       "        text-align: right;\n",
       "    }\n",
       "</style>\n",
       "<table border=\"1\" class=\"dataframe\">\n",
       "  <thead>\n",
       "    <tr style=\"text-align: right;\">\n",
       "      <th></th>\n",
       "      <th></th>\n",
       "      <th>count_of_trips</th>\n",
       "      <th>sum_distance</th>\n",
       "      <th>sum_duration</th>\n",
       "      <th>minute_price</th>\n",
       "      <th>start_ride_price</th>\n",
       "      <th>subscription_fee</th>\n",
       "      <th>tariff</th>\n",
       "      <th>month_revenue</th>\n",
       "    </tr>\n",
       "    <tr>\n",
       "      <th>user_id</th>\n",
       "      <th>number_month</th>\n",
       "      <th></th>\n",
       "      <th></th>\n",
       "      <th></th>\n",
       "      <th></th>\n",
       "      <th></th>\n",
       "      <th></th>\n",
       "      <th></th>\n",
       "      <th></th>\n",
       "    </tr>\n",
       "  </thead>\n",
       "  <tbody>\n",
       "    <tr>\n",
       "      <th rowspan=\"5\" valign=\"top\">1</th>\n",
       "      <th>1</th>\n",
       "      <td>2</td>\n",
       "      <td>7028.0</td>\n",
       "      <td>42</td>\n",
       "      <td>6</td>\n",
       "      <td>0</td>\n",
       "      <td>199</td>\n",
       "      <td>ultra</td>\n",
       "      <td>451</td>\n",
       "    </tr>\n",
       "    <tr>\n",
       "      <th>4</th>\n",
       "      <td>1</td>\n",
       "      <td>754.0</td>\n",
       "      <td>7</td>\n",
       "      <td>6</td>\n",
       "      <td>0</td>\n",
       "      <td>199</td>\n",
       "      <td>ultra</td>\n",
       "      <td>241</td>\n",
       "    </tr>\n",
       "    <tr>\n",
       "      <th>8</th>\n",
       "      <td>2</td>\n",
       "      <td>6724.0</td>\n",
       "      <td>45</td>\n",
       "      <td>6</td>\n",
       "      <td>0</td>\n",
       "      <td>199</td>\n",
       "      <td>ultra</td>\n",
       "      <td>469</td>\n",
       "    </tr>\n",
       "    <tr>\n",
       "      <th>10</th>\n",
       "      <td>2</td>\n",
       "      <td>5810.0</td>\n",
       "      <td>32</td>\n",
       "      <td>6</td>\n",
       "      <td>0</td>\n",
       "      <td>199</td>\n",
       "      <td>ultra</td>\n",
       "      <td>391</td>\n",
       "    </tr>\n",
       "    <tr>\n",
       "      <th>11</th>\n",
       "      <td>3</td>\n",
       "      <td>7004.0</td>\n",
       "      <td>54</td>\n",
       "      <td>6</td>\n",
       "      <td>0</td>\n",
       "      <td>199</td>\n",
       "      <td>ultra</td>\n",
       "      <td>523</td>\n",
       "    </tr>\n",
       "    <tr>\n",
       "      <th>...</th>\n",
       "      <th>...</th>\n",
       "      <td>...</td>\n",
       "      <td>...</td>\n",
       "      <td>...</td>\n",
       "      <td>...</td>\n",
       "      <td>...</td>\n",
       "      <td>...</td>\n",
       "      <td>...</td>\n",
       "      <td>...</td>\n",
       "    </tr>\n",
       "    <tr>\n",
       "      <th rowspan=\"5\" valign=\"top\">1534</th>\n",
       "      <th>6</th>\n",
       "      <td>2</td>\n",
       "      <td>3409.0</td>\n",
       "      <td>25</td>\n",
       "      <td>8</td>\n",
       "      <td>50</td>\n",
       "      <td>0</td>\n",
       "      <td>free</td>\n",
       "      <td>300</td>\n",
       "    </tr>\n",
       "    <tr>\n",
       "      <th>8</th>\n",
       "      <td>2</td>\n",
       "      <td>7623.0</td>\n",
       "      <td>48</td>\n",
       "      <td>8</td>\n",
       "      <td>50</td>\n",
       "      <td>0</td>\n",
       "      <td>free</td>\n",
       "      <td>484</td>\n",
       "    </tr>\n",
       "    <tr>\n",
       "      <th>9</th>\n",
       "      <td>1</td>\n",
       "      <td>4928.0</td>\n",
       "      <td>23</td>\n",
       "      <td>8</td>\n",
       "      <td>50</td>\n",
       "      <td>0</td>\n",
       "      <td>free</td>\n",
       "      <td>234</td>\n",
       "    </tr>\n",
       "    <tr>\n",
       "      <th>11</th>\n",
       "      <td>4</td>\n",
       "      <td>13349.0</td>\n",
       "      <td>77</td>\n",
       "      <td>8</td>\n",
       "      <td>50</td>\n",
       "      <td>0</td>\n",
       "      <td>free</td>\n",
       "      <td>816</td>\n",
       "    </tr>\n",
       "    <tr>\n",
       "      <th>12</th>\n",
       "      <td>1</td>\n",
       "      <td>2372.0</td>\n",
       "      <td>16</td>\n",
       "      <td>8</td>\n",
       "      <td>50</td>\n",
       "      <td>0</td>\n",
       "      <td>free</td>\n",
       "      <td>178</td>\n",
       "    </tr>\n",
       "  </tbody>\n",
       "</table>\n",
       "<p>11331 rows × 8 columns</p>\n",
       "</div>"
      ],
      "text/plain": [
       "                      count_of_trips  sum_distance  sum_duration  \\\n",
       "user_id number_month                                               \n",
       "1       1                          2        7028.0            42   \n",
       "        4                          1         754.0             7   \n",
       "        8                          2        6724.0            45   \n",
       "        10                         2        5810.0            32   \n",
       "        11                         3        7004.0            54   \n",
       "...                              ...           ...           ...   \n",
       "1534    6                          2        3409.0            25   \n",
       "        8                          2        7623.0            48   \n",
       "        9                          1        4928.0            23   \n",
       "        11                         4       13349.0            77   \n",
       "        12                         1        2372.0            16   \n",
       "\n",
       "                      minute_price  start_ride_price  subscription_fee tariff  \\\n",
       "user_id number_month                                                            \n",
       "1       1                        6                 0               199  ultra   \n",
       "        4                        6                 0               199  ultra   \n",
       "        8                        6                 0               199  ultra   \n",
       "        10                       6                 0               199  ultra   \n",
       "        11                       6                 0               199  ultra   \n",
       "...                            ...               ...               ...    ...   \n",
       "1534    6                        8                50                 0   free   \n",
       "        8                        8                50                 0   free   \n",
       "        9                        8                50                 0   free   \n",
       "        11                       8                50                 0   free   \n",
       "        12                       8                50                 0   free   \n",
       "\n",
       "                      month_revenue  \n",
       "user_id number_month                 \n",
       "1       1                       451  \n",
       "        4                       241  \n",
       "        8                       469  \n",
       "        10                      391  \n",
       "        11                      523  \n",
       "...                             ...  \n",
       "1534    6                       300  \n",
       "        8                       484  \n",
       "        9                       234  \n",
       "        11                      816  \n",
       "        12                      178  \n",
       "\n",
       "[11331 rows x 8 columns]"
      ]
     },
     "execution_count": 40,
     "metadata": {},
     "output_type": "execute_result"
    }
   ],
   "source": [
    "data['month_revenue'] = (data['count_of_trips']*data['start_ride_price']\n",
    "                                                   +data['minute_price']*data['sum_duration']\n",
    "                                                   +data['subscription_fee'])\n",
    "data"
   ]
  },
  {
   "cell_type": "markdown",
   "id": "41545ac0",
   "metadata": {},
   "source": [
    "#### Шаг 6. Проверка гипотез"
   ]
  },
  {
   "cell_type": "markdown",
   "id": "47a302e8",
   "metadata": {},
   "source": [
    "Важно понять, тратят ли пользователи с подпиской больше времени на поездки? Если да, то пользователи с подпиской могут быть «выгоднее» для компании. Проверьте гипотезу. Используйте исходные данные о продолжительности каждой сессии — отдельно для подписчиков и тех, у кого нет подписки.\n",
    "\n",
    "**H0** Среднее время поездки у пользователей с подпиской меньше или равно, чем середнее пользователей без подписки\n",
    "\n",
    "**H1** Среднее время поездки у пользователей с подпиской больше, чем у пользователей без подписки"
   ]
  },
  {
   "cell_type": "code",
   "execution_count": 41,
   "id": "7f79c329",
   "metadata": {},
   "outputs": [
    {
     "name": "stdout",
     "output_type": "stream",
     "text": [
      "p-значение: 1.2804098316645618e-34\n",
      "Отвергаем нулевую гипотезу\n"
     ]
    }
   ],
   "source": [
    "alpha = 0.05 # уровень статистической значимости\n",
    "\n",
    "results = st.ttest_ind(data_free['duration'], data_ultra['duration'], alternative='less')\n",
    "\n",
    "print('p-значение:', results.pvalue)\n",
    "\n",
    "if results.pvalue < alpha:\n",
    "    print('Отвергаем нулевую гипотезу')\n",
    "else:\n",
    "    print('Не получилось отвергнуть нулевую гипотезу')"
   ]
  },
  {
   "cell_type": "markdown",
   "id": "49cba58f",
   "metadata": {},
   "source": [
    "**Вывод:** Таким образом, мы отвергаем нулевую гипотизу, из чего делаем вывод, что пользователи с подпиской и правда тратят больше времени на поездки."
   ]
  },
  {
   "cell_type": "markdown",
   "id": "517f6100",
   "metadata": {},
   "source": [
    "Расстояние одной поездки в 3130 метров — оптимальное с точки зрения износа самоката. Можно ли сказать, что среднее расстояние, которое проезжают пользователи с подпиской за одну поездку, не превышает 3130 метров? Проверьте гипотезу и сделайте выводы.\n",
    "\n",
    "**H0** Значение среднего выборки расстояний одной поездки пользователей с подпиской меньше или равно значению 3130\n",
    "\n",
    "**H1** Значение среднего выборки расстояний одной поездки пользователей с подпиской больше значения 3130"
   ]
  },
  {
   "cell_type": "code",
   "execution_count": 42,
   "id": "39891917",
   "metadata": {},
   "outputs": [
    {
     "name": "stdout",
     "output_type": "stream",
     "text": [
      "p-значение: 0.9195649894697724\n",
      "Не отвергаем нулевую гипотезу\n"
     ]
    }
   ],
   "source": [
    "sred = 3130\n",
    "\n",
    "alpha = 0.05 # уровень статистической значимости\n",
    "\n",
    "results = st.ttest_1samp(data_ultra['distance'], sred, alternative='greater')\n",
    "\n",
    "print('p-значение:', results.pvalue)\n",
    "\n",
    "if (results.pvalue < alpha):\n",
    "    print('Отвергаем нулевую гипотезу')\n",
    "else:\n",
    "    print('Не отвергаем нулевую гипотезу') "
   ]
  },
  {
   "cell_type": "markdown",
   "id": "17fcc510",
   "metadata": {},
   "source": [
    "**Вывод:** Таким образом, мы не смогли отвергнуть нулевую гипотизу, из чего делаем вывод, что пользователи с подпиской за одну поездку проезжают не более 3130 метров."
   ]
  },
  {
   "cell_type": "markdown",
   "id": "4fb4895e",
   "metadata": {},
   "source": [
    "Проверьте гипотезу о том, будет ли помесячная выручка от пользователей с подпиской по месяцам выше, чем выручка от пользователей без подписки. Сделайте вывод.\n",
    "\n",
    "**H0** Значение среднего выборки помесячной выручки от пользователей с подпиской меньше или равно, чем от пользователей без подписки\n",
    "\n",
    "**H1** Значение среднего выборки помесячной выручки от пользователей с подпиской больше, чем от пользователей без подписки"
   ]
  },
  {
   "cell_type": "code",
   "execution_count": 43,
   "id": "5039e5eb",
   "metadata": {},
   "outputs": [
    {
     "name": "stdout",
     "output_type": "stream",
     "text": [
      "p-значение: 2.8130926188487286e-35\n",
      "Отвергаем нулевую гипотезу\n"
     ]
    }
   ],
   "source": [
    "alpha = 0.05 # уровень статистической значимости\n",
    "\n",
    "results = st.ttest_ind(data.loc[data['tariff'] == 'ultra', 'month_revenue'], data.loc[data['tariff'] == 'free', 'month_revenue'], alternative='greater')\n",
    "\n",
    "print('p-значение:', results.pvalue)\n",
    "\n",
    "if results.pvalue < alpha:\n",
    "    print('Отвергаем нулевую гипотезу')\n",
    "else:\n",
    "    print('Не получилось отвергнуть нулевую гипотезу')"
   ]
  },
  {
   "cell_type": "markdown",
   "id": "a1d2d622",
   "metadata": {},
   "source": [
    "**Вывод:** Таким образом, мы отвергаем нулевую гипотизу, из чего делаем вывод, что пользователи с подпиской приносят больше выручки."
   ]
  },
  {
   "cell_type": "markdown",
   "id": "913c2df2",
   "metadata": {},
   "source": [
    "Представьте такую ситуацию: техническая команда сервиса обновила сервера, с которыми взаимодействует мобильное приложение. Она надеется, что из-за этого количество обращений в техподдержку значимо снизилось. Некоторый файл содержит для каждого пользователя данные о количестве обращений до обновления и после него. Какой тест вам понадобился бы для проверки этой гипотезы?\n",
    "\n",
    "**Ответ**\n",
    "\n",
    "Для проверки данной гипотезы нам понадобился бы тест для проверки равенства средних для зависимых (парных) выборок.\n",
    "\n",
    "Гипотезы в таком случае будут сформулированы так:\n",
    "\n",
    "H0: μ1<=μ2\n",
    "\n",
    "H1: μ1>μ2\n",
    "\n",
    "где μ1 и μ2 - средние значения до и после изменений.\n",
    "\n",
    "Для этого используется метод scipy.stats.ttest_rel(), в котором слкдующие параметра: выборка до изменения и выборка после изменения, парметр альтернативной гипотезы 'less'."
   ]
  },
  {
   "cell_type": "markdown",
   "id": "83ad0b94",
   "metadata": {},
   "source": [
    "**Вывод**\n",
    "\n",
    "Результаты предобработки данных.\n",
    "- изменение типа данных столбца 'date' на datetime64;\n",
    "- был добавлен новый столбец в DataFrame rides_go, в котором указаны номера месяца для каждой поездки\n",
    "- данные были проверены на наличие явных и неявных дупликатов, в результате в одном из датафреймов были обнаружены явные дупликаты, после чего они были удалены\n",
    "- данны были проверены на наличие аномалий\n",
    "- данные были проверены на наличие пропусков (пропуски не обнаружены)\n",
    "\n",
    "Результаты анализа.\n",
    "- При оценке частоты встречаемости городов по графику можно заметить, что уровень встречаемость приблизительно одинаковый для всех городов. Пятигорск встречается чаще, чем остальные, и составляет 0.142764 от всех городов, а Москва меньше всего - 0.109518.\n",
    "- Доля пользователей с подпиской составляет 45,6%, а доля пользователей 54,4% (пользователей с подпиской больше).\n",
    "- Судя по гистограмме больше всего пользователей в возрасте 25 лет, самый минимальный возраст составляет 12 лет, а самый максимальный 43 года. Также можно заметить, что гистограмма по возрасту пользователей подчиняется нормальному распределению.\n",
    "- По гистограмме расстояния одной поездки можно заметить две возвышенности, первая небольшая с пиком около 600 метров, а вторая возвышенность достаточно большая и её пик находится примерно на уровне 3000 метров. Также можно заметить, что гистограмма подчиняется нормальному закону рапределения.\n",
    "- Судя по гистограмме времени поездки пользователя, среднее время поездки составляет около 17 минут - это пик гистограммы. Есть странные значение равные 0.5 их 95 штук, что указывает на аномалию.\n",
    "\n",
    "Результаты объединения данных.\n",
    "- Были объединены все 3 датасета в один\n",
    "- Были получены два новых датасета пользователей с подпиской и без подписки из датасета образованного в прошлом пункте\n",
    "- Были визуализированы данные для времени и расстояния поездки для двух датасетов. По полученным графикам сразу можно сделать вывод, что аномальные значения 0.5 для времени находятся в датасете с людьми без подписки. Также разброс данных для людей без подписки больше, как и само количество поездок.\n",
    "\n",
    "Результат подсчёта выручки.\n",
    "- Была сформирована новая таблица с суммарным расстоянием, количеством поездок и суммарным временем для каждого пользователя за каждый месяц.\n",
    "- Также были добавлены столбцы с информацией о тарифах для людей с подпиской и без подписки.\n",
    "- Была высчитана помесячная выручка для каждого пользователя и записана в новый столбец.\n",
    "\n",
    "Результат проверки гипотез.\n",
    "\n",
    "Была проведена проверка некоторых гипотез, по результатам которых можно сделать вывод, что пользователи с подпиской выгоднее для сервиса аренды самокатов GoFast (такие пользователи приносят больше выручки, чем пользователи без подписки, при этом дистанция одной поездки не привышает 3130 метро, тем самым дольше оставляя самокаты в рабочем состоянии).\n",
    "\n",
    "<b>Таким образом, </b> стоит привлекать пользователей к подключению подписку, так как это выгоднее для сервиса. На данный момент более чем у половины пользователей отсутствует подписка. Стоит учитывать, что большая часть пользователей имеет возраст в районе 25 лет и что чем теплее климат в городе, тем чаще пользователи используют самокаты для передвижения."
   ]
  },
  {
   "cell_type": "code",
   "execution_count": null,
   "id": "4c759920",
   "metadata": {},
   "outputs": [],
   "source": []
  }
 ],
 "metadata": {
  "ExecuteTimeLog": [
   {
    "duration": 406,
    "start_time": "2024-03-19T18:42:47.960Z"
   },
   {
    "duration": 286,
    "start_time": "2024-03-19T18:42:50.520Z"
   },
   {
    "duration": 89,
    "start_time": "2024-03-19T18:50:37.193Z"
   },
   {
    "duration": 74,
    "start_time": "2024-03-19T18:50:45.586Z"
   },
   {
    "duration": 72,
    "start_time": "2024-03-19T18:50:56.580Z"
   },
   {
    "duration": 72,
    "start_time": "2024-03-19T18:51:02.705Z"
   },
   {
    "duration": 75,
    "start_time": "2024-03-19T18:51:07.449Z"
   },
   {
    "duration": 14,
    "start_time": "2024-03-19T18:52:08.992Z"
   },
   {
    "duration": 12,
    "start_time": "2024-03-19T18:52:31.160Z"
   },
   {
    "duration": 10,
    "start_time": "2024-03-19T18:53:00.851Z"
   },
   {
    "duration": 15,
    "start_time": "2024-03-19T18:53:57.722Z"
   },
   {
    "duration": 17,
    "start_time": "2024-03-19T18:54:05.162Z"
   },
   {
    "duration": 2,
    "start_time": "2024-03-19T18:54:57.266Z"
   },
   {
    "duration": 66,
    "start_time": "2024-03-19T18:54:58.362Z"
   },
   {
    "duration": 11,
    "start_time": "2024-03-19T18:54:59.034Z"
   },
   {
    "duration": 13,
    "start_time": "2024-03-19T18:54:59.864Z"
   },
   {
    "duration": 12,
    "start_time": "2024-03-19T18:55:01.521Z"
   },
   {
    "duration": 1620,
    "start_time": "2024-03-19T19:00:19.557Z"
   },
   {
    "duration": 7,
    "start_time": "2024-03-19T19:00:31.684Z"
   },
   {
    "duration": 53,
    "start_time": "2024-03-19T19:00:40.443Z"
   },
   {
    "duration": 18,
    "start_time": "2024-03-19T19:01:01.724Z"
   },
   {
    "duration": 16,
    "start_time": "2024-03-19T19:01:07.748Z"
   },
   {
    "duration": 19,
    "start_time": "2024-03-19T19:01:27.043Z"
   },
   {
    "duration": 5,
    "start_time": "2024-03-19T19:06:14.597Z"
   },
   {
    "duration": 13,
    "start_time": "2024-03-19T19:06:20.414Z"
   },
   {
    "duration": 10,
    "start_time": "2024-03-19T19:06:43.917Z"
   },
   {
    "duration": 8,
    "start_time": "2024-03-19T19:07:37.365Z"
   },
   {
    "duration": 5,
    "start_time": "2024-03-19T19:08:17.589Z"
   },
   {
    "duration": 5,
    "start_time": "2024-03-19T19:08:18.662Z"
   },
   {
    "duration": 4,
    "start_time": "2024-03-19T19:09:15.318Z"
   },
   {
    "duration": 4,
    "start_time": "2024-03-19T19:11:08.078Z"
   },
   {
    "duration": 7,
    "start_time": "2024-03-19T19:12:29.472Z"
   },
   {
    "duration": 6,
    "start_time": "2024-03-19T19:12:30.202Z"
   },
   {
    "duration": 6,
    "start_time": "2024-03-19T19:12:31.174Z"
   },
   {
    "duration": 386,
    "start_time": "2024-03-20T10:32:11.408Z"
   },
   {
    "duration": 193,
    "start_time": "2024-03-20T10:32:11.796Z"
   },
   {
    "duration": 13,
    "start_time": "2024-03-20T10:32:11.991Z"
   },
   {
    "duration": 14,
    "start_time": "2024-03-20T10:32:12.006Z"
   },
   {
    "duration": 20,
    "start_time": "2024-03-20T10:32:12.023Z"
   },
   {
    "duration": 14,
    "start_time": "2024-03-20T10:32:12.045Z"
   },
   {
    "duration": 14,
    "start_time": "2024-03-20T10:32:12.060Z"
   },
   {
    "duration": 7,
    "start_time": "2024-03-20T10:32:12.075Z"
   },
   {
    "duration": 6,
    "start_time": "2024-03-20T10:32:12.084Z"
   },
   {
    "duration": 26,
    "start_time": "2024-03-20T10:32:12.092Z"
   },
   {
    "duration": 17,
    "start_time": "2024-03-20T10:32:12.119Z"
   },
   {
    "duration": 22,
    "start_time": "2024-03-20T10:32:12.137Z"
   },
   {
    "duration": 10,
    "start_time": "2024-03-20T10:32:12.160Z"
   },
   {
    "duration": 18,
    "start_time": "2024-03-20T10:32:12.172Z"
   },
   {
    "duration": 5,
    "start_time": "2024-03-20T10:32:12.192Z"
   },
   {
    "duration": 5,
    "start_time": "2024-03-20T10:34:06.313Z"
   },
   {
    "duration": 7,
    "start_time": "2024-03-20T10:34:06.839Z"
   },
   {
    "duration": 57,
    "start_time": "2024-03-20T10:34:14.207Z"
   },
   {
    "duration": 7,
    "start_time": "2024-03-20T10:34:20.115Z"
   },
   {
    "duration": 7,
    "start_time": "2024-03-20T10:34:37.722Z"
   },
   {
    "duration": 6,
    "start_time": "2024-03-20T10:34:42.010Z"
   },
   {
    "duration": 6,
    "start_time": "2024-03-20T10:35:00.114Z"
   },
   {
    "duration": 7,
    "start_time": "2024-03-20T10:35:09.817Z"
   },
   {
    "duration": 6,
    "start_time": "2024-03-20T10:35:15.650Z"
   },
   {
    "duration": 7,
    "start_time": "2024-03-20T10:35:55.181Z"
   },
   {
    "duration": 402,
    "start_time": "2024-03-20T10:36:08.821Z"
   },
   {
    "duration": 66,
    "start_time": "2024-03-20T10:36:09.225Z"
   },
   {
    "duration": 14,
    "start_time": "2024-03-20T10:36:09.292Z"
   },
   {
    "duration": 15,
    "start_time": "2024-03-20T10:36:09.307Z"
   },
   {
    "duration": 15,
    "start_time": "2024-03-20T10:36:09.325Z"
   },
   {
    "duration": 21,
    "start_time": "2024-03-20T10:36:09.341Z"
   },
   {
    "duration": 16,
    "start_time": "2024-03-20T10:36:09.364Z"
   },
   {
    "duration": 7,
    "start_time": "2024-03-20T10:36:09.382Z"
   },
   {
    "duration": 14,
    "start_time": "2024-03-20T10:36:09.391Z"
   },
   {
    "duration": 6,
    "start_time": "2024-03-20T10:36:09.407Z"
   },
   {
    "duration": 11,
    "start_time": "2024-03-20T10:36:09.415Z"
   },
   {
    "duration": 4,
    "start_time": "2024-03-20T10:36:09.427Z"
   },
   {
    "duration": 14,
    "start_time": "2024-03-20T10:36:09.432Z"
   },
   {
    "duration": 6,
    "start_time": "2024-03-20T10:36:09.449Z"
   },
   {
    "duration": 10,
    "start_time": "2024-03-20T10:36:09.457Z"
   },
   {
    "duration": 11,
    "start_time": "2024-03-20T10:36:09.469Z"
   },
   {
    "duration": 340,
    "start_time": "2024-03-20T10:36:22.195Z"
   },
   {
    "duration": 67,
    "start_time": "2024-03-20T10:36:22.537Z"
   },
   {
    "duration": 13,
    "start_time": "2024-03-20T10:36:22.606Z"
   },
   {
    "duration": 23,
    "start_time": "2024-03-20T10:36:22.620Z"
   },
   {
    "duration": 24,
    "start_time": "2024-03-20T10:36:22.646Z"
   },
   {
    "duration": 16,
    "start_time": "2024-03-20T10:36:22.671Z"
   },
   {
    "duration": 37,
    "start_time": "2024-03-20T10:36:22.689Z"
   },
   {
    "duration": 15,
    "start_time": "2024-03-20T10:36:22.727Z"
   },
   {
    "duration": 27,
    "start_time": "2024-03-20T10:36:22.743Z"
   },
   {
    "duration": 33,
    "start_time": "2024-03-20T10:36:22.771Z"
   },
   {
    "duration": 28,
    "start_time": "2024-03-20T10:36:22.805Z"
   },
   {
    "duration": 43,
    "start_time": "2024-03-20T10:36:22.835Z"
   },
   {
    "duration": 18,
    "start_time": "2024-03-20T10:36:22.879Z"
   },
   {
    "duration": 49,
    "start_time": "2024-03-20T10:36:22.899Z"
   },
   {
    "duration": 24,
    "start_time": "2024-03-20T10:36:22.949Z"
   },
   {
    "duration": 16,
    "start_time": "2024-03-20T10:36:22.974Z"
   },
   {
    "duration": 395,
    "start_time": "2024-03-20T10:36:30.235Z"
   },
   {
    "duration": 68,
    "start_time": "2024-03-20T10:36:30.632Z"
   },
   {
    "duration": 13,
    "start_time": "2024-03-20T10:36:30.701Z"
   },
   {
    "duration": 48,
    "start_time": "2024-03-20T10:36:30.716Z"
   },
   {
    "duration": 50,
    "start_time": "2024-03-20T10:36:30.765Z"
   },
   {
    "duration": 50,
    "start_time": "2024-03-20T10:36:30.816Z"
   },
   {
    "duration": 33,
    "start_time": "2024-03-20T10:36:30.867Z"
   },
   {
    "duration": 47,
    "start_time": "2024-03-20T10:36:30.902Z"
   },
   {
    "duration": 40,
    "start_time": "2024-03-20T10:36:30.951Z"
   },
   {
    "duration": 44,
    "start_time": "2024-03-20T10:36:30.993Z"
   },
   {
    "duration": 43,
    "start_time": "2024-03-20T10:36:31.039Z"
   },
   {
    "duration": 51,
    "start_time": "2024-03-20T10:36:31.083Z"
   },
   {
    "duration": 44,
    "start_time": "2024-03-20T10:36:31.136Z"
   },
   {
    "duration": 65,
    "start_time": "2024-03-20T10:36:31.181Z"
   },
   {
    "duration": 33,
    "start_time": "2024-03-20T10:36:31.247Z"
   },
   {
    "duration": 76,
    "start_time": "2024-03-20T10:36:31.282Z"
   },
   {
    "duration": 2673,
    "start_time": "2024-03-20T10:37:48.865Z"
   },
   {
    "duration": 2407,
    "start_time": "2024-03-20T10:38:55.433Z"
   },
   {
    "duration": 71,
    "start_time": "2024-03-20T10:39:21.759Z"
   },
   {
    "duration": 142,
    "start_time": "2024-03-20T10:42:54.956Z"
   },
   {
    "duration": 145,
    "start_time": "2024-03-20T10:43:42.500Z"
   },
   {
    "duration": 138,
    "start_time": "2024-03-20T10:44:15.208Z"
   },
   {
    "duration": 145,
    "start_time": "2024-03-20T10:44:38.689Z"
   },
   {
    "duration": 6,
    "start_time": "2024-03-20T10:44:51.511Z"
   },
   {
    "duration": 8,
    "start_time": "2024-03-20T10:45:35.558Z"
   },
   {
    "duration": 6,
    "start_time": "2024-03-20T10:47:58.171Z"
   },
   {
    "duration": 12,
    "start_time": "2024-03-20T10:48:22.752Z"
   },
   {
    "duration": 5,
    "start_time": "2024-03-20T10:48:28.284Z"
   },
   {
    "duration": 6,
    "start_time": "2024-03-20T10:50:06.338Z"
   },
   {
    "duration": 6,
    "start_time": "2024-03-20T10:50:30.818Z"
   },
   {
    "duration": 5,
    "start_time": "2024-03-20T10:51:39.741Z"
   },
   {
    "duration": 122,
    "start_time": "2024-03-20T10:51:48.085Z"
   },
   {
    "duration": 204,
    "start_time": "2024-03-20T10:51:56.434Z"
   },
   {
    "duration": 226,
    "start_time": "2024-03-20T10:52:05.030Z"
   },
   {
    "duration": 166,
    "start_time": "2024-03-20T10:52:17.724Z"
   },
   {
    "duration": 184,
    "start_time": "2024-03-20T10:52:30.272Z"
   },
   {
    "duration": 209,
    "start_time": "2024-03-20T10:52:39.396Z"
   },
   {
    "duration": 236,
    "start_time": "2024-03-20T10:52:47.956Z"
   },
   {
    "duration": 184,
    "start_time": "2024-03-20T10:53:05.848Z"
   },
   {
    "duration": 146,
    "start_time": "2024-03-20T10:53:14.141Z"
   },
   {
    "duration": 196,
    "start_time": "2024-03-20T10:53:19.124Z"
   },
   {
    "duration": 224,
    "start_time": "2024-03-20T10:53:26.156Z"
   },
   {
    "duration": 7,
    "start_time": "2024-03-20T10:54:02.732Z"
   },
   {
    "duration": 4,
    "start_time": "2024-03-20T10:56:15.250Z"
   },
   {
    "duration": 5,
    "start_time": "2024-03-20T10:57:29.938Z"
   },
   {
    "duration": 175,
    "start_time": "2024-03-20T10:57:44.370Z"
   },
   {
    "duration": 191,
    "start_time": "2024-03-20T10:57:50.338Z"
   },
   {
    "duration": 245,
    "start_time": "2024-03-20T10:57:55.641Z"
   },
   {
    "duration": 8,
    "start_time": "2024-03-20T10:58:46.788Z"
   },
   {
    "duration": 241,
    "start_time": "2024-03-20T10:59:59.492Z"
   },
   {
    "duration": 8,
    "start_time": "2024-03-20T11:00:16.260Z"
   },
   {
    "duration": 1360,
    "start_time": "2024-03-20T11:00:31.387Z"
   },
   {
    "duration": 10,
    "start_time": "2024-03-20T11:01:06.788Z"
   },
   {
    "duration": 9,
    "start_time": "2024-03-20T11:01:24.764Z"
   },
   {
    "duration": 773,
    "start_time": "2024-03-20T11:01:40.084Z"
   },
   {
    "duration": 339,
    "start_time": "2024-03-20T11:01:45.323Z"
   },
   {
    "duration": 7,
    "start_time": "2024-03-20T11:03:00.846Z"
   },
   {
    "duration": 629,
    "start_time": "2024-03-20T11:03:48.518Z"
   },
   {
    "duration": 67,
    "start_time": "2024-03-20T11:03:49.149Z"
   },
   {
    "duration": 17,
    "start_time": "2024-03-20T11:03:49.218Z"
   },
   {
    "duration": 18,
    "start_time": "2024-03-20T11:03:49.236Z"
   },
   {
    "duration": 19,
    "start_time": "2024-03-20T11:03:49.256Z"
   },
   {
    "duration": 20,
    "start_time": "2024-03-20T11:03:49.276Z"
   },
   {
    "duration": 12,
    "start_time": "2024-03-20T11:03:49.297Z"
   },
   {
    "duration": 9,
    "start_time": "2024-03-20T11:03:49.310Z"
   },
   {
    "duration": 5,
    "start_time": "2024-03-20T11:03:49.320Z"
   },
   {
    "duration": 19,
    "start_time": "2024-03-20T11:03:49.326Z"
   },
   {
    "duration": 4,
    "start_time": "2024-03-20T11:03:49.347Z"
   },
   {
    "duration": 5,
    "start_time": "2024-03-20T11:03:49.352Z"
   },
   {
    "duration": 6,
    "start_time": "2024-03-20T11:03:49.358Z"
   },
   {
    "duration": 24,
    "start_time": "2024-03-20T11:03:49.366Z"
   },
   {
    "duration": 9,
    "start_time": "2024-03-20T11:03:49.391Z"
   },
   {
    "duration": 20,
    "start_time": "2024-03-20T11:03:49.402Z"
   },
   {
    "duration": 177,
    "start_time": "2024-03-20T11:03:49.423Z"
   },
   {
    "duration": 7,
    "start_time": "2024-03-20T11:03:49.602Z"
   },
   {
    "duration": 11,
    "start_time": "2024-03-20T11:03:49.610Z"
   },
   {
    "duration": 9,
    "start_time": "2024-03-20T11:03:49.622Z"
   },
   {
    "duration": 169,
    "start_time": "2024-03-20T11:03:49.632Z"
   },
   {
    "duration": 7,
    "start_time": "2024-03-20T11:03:49.803Z"
   },
   {
    "duration": 251,
    "start_time": "2024-03-20T11:03:49.811Z"
   },
   {
    "duration": 8,
    "start_time": "2024-03-20T11:03:50.063Z"
   },
   {
    "duration": 413,
    "start_time": "2024-03-20T11:03:50.072Z"
   },
   {
    "duration": 8,
    "start_time": "2024-03-20T11:03:50.486Z"
   },
   {
    "duration": 26,
    "start_time": "2024-03-20T11:03:50.495Z"
   },
   {
    "duration": 101,
    "start_time": "2024-03-20T11:03:50.522Z"
   },
   {
    "duration": 79,
    "start_time": "2024-03-20T11:03:57.434Z"
   },
   {
    "duration": 78,
    "start_time": "2024-03-20T11:04:02.866Z"
   },
   {
    "duration": 85,
    "start_time": "2024-03-20T11:04:19.282Z"
   },
   {
    "duration": 23,
    "start_time": "2024-03-20T11:11:24.478Z"
   },
   {
    "duration": 119,
    "start_time": "2024-03-20T15:00:56.454Z"
   },
   {
    "duration": 92,
    "start_time": "2024-03-20T15:02:19.562Z"
   },
   {
    "duration": 49,
    "start_time": "2024-03-20T19:23:26.031Z"
   },
   {
    "duration": 848,
    "start_time": "2024-03-20T19:23:29.964Z"
   },
   {
    "duration": 291,
    "start_time": "2024-03-20T19:23:30.815Z"
   },
   {
    "duration": 79,
    "start_time": "2024-03-20T19:23:31.108Z"
   },
   {
    "duration": 83,
    "start_time": "2024-03-20T19:23:31.189Z"
   },
   {
    "duration": 72,
    "start_time": "2024-03-20T19:23:31.274Z"
   },
   {
    "duration": 45,
    "start_time": "2024-03-20T19:23:31.348Z"
   },
   {
    "duration": 32,
    "start_time": "2024-03-20T19:23:31.394Z"
   },
   {
    "duration": 28,
    "start_time": "2024-03-20T19:23:31.427Z"
   },
   {
    "duration": 43,
    "start_time": "2024-03-20T19:23:31.457Z"
   },
   {
    "duration": 35,
    "start_time": "2024-03-20T19:23:31.504Z"
   },
   {
    "duration": 34,
    "start_time": "2024-03-20T19:23:31.541Z"
   },
   {
    "duration": 47,
    "start_time": "2024-03-20T19:23:31.577Z"
   },
   {
    "duration": 96,
    "start_time": "2024-03-20T19:23:31.625Z"
   },
   {
    "duration": 37,
    "start_time": "2024-03-20T19:23:31.723Z"
   },
   {
    "duration": 202,
    "start_time": "2024-03-20T19:23:31.762Z"
   },
   {
    "duration": 16,
    "start_time": "2024-03-20T19:23:31.965Z"
   },
   {
    "duration": 184,
    "start_time": "2024-03-20T19:23:31.982Z"
   },
   {
    "duration": 658,
    "start_time": "2024-03-20T19:23:32.167Z"
   },
   {
    "duration": 441,
    "start_time": "2024-03-20T19:23:32.827Z"
   },
   {
    "duration": 12,
    "start_time": "2024-03-20T19:23:33.269Z"
   },
   {
    "duration": 264,
    "start_time": "2024-03-20T19:23:33.282Z"
   },
   {
    "duration": 8,
    "start_time": "2024-03-20T19:23:33.547Z"
   },
   {
    "duration": 461,
    "start_time": "2024-03-20T19:23:33.557Z"
   },
   {
    "duration": 9,
    "start_time": "2024-03-20T19:23:34.020Z"
   },
   {
    "duration": 18,
    "start_time": "2024-03-20T19:23:34.030Z"
   },
   {
    "duration": 131,
    "start_time": "2024-03-20T19:23:34.049Z"
   },
   {
    "duration": 23,
    "start_time": "2024-03-20T19:23:34.181Z"
   },
   {
    "duration": 10,
    "start_time": "2024-03-20T19:25:53.802Z"
   },
   {
    "duration": 50,
    "start_time": "2024-03-21T08:21:25.556Z"
   },
   {
    "duration": 876,
    "start_time": "2024-03-21T08:21:29.624Z"
   },
   {
    "duration": 298,
    "start_time": "2024-03-21T08:21:30.502Z"
   },
   {
    "duration": 16,
    "start_time": "2024-03-21T08:21:30.804Z"
   },
   {
    "duration": 82,
    "start_time": "2024-03-21T08:21:30.822Z"
   },
   {
    "duration": 49,
    "start_time": "2024-03-21T08:21:30.906Z"
   },
   {
    "duration": 76,
    "start_time": "2024-03-21T08:21:30.957Z"
   },
   {
    "duration": 67,
    "start_time": "2024-03-21T08:21:31.035Z"
   },
   {
    "duration": 27,
    "start_time": "2024-03-21T08:21:31.103Z"
   },
   {
    "duration": 29,
    "start_time": "2024-03-21T08:21:31.131Z"
   },
   {
    "duration": 35,
    "start_time": "2024-03-21T08:21:31.162Z"
   },
   {
    "duration": 27,
    "start_time": "2024-03-21T08:21:31.198Z"
   },
   {
    "duration": 42,
    "start_time": "2024-03-21T08:21:31.226Z"
   },
   {
    "duration": 44,
    "start_time": "2024-03-21T08:21:31.271Z"
   },
   {
    "duration": 38,
    "start_time": "2024-03-21T08:21:31.317Z"
   },
   {
    "duration": 259,
    "start_time": "2024-03-21T08:21:31.356Z"
   },
   {
    "duration": 9,
    "start_time": "2024-03-21T08:21:31.617Z"
   },
   {
    "duration": 35,
    "start_time": "2024-03-21T08:21:31.627Z"
   },
   {
    "duration": 40,
    "start_time": "2024-03-21T08:21:31.664Z"
   },
   {
    "duration": 212,
    "start_time": "2024-03-21T08:21:31.706Z"
   },
   {
    "duration": 7,
    "start_time": "2024-03-21T08:21:31.920Z"
   },
   {
    "duration": 325,
    "start_time": "2024-03-21T08:21:31.928Z"
   },
   {
    "duration": 8,
    "start_time": "2024-03-21T08:21:32.255Z"
   },
   {
    "duration": 495,
    "start_time": "2024-03-21T08:21:32.265Z"
   },
   {
    "duration": 9,
    "start_time": "2024-03-21T08:21:32.761Z"
   },
   {
    "duration": 10,
    "start_time": "2024-03-21T08:21:32.780Z"
   },
   {
    "duration": 15,
    "start_time": "2024-03-21T08:21:32.791Z"
   },
   {
    "duration": 18,
    "start_time": "2024-03-21T08:21:50.723Z"
   },
   {
    "duration": 22,
    "start_time": "2024-03-21T08:30:19.376Z"
   },
   {
    "duration": 11,
    "start_time": "2024-03-21T08:30:43.123Z"
   },
   {
    "duration": 22,
    "start_time": "2024-03-21T08:30:48.519Z"
   },
   {
    "duration": 16,
    "start_time": "2024-03-21T08:31:28.351Z"
   },
   {
    "duration": 17,
    "start_time": "2024-03-21T08:31:53.811Z"
   },
   {
    "duration": 17,
    "start_time": "2024-03-21T08:32:17.506Z"
   },
   {
    "duration": 18,
    "start_time": "2024-03-21T08:32:26.295Z"
   },
   {
    "duration": 17,
    "start_time": "2024-03-21T08:32:38.163Z"
   },
   {
    "duration": 18,
    "start_time": "2024-03-21T08:32:58.906Z"
   },
   {
    "duration": 17,
    "start_time": "2024-03-21T08:33:03.911Z"
   },
   {
    "duration": 16,
    "start_time": "2024-03-21T08:33:37.739Z"
   },
   {
    "duration": 398,
    "start_time": "2024-03-21T08:35:12.530Z"
   },
   {
    "duration": 414,
    "start_time": "2024-03-21T08:35:32.766Z"
   },
   {
    "duration": 286,
    "start_time": "2024-03-21T08:36:11.280Z"
   },
   {
    "duration": 356,
    "start_time": "2024-03-21T08:36:12.602Z"
   },
   {
    "duration": 277,
    "start_time": "2024-03-21T08:36:35.775Z"
   },
   {
    "duration": 287,
    "start_time": "2024-03-21T08:36:42.017Z"
   },
   {
    "duration": 406,
    "start_time": "2024-03-21T08:36:46.434Z"
   },
   {
    "duration": 832,
    "start_time": "2024-03-21T08:36:54.829Z"
   },
   {
    "duration": 222,
    "start_time": "2024-03-21T08:36:59.073Z"
   },
   {
    "duration": 204,
    "start_time": "2024-03-21T08:37:11.057Z"
   },
   {
    "duration": 338,
    "start_time": "2024-03-21T08:37:15.892Z"
   },
   {
    "duration": 191,
    "start_time": "2024-03-21T08:37:23.137Z"
   },
   {
    "duration": 408,
    "start_time": "2024-03-21T08:37:26.872Z"
   },
   {
    "duration": 214,
    "start_time": "2024-03-21T08:39:15.323Z"
   },
   {
    "duration": 266,
    "start_time": "2024-03-21T08:39:32.204Z"
   },
   {
    "duration": 9,
    "start_time": "2024-03-21T08:42:42.059Z"
   },
   {
    "duration": 11,
    "start_time": "2024-03-21T08:43:07.459Z"
   },
   {
    "duration": 10,
    "start_time": "2024-03-21T08:43:21.155Z"
   },
   {
    "duration": 12,
    "start_time": "2024-03-21T08:43:36.697Z"
   },
   {
    "duration": 10,
    "start_time": "2024-03-21T08:43:40.123Z"
   },
   {
    "duration": 11,
    "start_time": "2024-03-21T08:44:31.483Z"
   },
   {
    "duration": 12,
    "start_time": "2024-03-21T08:45:30.695Z"
   },
   {
    "duration": 11,
    "start_time": "2024-03-21T08:45:49.078Z"
   },
   {
    "duration": 12,
    "start_time": "2024-03-21T08:46:07.370Z"
   },
   {
    "duration": 12,
    "start_time": "2024-03-21T08:46:19.958Z"
   },
   {
    "duration": 11,
    "start_time": "2024-03-21T08:46:49.462Z"
   },
   {
    "duration": 80,
    "start_time": "2024-03-21T08:55:03.144Z"
   },
   {
    "duration": 8,
    "start_time": "2024-03-21T08:55:11.408Z"
   },
   {
    "duration": 7,
    "start_time": "2024-03-21T08:55:29.095Z"
   },
   {
    "duration": 17,
    "start_time": "2024-03-21T08:57:27.685Z"
   },
   {
    "duration": 21,
    "start_time": "2024-03-21T08:57:33.966Z"
   },
   {
    "duration": 18,
    "start_time": "2024-03-21T08:59:09.606Z"
   },
   {
    "duration": 24,
    "start_time": "2024-03-21T08:59:16.670Z"
   },
   {
    "duration": 26,
    "start_time": "2024-03-21T09:00:36.549Z"
   },
   {
    "duration": 23,
    "start_time": "2024-03-21T09:00:54.630Z"
   },
   {
    "duration": 26,
    "start_time": "2024-03-21T09:01:00.599Z"
   },
   {
    "duration": 30,
    "start_time": "2024-03-21T09:01:17.713Z"
   },
   {
    "duration": 29,
    "start_time": "2024-03-21T09:01:31.321Z"
   },
   {
    "duration": 30,
    "start_time": "2024-03-21T09:01:36.649Z"
   },
   {
    "duration": 31,
    "start_time": "2024-03-21T09:01:39.539Z"
   },
   {
    "duration": 20,
    "start_time": "2024-03-21T09:01:43.165Z"
   },
   {
    "duration": 228,
    "start_time": "2024-03-21T09:01:52.469Z"
   },
   {
    "duration": 277,
    "start_time": "2024-03-21T09:01:53.505Z"
   },
   {
    "duration": 11,
    "start_time": "2024-03-21T09:01:54.013Z"
   },
   {
    "duration": 253,
    "start_time": "2024-03-21T09:01:54.721Z"
   },
   {
    "duration": 285,
    "start_time": "2024-03-21T09:01:55.421Z"
   },
   {
    "duration": 12,
    "start_time": "2024-03-21T09:01:56.120Z"
   },
   {
    "duration": 560,
    "start_time": "2024-03-21T09:04:30.329Z"
   },
   {
    "duration": 403,
    "start_time": "2024-03-21T09:04:43.560Z"
   },
   {
    "duration": 435,
    "start_time": "2024-03-21T09:04:56.293Z"
   },
   {
    "duration": 418,
    "start_time": "2024-03-21T09:05:10.537Z"
   },
   {
    "duration": 404,
    "start_time": "2024-03-21T09:05:16.268Z"
   },
   {
    "duration": 589,
    "start_time": "2024-03-21T09:05:32.768Z"
   },
   {
    "duration": 414,
    "start_time": "2024-03-21T09:05:41.244Z"
   },
   {
    "duration": 404,
    "start_time": "2024-03-21T09:06:20.728Z"
   },
   {
    "duration": 418,
    "start_time": "2024-03-21T09:06:26.264Z"
   },
   {
    "duration": 425,
    "start_time": "2024-03-21T09:07:55.931Z"
   },
   {
    "duration": 630,
    "start_time": "2024-03-21T09:08:12.235Z"
   },
   {
    "duration": 751,
    "start_time": "2024-03-21T09:09:53.132Z"
   },
   {
    "duration": 454,
    "start_time": "2024-03-21T09:09:59.170Z"
   },
   {
    "duration": 474,
    "start_time": "2024-03-21T09:10:06.586Z"
   },
   {
    "duration": 492,
    "start_time": "2024-03-21T09:10:12.459Z"
   },
   {
    "duration": 453,
    "start_time": "2024-03-21T09:11:18.211Z"
   },
   {
    "duration": 657,
    "start_time": "2024-03-21T09:11:31.238Z"
   },
   {
    "duration": 69,
    "start_time": "2024-03-21T09:11:31.897Z"
   },
   {
    "duration": 24,
    "start_time": "2024-03-21T09:11:31.968Z"
   },
   {
    "duration": 82,
    "start_time": "2024-03-21T09:11:31.994Z"
   },
   {
    "duration": 166,
    "start_time": "2024-03-21T09:11:32.080Z"
   },
   {
    "duration": 404,
    "start_time": "2024-03-21T09:11:32.248Z"
   },
   {
    "duration": 205,
    "start_time": "2024-03-21T09:11:32.654Z"
   },
   {
    "duration": 256,
    "start_time": "2024-03-21T09:11:32.861Z"
   },
   {
    "duration": 179,
    "start_time": "2024-03-21T09:11:33.120Z"
   },
   {
    "duration": 127,
    "start_time": "2024-03-21T09:11:33.301Z"
   },
   {
    "duration": 11,
    "start_time": "2024-03-21T09:11:33.430Z"
   },
   {
    "duration": 29,
    "start_time": "2024-03-21T09:11:33.443Z"
   },
   {
    "duration": 27,
    "start_time": "2024-03-21T09:11:33.473Z"
   },
   {
    "duration": 29,
    "start_time": "2024-03-21T09:11:33.503Z"
   },
   {
    "duration": 196,
    "start_time": "2024-03-21T09:11:33.533Z"
   },
   {
    "duration": 8,
    "start_time": "2024-03-21T09:11:33.731Z"
   },
   {
    "duration": 28,
    "start_time": "2024-03-21T09:11:33.740Z"
   },
   {
    "duration": 27,
    "start_time": "2024-03-21T09:11:33.769Z"
   },
   {
    "duration": 210,
    "start_time": "2024-03-21T09:11:33.798Z"
   },
   {
    "duration": 8,
    "start_time": "2024-03-21T09:11:34.010Z"
   },
   {
    "duration": 291,
    "start_time": "2024-03-21T09:11:34.019Z"
   },
   {
    "duration": 9,
    "start_time": "2024-03-21T09:11:34.312Z"
   },
   {
    "duration": 499,
    "start_time": "2024-03-21T09:11:34.322Z"
   },
   {
    "duration": 9,
    "start_time": "2024-03-21T09:11:34.823Z"
   },
   {
    "duration": 9,
    "start_time": "2024-03-21T09:11:34.833Z"
   },
   {
    "duration": 67,
    "start_time": "2024-03-21T09:11:34.844Z"
   },
   {
    "duration": 26,
    "start_time": "2024-03-21T09:11:34.914Z"
   },
   {
    "duration": 481,
    "start_time": "2024-03-21T09:11:34.942Z"
   },
   {
    "duration": 12,
    "start_time": "2024-03-21T09:11:35.424Z"
   },
   {
    "duration": 494,
    "start_time": "2024-03-21T09:11:35.437Z"
   },
   {
    "duration": 12,
    "start_time": "2024-03-21T09:11:35.933Z"
   },
   {
    "duration": 6,
    "start_time": "2024-03-21T09:35:32.841Z"
   },
   {
    "duration": 25,
    "start_time": "2024-03-21T09:35:40.253Z"
   },
   {
    "duration": 15,
    "start_time": "2024-03-21T09:36:26.007Z"
   },
   {
    "duration": 13,
    "start_time": "2024-03-21T09:40:53.069Z"
   },
   {
    "duration": 98,
    "start_time": "2024-03-21T09:43:03.106Z"
   },
   {
    "duration": 25,
    "start_time": "2024-03-21T09:43:10.878Z"
   },
   {
    "duration": 32,
    "start_time": "2024-03-21T09:43:16.249Z"
   },
   {
    "duration": 15,
    "start_time": "2024-03-21T09:44:00.227Z"
   },
   {
    "duration": 83,
    "start_time": "2024-03-21T10:24:12.354Z"
   },
   {
    "duration": 17,
    "start_time": "2024-03-21T10:25:24.236Z"
   },
   {
    "duration": 23,
    "start_time": "2024-03-21T10:28:06.108Z"
   },
   {
    "duration": 32,
    "start_time": "2024-03-21T10:28:21.770Z"
   },
   {
    "duration": 44,
    "start_time": "2024-03-21T10:29:02.516Z"
   },
   {
    "duration": 31,
    "start_time": "2024-03-21T10:29:35.135Z"
   },
   {
    "duration": 25,
    "start_time": "2024-03-21T10:29:47.690Z"
   },
   {
    "duration": 21,
    "start_time": "2024-03-21T10:30:08.894Z"
   },
   {
    "duration": 33,
    "start_time": "2024-03-21T10:30:35.625Z"
   },
   {
    "duration": 809,
    "start_time": "2024-03-21T18:08:52.642Z"
   },
   {
    "duration": 276,
    "start_time": "2024-03-21T18:08:53.453Z"
   },
   {
    "duration": 20,
    "start_time": "2024-03-21T18:08:53.731Z"
   },
   {
    "duration": 16,
    "start_time": "2024-03-21T18:08:53.753Z"
   },
   {
    "duration": 15,
    "start_time": "2024-03-21T18:08:53.770Z"
   },
   {
    "duration": 14,
    "start_time": "2024-03-21T18:08:53.787Z"
   },
   {
    "duration": 13,
    "start_time": "2024-03-21T18:08:53.803Z"
   },
   {
    "duration": 8,
    "start_time": "2024-03-21T18:08:53.818Z"
   },
   {
    "duration": 7,
    "start_time": "2024-03-21T18:08:53.828Z"
   },
   {
    "duration": 46,
    "start_time": "2024-03-21T18:08:53.838Z"
   },
   {
    "duration": 6,
    "start_time": "2024-03-21T18:08:53.886Z"
   },
   {
    "duration": 6,
    "start_time": "2024-03-21T18:08:53.894Z"
   },
   {
    "duration": 22,
    "start_time": "2024-03-21T18:08:53.901Z"
   },
   {
    "duration": 22,
    "start_time": "2024-03-21T18:08:53.925Z"
   },
   {
    "duration": 198,
    "start_time": "2024-03-21T18:08:53.949Z"
   },
   {
    "duration": 8,
    "start_time": "2024-03-21T18:08:54.149Z"
   },
   {
    "duration": 26,
    "start_time": "2024-03-21T18:08:54.159Z"
   },
   {
    "duration": 7,
    "start_time": "2024-03-21T18:08:54.187Z"
   },
   {
    "duration": 193,
    "start_time": "2024-03-21T18:08:54.196Z"
   },
   {
    "duration": 9,
    "start_time": "2024-03-21T18:08:54.391Z"
   },
   {
    "duration": 406,
    "start_time": "2024-03-21T18:08:54.401Z"
   },
   {
    "duration": 12,
    "start_time": "2024-03-21T18:08:54.808Z"
   },
   {
    "duration": 427,
    "start_time": "2024-03-21T18:08:54.822Z"
   },
   {
    "duration": 8,
    "start_time": "2024-03-21T18:08:55.250Z"
   },
   {
    "duration": 24,
    "start_time": "2024-03-21T18:08:55.260Z"
   },
   {
    "duration": 44,
    "start_time": "2024-03-21T18:08:55.286Z"
   },
   {
    "duration": 73,
    "start_time": "2024-03-21T18:08:55.332Z"
   },
   {
    "duration": 528,
    "start_time": "2024-03-21T18:08:55.410Z"
   },
   {
    "duration": 12,
    "start_time": "2024-03-21T18:08:55.940Z"
   },
   {
    "duration": 476,
    "start_time": "2024-03-21T18:08:55.953Z"
   },
   {
    "duration": 14,
    "start_time": "2024-03-21T18:08:56.431Z"
   },
   {
    "duration": 60,
    "start_time": "2024-03-21T18:08:56.447Z"
   },
   {
    "duration": 18,
    "start_time": "2024-03-21T18:08:56.509Z"
   },
   {
    "duration": 30,
    "start_time": "2024-03-21T18:09:45.936Z"
   },
   {
    "duration": 1642,
    "start_time": "2024-03-21T18:09:58.361Z"
   },
   {
    "duration": 27,
    "start_time": "2024-03-21T18:10:03.318Z"
   },
   {
    "duration": 29,
    "start_time": "2024-03-21T18:10:17.742Z"
   },
   {
    "duration": 25,
    "start_time": "2024-03-21T18:10:23.942Z"
   },
   {
    "duration": 29,
    "start_time": "2024-03-21T18:10:29.416Z"
   },
   {
    "duration": 36,
    "start_time": "2024-03-21T18:10:33.399Z"
   },
   {
    "duration": 31,
    "start_time": "2024-03-21T18:10:44.031Z"
   },
   {
    "duration": 31,
    "start_time": "2024-03-21T18:12:14.864Z"
   },
   {
    "duration": 26,
    "start_time": "2024-03-21T18:12:48.735Z"
   },
   {
    "duration": 34,
    "start_time": "2024-03-21T18:13:14.826Z"
   },
   {
    "duration": 32,
    "start_time": "2024-03-21T18:13:28.433Z"
   },
   {
    "duration": 33,
    "start_time": "2024-03-21T18:13:38.151Z"
   },
   {
    "duration": 24,
    "start_time": "2024-03-21T18:16:08.995Z"
   },
   {
    "duration": 24,
    "start_time": "2024-03-21T18:16:16.481Z"
   },
   {
    "duration": 36,
    "start_time": "2024-03-21T18:16:24.946Z"
   },
   {
    "duration": 28,
    "start_time": "2024-03-21T18:16:27.289Z"
   },
   {
    "duration": 39,
    "start_time": "2024-03-21T18:16:48.178Z"
   },
   {
    "duration": 32,
    "start_time": "2024-03-21T18:16:55.185Z"
   },
   {
    "duration": 24,
    "start_time": "2024-03-21T18:17:03.898Z"
   },
   {
    "duration": 1536,
    "start_time": "2024-03-21T18:20:49.153Z"
   },
   {
    "duration": 1579,
    "start_time": "2024-03-21T18:21:02.544Z"
   },
   {
    "duration": 33,
    "start_time": "2024-03-21T18:59:41.657Z"
   },
   {
    "duration": 1559,
    "start_time": "2024-03-21T19:00:15.135Z"
   },
   {
    "duration": 1558,
    "start_time": "2024-03-21T19:02:18.929Z"
   },
   {
    "duration": 27,
    "start_time": "2024-03-21T19:02:26.202Z"
   },
   {
    "duration": 26,
    "start_time": "2024-03-21T19:02:59.734Z"
   },
   {
    "duration": 1651,
    "start_time": "2024-03-21T19:07:54.890Z"
   },
   {
    "duration": 30,
    "start_time": "2024-03-21T19:08:07.788Z"
   },
   {
    "duration": 25,
    "start_time": "2024-03-21T19:10:22.291Z"
   },
   {
    "duration": 20,
    "start_time": "2024-03-21T19:11:07.643Z"
   },
   {
    "duration": 31,
    "start_time": "2024-03-21T19:11:14.539Z"
   },
   {
    "duration": 22,
    "start_time": "2024-03-21T19:16:45.637Z"
   },
   {
    "duration": 29,
    "start_time": "2024-03-21T19:16:49.412Z"
   },
   {
    "duration": 27,
    "start_time": "2024-03-21T19:17:58.939Z"
   },
   {
    "duration": 23,
    "start_time": "2024-03-21T19:20:07.615Z"
   },
   {
    "duration": 30,
    "start_time": "2024-03-21T19:20:20.469Z"
   },
   {
    "duration": 22,
    "start_time": "2024-03-21T19:21:14.464Z"
   },
   {
    "duration": 31,
    "start_time": "2024-03-21T19:21:20.173Z"
   },
   {
    "duration": 26,
    "start_time": "2024-03-21T19:23:05.821Z"
   },
   {
    "duration": 26,
    "start_time": "2024-03-21T19:24:11.311Z"
   },
   {
    "duration": 28,
    "start_time": "2024-03-21T19:24:24.382Z"
   },
   {
    "duration": 29,
    "start_time": "2024-03-21T19:24:39.261Z"
   },
   {
    "duration": 26,
    "start_time": "2024-03-21T19:25:06.054Z"
   },
   {
    "duration": 36,
    "start_time": "2024-03-21T19:25:11.077Z"
   },
   {
    "duration": 657,
    "start_time": "2024-03-21T19:25:46.912Z"
   },
   {
    "duration": 71,
    "start_time": "2024-03-21T19:25:47.571Z"
   },
   {
    "duration": 14,
    "start_time": "2024-03-21T19:25:47.644Z"
   },
   {
    "duration": 13,
    "start_time": "2024-03-21T19:25:47.660Z"
   },
   {
    "duration": 13,
    "start_time": "2024-03-21T19:25:47.675Z"
   },
   {
    "duration": 17,
    "start_time": "2024-03-21T19:25:47.689Z"
   },
   {
    "duration": 21,
    "start_time": "2024-03-21T19:25:47.708Z"
   },
   {
    "duration": 7,
    "start_time": "2024-03-21T19:25:47.731Z"
   },
   {
    "duration": 5,
    "start_time": "2024-03-21T19:25:47.740Z"
   },
   {
    "duration": 26,
    "start_time": "2024-03-21T19:25:47.748Z"
   },
   {
    "duration": 10,
    "start_time": "2024-03-21T19:25:47.775Z"
   },
   {
    "duration": 30,
    "start_time": "2024-03-21T19:25:47.786Z"
   },
   {
    "duration": 12,
    "start_time": "2024-03-21T19:25:47.817Z"
   },
   {
    "duration": 14,
    "start_time": "2024-03-21T19:25:47.831Z"
   },
   {
    "duration": 175,
    "start_time": "2024-03-21T19:25:47.847Z"
   },
   {
    "duration": 8,
    "start_time": "2024-03-21T19:25:48.024Z"
   },
   {
    "duration": 9,
    "start_time": "2024-03-21T19:25:48.033Z"
   },
   {
    "duration": 24,
    "start_time": "2024-03-21T19:25:48.043Z"
   },
   {
    "duration": 215,
    "start_time": "2024-03-21T19:25:48.069Z"
   },
   {
    "duration": 10,
    "start_time": "2024-03-21T19:25:48.286Z"
   },
   {
    "duration": 294,
    "start_time": "2024-03-21T19:25:48.297Z"
   },
   {
    "duration": 9,
    "start_time": "2024-03-21T19:25:48.592Z"
   },
   {
    "duration": 460,
    "start_time": "2024-03-21T19:25:48.602Z"
   },
   {
    "duration": 16,
    "start_time": "2024-03-21T19:25:49.064Z"
   },
   {
    "duration": 9,
    "start_time": "2024-03-21T19:25:49.082Z"
   },
   {
    "duration": 39,
    "start_time": "2024-03-21T19:25:49.093Z"
   },
   {
    "duration": 18,
    "start_time": "2024-03-21T19:25:49.134Z"
   },
   {
    "duration": 449,
    "start_time": "2024-03-21T19:25:49.155Z"
   },
   {
    "duration": 12,
    "start_time": "2024-03-21T19:25:49.606Z"
   },
   {
    "duration": 454,
    "start_time": "2024-03-21T19:25:49.620Z"
   },
   {
    "duration": 13,
    "start_time": "2024-03-21T19:25:50.076Z"
   },
   {
    "duration": 31,
    "start_time": "2024-03-21T19:25:50.091Z"
   },
   {
    "duration": 32,
    "start_time": "2024-03-21T19:26:05.102Z"
   },
   {
    "duration": 33,
    "start_time": "2024-03-21T19:29:06.319Z"
   },
   {
    "duration": 40,
    "start_time": "2024-03-21T19:38:22.402Z"
   },
   {
    "duration": 33,
    "start_time": "2024-03-21T19:50:05.745Z"
   },
   {
    "duration": 31,
    "start_time": "2024-03-21T19:50:40.211Z"
   },
   {
    "duration": 33,
    "start_time": "2024-03-21T19:50:47.917Z"
   },
   {
    "duration": 765,
    "start_time": "2024-03-23T12:29:55.071Z"
   },
   {
    "duration": 212,
    "start_time": "2024-03-23T12:29:55.838Z"
   },
   {
    "duration": 18,
    "start_time": "2024-03-23T12:29:56.052Z"
   },
   {
    "duration": 14,
    "start_time": "2024-03-23T12:29:56.073Z"
   },
   {
    "duration": 11,
    "start_time": "2024-03-23T12:29:56.088Z"
   },
   {
    "duration": 14,
    "start_time": "2024-03-23T12:29:56.100Z"
   },
   {
    "duration": 13,
    "start_time": "2024-03-23T12:29:56.115Z"
   },
   {
    "duration": 39,
    "start_time": "2024-03-23T12:29:56.129Z"
   },
   {
    "duration": 6,
    "start_time": "2024-03-23T12:29:56.169Z"
   },
   {
    "duration": 8,
    "start_time": "2024-03-23T12:29:56.177Z"
   },
   {
    "duration": 5,
    "start_time": "2024-03-23T12:29:56.186Z"
   },
   {
    "duration": 4,
    "start_time": "2024-03-23T12:29:56.193Z"
   },
   {
    "duration": 12,
    "start_time": "2024-03-23T12:29:56.199Z"
   },
   {
    "duration": 6,
    "start_time": "2024-03-23T12:29:56.212Z"
   },
   {
    "duration": 226,
    "start_time": "2024-03-23T12:29:56.219Z"
   },
   {
    "duration": 7,
    "start_time": "2024-03-23T12:29:56.446Z"
   },
   {
    "duration": 5,
    "start_time": "2024-03-23T12:29:56.465Z"
   },
   {
    "duration": 6,
    "start_time": "2024-03-23T12:29:56.471Z"
   },
   {
    "duration": 182,
    "start_time": "2024-03-23T12:29:56.478Z"
   },
   {
    "duration": 10,
    "start_time": "2024-03-23T12:29:56.661Z"
   },
   {
    "duration": 263,
    "start_time": "2024-03-23T12:29:56.672Z"
   },
   {
    "duration": 8,
    "start_time": "2024-03-23T12:29:56.936Z"
   },
   {
    "duration": 470,
    "start_time": "2024-03-23T12:29:56.946Z"
   },
   {
    "duration": 9,
    "start_time": "2024-03-23T12:29:57.418Z"
   },
   {
    "duration": 8,
    "start_time": "2024-03-23T12:29:57.428Z"
   },
   {
    "duration": 63,
    "start_time": "2024-03-23T12:29:57.438Z"
   },
   {
    "duration": 17,
    "start_time": "2024-03-23T12:29:57.503Z"
   },
   {
    "duration": 455,
    "start_time": "2024-03-23T12:29:57.524Z"
   },
   {
    "duration": 10,
    "start_time": "2024-03-23T12:29:57.981Z"
   },
   {
    "duration": 464,
    "start_time": "2024-03-23T12:29:57.993Z"
   },
   {
    "duration": 12,
    "start_time": "2024-03-23T12:29:58.464Z"
   },
   {
    "duration": 31,
    "start_time": "2024-03-23T12:29:58.478Z"
   },
   {
    "duration": 62,
    "start_time": "2024-03-23T12:29:58.510Z"
   },
   {
    "duration": 30,
    "start_time": "2024-03-23T12:46:56.915Z"
   },
   {
    "duration": 34,
    "start_time": "2024-03-23T12:47:19.359Z"
   },
   {
    "duration": 33,
    "start_time": "2024-03-23T12:47:23.663Z"
   },
   {
    "duration": 836,
    "start_time": "2024-03-24T10:21:11.895Z"
   },
   {
    "duration": 203,
    "start_time": "2024-03-24T10:21:12.733Z"
   },
   {
    "duration": 15,
    "start_time": "2024-03-24T10:21:12.938Z"
   },
   {
    "duration": 15,
    "start_time": "2024-03-24T10:21:12.956Z"
   },
   {
    "duration": 12,
    "start_time": "2024-03-24T10:21:12.973Z"
   },
   {
    "duration": 24,
    "start_time": "2024-03-24T10:21:12.987Z"
   },
   {
    "duration": 14,
    "start_time": "2024-03-24T10:21:13.013Z"
   },
   {
    "duration": 37,
    "start_time": "2024-03-24T10:21:13.029Z"
   },
   {
    "duration": 16,
    "start_time": "2024-03-24T10:21:13.067Z"
   },
   {
    "duration": 15,
    "start_time": "2024-03-24T10:21:13.086Z"
   },
   {
    "duration": 11,
    "start_time": "2024-03-24T10:21:13.103Z"
   },
   {
    "duration": 12,
    "start_time": "2024-03-24T10:21:13.116Z"
   },
   {
    "duration": 16,
    "start_time": "2024-03-24T10:21:13.130Z"
   },
   {
    "duration": 20,
    "start_time": "2024-03-24T10:21:13.148Z"
   },
   {
    "duration": 205,
    "start_time": "2024-03-24T10:21:13.170Z"
   },
   {
    "duration": 9,
    "start_time": "2024-03-24T10:21:13.376Z"
   },
   {
    "duration": 9,
    "start_time": "2024-03-24T10:21:13.386Z"
   },
   {
    "duration": 11,
    "start_time": "2024-03-24T10:21:13.397Z"
   },
   {
    "duration": 211,
    "start_time": "2024-03-24T10:21:13.410Z"
   },
   {
    "duration": 8,
    "start_time": "2024-03-24T10:21:13.623Z"
   },
   {
    "duration": 290,
    "start_time": "2024-03-24T10:21:13.634Z"
   },
   {
    "duration": 8,
    "start_time": "2024-03-24T10:21:13.926Z"
   },
   {
    "duration": 473,
    "start_time": "2024-03-24T10:21:13.936Z"
   },
   {
    "duration": 11,
    "start_time": "2024-03-24T10:21:14.411Z"
   },
   {
    "duration": 13,
    "start_time": "2024-03-24T10:21:14.424Z"
   },
   {
    "duration": 42,
    "start_time": "2024-03-24T10:21:14.458Z"
   },
   {
    "duration": 25,
    "start_time": "2024-03-24T10:21:14.502Z"
   },
   {
    "duration": 472,
    "start_time": "2024-03-24T10:21:14.530Z"
   },
   {
    "duration": 13,
    "start_time": "2024-03-24T10:21:15.004Z"
   },
   {
    "duration": 491,
    "start_time": "2024-03-24T10:21:15.019Z"
   },
   {
    "duration": 15,
    "start_time": "2024-03-24T10:21:15.512Z"
   },
   {
    "duration": 54,
    "start_time": "2024-03-24T10:21:15.529Z"
   },
   {
    "duration": 61,
    "start_time": "2024-03-24T10:21:15.584Z"
   },
   {
    "duration": 8,
    "start_time": "2024-03-24T10:33:04.609Z"
   },
   {
    "duration": 84,
    "start_time": "2024-03-24T10:34:32.922Z"
   },
   {
    "duration": 911,
    "start_time": "2024-03-24T10:34:42.368Z"
   },
   {
    "duration": 1119,
    "start_time": "2024-03-24T10:34:57.644Z"
   },
   {
    "duration": 12,
    "start_time": "2024-03-24T10:35:34.944Z"
   },
   {
    "duration": 681,
    "start_time": "2024-03-24T10:39:26.644Z"
   },
   {
    "duration": 67,
    "start_time": "2024-03-24T10:39:27.327Z"
   },
   {
    "duration": 14,
    "start_time": "2024-03-24T10:39:27.396Z"
   },
   {
    "duration": 28,
    "start_time": "2024-03-24T10:39:27.412Z"
   },
   {
    "duration": 15,
    "start_time": "2024-03-24T10:39:27.442Z"
   },
   {
    "duration": 27,
    "start_time": "2024-03-24T10:39:27.459Z"
   },
   {
    "duration": 14,
    "start_time": "2024-03-24T10:39:27.488Z"
   },
   {
    "duration": 23,
    "start_time": "2024-03-24T10:39:27.504Z"
   },
   {
    "duration": 15,
    "start_time": "2024-03-24T10:39:27.529Z"
   },
   {
    "duration": 22,
    "start_time": "2024-03-24T10:39:27.547Z"
   },
   {
    "duration": 17,
    "start_time": "2024-03-24T10:39:27.571Z"
   },
   {
    "duration": 33,
    "start_time": "2024-03-24T10:39:27.589Z"
   },
   {
    "duration": 20,
    "start_time": "2024-03-24T10:39:27.624Z"
   },
   {
    "duration": 26,
    "start_time": "2024-03-24T10:39:27.645Z"
   },
   {
    "duration": 178,
    "start_time": "2024-03-24T10:39:27.672Z"
   },
   {
    "duration": 12,
    "start_time": "2024-03-24T10:39:27.852Z"
   },
   {
    "duration": 12,
    "start_time": "2024-03-24T10:39:27.865Z"
   },
   {
    "duration": 17,
    "start_time": "2024-03-24T10:39:27.879Z"
   },
   {
    "duration": 191,
    "start_time": "2024-03-24T10:39:27.897Z"
   },
   {
    "duration": 8,
    "start_time": "2024-03-24T10:39:28.089Z"
   },
   {
    "duration": 296,
    "start_time": "2024-03-24T10:39:28.099Z"
   },
   {
    "duration": 8,
    "start_time": "2024-03-24T10:39:28.396Z"
   },
   {
    "duration": 467,
    "start_time": "2024-03-24T10:39:28.406Z"
   },
   {
    "duration": 9,
    "start_time": "2024-03-24T10:39:28.875Z"
   },
   {
    "duration": 13,
    "start_time": "2024-03-24T10:39:28.886Z"
   },
   {
    "duration": 38,
    "start_time": "2024-03-24T10:39:28.901Z"
   },
   {
    "duration": 33,
    "start_time": "2024-03-24T10:39:28.941Z"
   },
   {
    "duration": 465,
    "start_time": "2024-03-24T10:39:28.978Z"
   },
   {
    "duration": 19,
    "start_time": "2024-03-24T10:39:29.445Z"
   },
   {
    "duration": 449,
    "start_time": "2024-03-24T10:39:29.466Z"
   },
   {
    "duration": 12,
    "start_time": "2024-03-24T10:39:29.917Z"
   },
   {
    "duration": 53,
    "start_time": "2024-03-24T10:39:29.930Z"
   },
   {
    "duration": 5,
    "start_time": "2024-03-24T10:39:29.985Z"
   },
   {
    "duration": 13,
    "start_time": "2024-03-24T10:39:49.906Z"
   },
   {
    "duration": 95,
    "start_time": "2024-03-24T10:52:22.149Z"
   },
   {
    "duration": 14,
    "start_time": "2024-03-24T10:53:55.364Z"
   },
   {
    "duration": 5,
    "start_time": "2024-03-24T10:54:12.772Z"
   },
   {
    "duration": 5,
    "start_time": "2024-03-24T10:56:40.590Z"
   },
   {
    "duration": 12,
    "start_time": "2024-03-24T10:57:09.735Z"
   },
   {
    "duration": 676,
    "start_time": "2024-03-24T10:57:12.965Z"
   },
   {
    "duration": 68,
    "start_time": "2024-03-24T10:57:13.643Z"
   },
   {
    "duration": 15,
    "start_time": "2024-03-24T10:57:13.712Z"
   },
   {
    "duration": 15,
    "start_time": "2024-03-24T10:57:13.728Z"
   },
   {
    "duration": 12,
    "start_time": "2024-03-24T10:57:13.745Z"
   },
   {
    "duration": 16,
    "start_time": "2024-03-24T10:57:13.759Z"
   },
   {
    "duration": 12,
    "start_time": "2024-03-24T10:57:13.777Z"
   },
   {
    "duration": 8,
    "start_time": "2024-03-24T10:57:13.791Z"
   },
   {
    "duration": 6,
    "start_time": "2024-03-24T10:57:13.800Z"
   },
   {
    "duration": 27,
    "start_time": "2024-03-24T10:57:13.808Z"
   },
   {
    "duration": 22,
    "start_time": "2024-03-24T10:57:13.837Z"
   },
   {
    "duration": 8,
    "start_time": "2024-03-24T10:57:13.861Z"
   },
   {
    "duration": 7,
    "start_time": "2024-03-24T10:57:13.871Z"
   },
   {
    "duration": 19,
    "start_time": "2024-03-24T10:57:13.880Z"
   },
   {
    "duration": 178,
    "start_time": "2024-03-24T10:57:13.901Z"
   },
   {
    "duration": 8,
    "start_time": "2024-03-24T10:57:14.081Z"
   },
   {
    "duration": 6,
    "start_time": "2024-03-24T10:57:14.090Z"
   },
   {
    "duration": 6,
    "start_time": "2024-03-24T10:57:14.098Z"
   },
   {
    "duration": 208,
    "start_time": "2024-03-24T10:57:14.105Z"
   },
   {
    "duration": 7,
    "start_time": "2024-03-24T10:57:14.315Z"
   },
   {
    "duration": 320,
    "start_time": "2024-03-24T10:57:14.324Z"
   },
   {
    "duration": 16,
    "start_time": "2024-03-24T10:57:14.646Z"
   },
   {
    "duration": 473,
    "start_time": "2024-03-24T10:57:14.663Z"
   },
   {
    "duration": 10,
    "start_time": "2024-03-24T10:57:15.138Z"
   },
   {
    "duration": 42,
    "start_time": "2024-03-24T10:57:15.158Z"
   },
   {
    "duration": 68,
    "start_time": "2024-03-24T10:57:15.202Z"
   },
   {
    "duration": 21,
    "start_time": "2024-03-24T10:57:15.272Z"
   },
   {
    "duration": 480,
    "start_time": "2024-03-24T10:57:15.297Z"
   },
   {
    "duration": 12,
    "start_time": "2024-03-24T10:57:15.780Z"
   },
   {
    "duration": 481,
    "start_time": "2024-03-24T10:57:15.794Z"
   },
   {
    "duration": 12,
    "start_time": "2024-03-24T10:57:16.277Z"
   },
   {
    "duration": 45,
    "start_time": "2024-03-24T10:57:16.290Z"
   },
   {
    "duration": 85,
    "start_time": "2024-03-24T10:57:16.336Z"
   },
   {
    "duration": 11,
    "start_time": "2024-03-24T10:57:25.063Z"
   },
   {
    "duration": 68,
    "start_time": "2024-03-24T11:06:37.278Z"
   },
   {
    "duration": 62,
    "start_time": "2024-03-24T11:07:08.062Z"
   },
   {
    "duration": 998,
    "start_time": "2024-03-24T11:12:06.115Z"
   },
   {
    "duration": 990,
    "start_time": "2024-03-24T11:12:42.510Z"
   },
   {
    "duration": 7,
    "start_time": "2024-03-24T11:12:59.336Z"
   },
   {
    "duration": 9,
    "start_time": "2024-03-24T11:13:54.006Z"
   },
   {
    "duration": 11,
    "start_time": "2024-03-24T11:14:11.899Z"
   },
   {
    "duration": 13,
    "start_time": "2024-03-24T11:14:17.076Z"
   },
   {
    "duration": 8,
    "start_time": "2024-03-24T11:14:30.460Z"
   },
   {
    "duration": 11,
    "start_time": "2024-03-24T11:17:03.811Z"
   },
   {
    "duration": 1007,
    "start_time": "2024-03-24T11:17:31.219Z"
   },
   {
    "duration": 7,
    "start_time": "2024-03-24T11:17:39.382Z"
   },
   {
    "duration": 15,
    "start_time": "2024-03-24T11:17:56.330Z"
   },
   {
    "duration": 5,
    "start_time": "2024-03-24T11:18:06.369Z"
   },
   {
    "duration": 14,
    "start_time": "2024-03-24T11:18:12.009Z"
   },
   {
    "duration": 13,
    "start_time": "2024-03-24T11:22:08.337Z"
   },
   {
    "duration": 7,
    "start_time": "2024-03-24T11:30:54.107Z"
   },
   {
    "duration": 11,
    "start_time": "2024-03-24T11:30:57.371Z"
   },
   {
    "duration": 937,
    "start_time": "2024-03-24T11:31:57.782Z"
   },
   {
    "duration": 12,
    "start_time": "2024-03-24T11:32:08.524Z"
   },
   {
    "duration": 12,
    "start_time": "2024-03-24T11:32:16.708Z"
   },
   {
    "duration": 1184,
    "start_time": "2024-03-24T11:34:37.612Z"
   },
   {
    "duration": 604,
    "start_time": "2024-03-24T11:34:53.491Z"
   },
   {
    "duration": 66,
    "start_time": "2024-03-24T11:34:54.097Z"
   },
   {
    "duration": 14,
    "start_time": "2024-03-24T11:34:54.164Z"
   },
   {
    "duration": 18,
    "start_time": "2024-03-24T11:34:54.180Z"
   },
   {
    "duration": 24,
    "start_time": "2024-03-24T11:34:54.200Z"
   },
   {
    "duration": 18,
    "start_time": "2024-03-24T11:34:54.226Z"
   },
   {
    "duration": 15,
    "start_time": "2024-03-24T11:34:54.245Z"
   },
   {
    "duration": 11,
    "start_time": "2024-03-24T11:34:54.262Z"
   },
   {
    "duration": 9,
    "start_time": "2024-03-24T11:34:54.275Z"
   },
   {
    "duration": 22,
    "start_time": "2024-03-24T11:34:54.285Z"
   },
   {
    "duration": 25,
    "start_time": "2024-03-24T11:34:54.308Z"
   },
   {
    "duration": 12,
    "start_time": "2024-03-24T11:34:54.334Z"
   },
   {
    "duration": 15,
    "start_time": "2024-03-24T11:34:54.347Z"
   },
   {
    "duration": 16,
    "start_time": "2024-03-24T11:34:54.365Z"
   },
   {
    "duration": 196,
    "start_time": "2024-03-24T11:34:54.382Z"
   },
   {
    "duration": 17,
    "start_time": "2024-03-24T11:34:54.580Z"
   },
   {
    "duration": 8,
    "start_time": "2024-03-24T11:34:54.600Z"
   },
   {
    "duration": 10,
    "start_time": "2024-03-24T11:34:54.610Z"
   },
   {
    "duration": 209,
    "start_time": "2024-03-24T11:34:54.621Z"
   },
   {
    "duration": 8,
    "start_time": "2024-03-24T11:34:54.832Z"
   },
   {
    "duration": 291,
    "start_time": "2024-03-24T11:34:54.842Z"
   },
   {
    "duration": 25,
    "start_time": "2024-03-24T11:34:55.134Z"
   },
   {
    "duration": 446,
    "start_time": "2024-03-24T11:34:55.161Z"
   },
   {
    "duration": 8,
    "start_time": "2024-03-24T11:34:55.609Z"
   },
   {
    "duration": 13,
    "start_time": "2024-03-24T11:34:55.619Z"
   },
   {
    "duration": 45,
    "start_time": "2024-03-24T11:34:55.633Z"
   },
   {
    "duration": 19,
    "start_time": "2024-03-24T11:34:55.680Z"
   },
   {
    "duration": 478,
    "start_time": "2024-03-24T11:34:55.701Z"
   },
   {
    "duration": 11,
    "start_time": "2024-03-24T11:34:56.181Z"
   },
   {
    "duration": 447,
    "start_time": "2024-03-24T11:34:56.194Z"
   },
   {
    "duration": 20,
    "start_time": "2024-03-24T11:34:56.642Z"
   },
   {
    "duration": 31,
    "start_time": "2024-03-24T11:34:56.663Z"
   },
   {
    "duration": 1280,
    "start_time": "2024-03-24T11:34:56.695Z"
   },
   {
    "duration": 1233,
    "start_time": "2024-03-24T11:35:16.689Z"
   },
   {
    "duration": 1242,
    "start_time": "2024-03-24T11:35:58.593Z"
   },
   {
    "duration": 5,
    "start_time": "2024-03-24T11:36:43.668Z"
   },
   {
    "duration": 728,
    "start_time": "2024-03-24T11:37:43.321Z"
   },
   {
    "duration": 82,
    "start_time": "2024-03-24T11:41:02.009Z"
   },
   {
    "duration": 12,
    "start_time": "2024-03-24T11:41:32.110Z"
   },
   {
    "duration": 13,
    "start_time": "2024-03-24T11:41:41.557Z"
   },
   {
    "duration": 12,
    "start_time": "2024-03-24T11:44:15.630Z"
   },
   {
    "duration": 13,
    "start_time": "2024-03-24T11:45:38.469Z"
   },
   {
    "duration": 16,
    "start_time": "2024-03-24T11:45:44.392Z"
   },
   {
    "duration": 16,
    "start_time": "2024-03-24T11:47:43.974Z"
   },
   {
    "duration": 618,
    "start_time": "2024-03-24T11:48:45.599Z"
   },
   {
    "duration": 14,
    "start_time": "2024-03-24T12:51:14.119Z"
   },
   {
    "duration": 522,
    "start_time": "2024-03-24T12:51:25.101Z"
   },
   {
    "duration": 15,
    "start_time": "2024-03-24T13:03:17.759Z"
   },
   {
    "duration": 21,
    "start_time": "2024-03-24T13:03:42.496Z"
   },
   {
    "duration": 14,
    "start_time": "2024-03-24T13:04:17.306Z"
   },
   {
    "duration": 17,
    "start_time": "2024-03-24T13:04:29.559Z"
   },
   {
    "duration": 14,
    "start_time": "2024-03-24T13:04:38.463Z"
   },
   {
    "duration": 660,
    "start_time": "2024-03-24T13:04:43.124Z"
   },
   {
    "duration": 66,
    "start_time": "2024-03-24T13:04:43.786Z"
   },
   {
    "duration": 15,
    "start_time": "2024-03-24T13:04:43.854Z"
   },
   {
    "duration": 19,
    "start_time": "2024-03-24T13:04:43.871Z"
   },
   {
    "duration": 11,
    "start_time": "2024-03-24T13:04:43.892Z"
   },
   {
    "duration": 13,
    "start_time": "2024-03-24T13:04:43.905Z"
   },
   {
    "duration": 13,
    "start_time": "2024-03-24T13:04:43.919Z"
   },
   {
    "duration": 8,
    "start_time": "2024-03-24T13:04:43.959Z"
   },
   {
    "duration": 13,
    "start_time": "2024-03-24T13:04:43.968Z"
   },
   {
    "duration": 25,
    "start_time": "2024-03-24T13:04:43.983Z"
   },
   {
    "duration": 38,
    "start_time": "2024-03-24T13:04:44.010Z"
   },
   {
    "duration": 24,
    "start_time": "2024-03-24T13:04:44.049Z"
   },
   {
    "duration": 9,
    "start_time": "2024-03-24T13:04:44.075Z"
   },
   {
    "duration": 16,
    "start_time": "2024-03-24T13:04:44.086Z"
   },
   {
    "duration": 184,
    "start_time": "2024-03-24T13:04:44.104Z"
   },
   {
    "duration": 9,
    "start_time": "2024-03-24T13:04:44.290Z"
   },
   {
    "duration": 6,
    "start_time": "2024-03-24T13:04:44.301Z"
   },
   {
    "duration": 13,
    "start_time": "2024-03-24T13:04:44.309Z"
   },
   {
    "duration": 214,
    "start_time": "2024-03-24T13:04:44.323Z"
   },
   {
    "duration": 19,
    "start_time": "2024-03-24T13:04:44.540Z"
   },
   {
    "duration": 286,
    "start_time": "2024-03-24T13:04:44.561Z"
   },
   {
    "duration": 12,
    "start_time": "2024-03-24T13:04:44.849Z"
   },
   {
    "duration": 465,
    "start_time": "2024-03-24T13:04:44.862Z"
   },
   {
    "duration": 8,
    "start_time": "2024-03-24T13:04:45.329Z"
   },
   {
    "duration": 77,
    "start_time": "2024-03-24T13:04:45.338Z"
   },
   {
    "duration": 48,
    "start_time": "2024-03-24T13:04:45.418Z"
   },
   {
    "duration": 35,
    "start_time": "2024-03-24T13:04:45.467Z"
   },
   {
    "duration": 490,
    "start_time": "2024-03-24T13:04:45.505Z"
   },
   {
    "duration": 12,
    "start_time": "2024-03-24T13:04:45.996Z"
   },
   {
    "duration": 494,
    "start_time": "2024-03-24T13:04:46.009Z"
   },
   {
    "duration": 11,
    "start_time": "2024-03-24T13:04:46.505Z"
   },
   {
    "duration": 45,
    "start_time": "2024-03-24T13:04:46.517Z"
   },
   {
    "duration": 90,
    "start_time": "2024-03-24T13:04:46.564Z"
   },
   {
    "duration": 54,
    "start_time": "2024-03-24T13:11:31.334Z"
   },
   {
    "duration": 58,
    "start_time": "2024-03-24T13:11:40.118Z"
   },
   {
    "duration": 48,
    "start_time": "2024-03-24T13:12:05.463Z"
   },
   {
    "duration": 59,
    "start_time": "2024-03-24T13:12:21.108Z"
   },
   {
    "duration": 52,
    "start_time": "2024-03-24T13:12:58.048Z"
   },
   {
    "duration": 30,
    "start_time": "2024-03-24T13:23:10.490Z"
   },
   {
    "duration": 26080,
    "start_time": "2024-03-24T13:24:13.014Z"
   },
   {
    "duration": 16,
    "start_time": "2024-03-24T13:26:08.179Z"
   },
   {
    "duration": 1042,
    "start_time": "2024-03-24T13:30:13.739Z"
   },
   {
    "duration": 25552,
    "start_time": "2024-03-24T13:36:27.060Z"
   },
   {
    "duration": 30,
    "start_time": "2024-03-24T13:36:52.898Z"
   },
   {
    "duration": 1272,
    "start_time": "2024-03-24T13:37:25.969Z"
   },
   {
    "duration": 20,
    "start_time": "2024-03-24T13:37:27.243Z"
   },
   {
    "duration": 1010,
    "start_time": "2024-03-24T13:47:38.982Z"
   },
   {
    "duration": 13,
    "start_time": "2024-03-24T13:47:46.782Z"
   },
   {
    "duration": 1032,
    "start_time": "2024-03-24T13:48:06.804Z"
   },
   {
    "duration": 14,
    "start_time": "2024-03-24T13:48:12.350Z"
   },
   {
    "duration": 1297,
    "start_time": "2024-03-24T13:49:22.056Z"
   },
   {
    "duration": 14,
    "start_time": "2024-03-24T13:49:23.488Z"
   },
   {
    "duration": 35,
    "start_time": "2024-03-24T13:50:12.815Z"
   },
   {
    "duration": 1040,
    "start_time": "2024-03-24T13:50:36.582Z"
   },
   {
    "duration": 11,
    "start_time": "2024-03-24T13:50:38.712Z"
   },
   {
    "duration": 1653,
    "start_time": "2024-03-24T13:51:16.973Z"
   },
   {
    "duration": 13,
    "start_time": "2024-03-24T13:51:19.354Z"
   },
   {
    "duration": 31,
    "start_time": "2024-03-24T13:53:50.576Z"
   },
   {
    "duration": 13,
    "start_time": "2024-03-24T14:06:04.019Z"
   },
   {
    "duration": 42,
    "start_time": "2024-03-24T14:06:19.609Z"
   },
   {
    "duration": 32,
    "start_time": "2024-03-24T14:07:53.029Z"
   },
   {
    "duration": 32,
    "start_time": "2024-03-24T14:08:01.709Z"
   },
   {
    "duration": 34,
    "start_time": "2024-03-24T14:08:11.043Z"
   },
   {
    "duration": 32,
    "start_time": "2024-03-24T14:08:18.306Z"
   },
   {
    "duration": 32,
    "start_time": "2024-03-24T14:08:23.825Z"
   },
   {
    "duration": 776,
    "start_time": "2024-03-24T14:08:39.986Z"
   },
   {
    "duration": 32,
    "start_time": "2024-03-24T14:08:51.643Z"
   },
   {
    "duration": 838,
    "start_time": "2024-03-24T14:11:39.530Z"
   },
   {
    "duration": 40,
    "start_time": "2024-03-24T14:11:53.664Z"
   },
   {
    "duration": 766,
    "start_time": "2024-03-24T14:12:44.915Z"
   },
   {
    "duration": 42,
    "start_time": "2024-03-24T14:13:07.891Z"
   },
   {
    "duration": 763,
    "start_time": "2024-03-24T14:13:53.786Z"
   },
   {
    "duration": 38,
    "start_time": "2024-03-24T14:14:19.099Z"
   },
   {
    "duration": 33,
    "start_time": "2024-03-24T14:14:25.810Z"
   },
   {
    "duration": 42,
    "start_time": "2024-03-24T14:14:33.307Z"
   },
   {
    "duration": 43,
    "start_time": "2024-03-24T14:15:59.526Z"
   },
   {
    "duration": 44,
    "start_time": "2024-03-24T14:16:31.167Z"
   },
   {
    "duration": 39,
    "start_time": "2024-03-24T14:16:38.003Z"
   },
   {
    "duration": 57,
    "start_time": "2024-03-24T14:39:43.648Z"
   },
   {
    "duration": 55,
    "start_time": "2024-03-24T14:40:28.448Z"
   },
   {
    "duration": 51,
    "start_time": "2024-03-24T14:41:22.688Z"
   },
   {
    "duration": 48,
    "start_time": "2024-03-24T14:41:39.855Z"
   },
   {
    "duration": 52,
    "start_time": "2024-03-24T14:42:05.227Z"
   },
   {
    "duration": 60,
    "start_time": "2024-03-24T14:45:20.716Z"
   },
   {
    "duration": 61,
    "start_time": "2024-03-24T14:45:30.419Z"
   },
   {
    "duration": 53,
    "start_time": "2024-03-24T14:45:56.683Z"
   },
   {
    "duration": 5,
    "start_time": "2024-03-24T14:47:17.093Z"
   },
   {
    "duration": 48,
    "start_time": "2024-03-24T14:47:27.868Z"
   },
   {
    "duration": 58,
    "start_time": "2024-03-24T14:47:41.719Z"
   },
   {
    "duration": 645,
    "start_time": "2024-03-24T14:48:02.826Z"
   },
   {
    "duration": 68,
    "start_time": "2024-03-24T14:48:03.473Z"
   },
   {
    "duration": 14,
    "start_time": "2024-03-24T14:48:03.543Z"
   },
   {
    "duration": 19,
    "start_time": "2024-03-24T14:48:03.562Z"
   },
   {
    "duration": 11,
    "start_time": "2024-03-24T14:48:03.583Z"
   },
   {
    "duration": 16,
    "start_time": "2024-03-24T14:48:03.595Z"
   },
   {
    "duration": 12,
    "start_time": "2024-03-24T14:48:03.613Z"
   },
   {
    "duration": 34,
    "start_time": "2024-03-24T14:48:03.627Z"
   },
   {
    "duration": 12,
    "start_time": "2024-03-24T14:48:03.663Z"
   },
   {
    "duration": 13,
    "start_time": "2024-03-24T14:48:03.677Z"
   },
   {
    "duration": 5,
    "start_time": "2024-03-24T14:48:03.691Z"
   },
   {
    "duration": 27,
    "start_time": "2024-03-24T14:48:03.697Z"
   },
   {
    "duration": 6,
    "start_time": "2024-03-24T14:48:03.726Z"
   },
   {
    "duration": 9,
    "start_time": "2024-03-24T14:48:03.734Z"
   },
   {
    "duration": 193,
    "start_time": "2024-03-24T14:48:03.744Z"
   },
   {
    "duration": 11,
    "start_time": "2024-03-24T14:48:03.940Z"
   },
   {
    "duration": 8,
    "start_time": "2024-03-24T14:48:03.967Z"
   },
   {
    "duration": 8,
    "start_time": "2024-03-24T14:48:03.978Z"
   },
   {
    "duration": 220,
    "start_time": "2024-03-24T14:48:03.987Z"
   },
   {
    "duration": 8,
    "start_time": "2024-03-24T14:48:04.209Z"
   },
   {
    "duration": 317,
    "start_time": "2024-03-24T14:48:04.218Z"
   },
   {
    "duration": 8,
    "start_time": "2024-03-24T14:48:04.536Z"
   },
   {
    "duration": 469,
    "start_time": "2024-03-24T14:48:04.545Z"
   },
   {
    "duration": 8,
    "start_time": "2024-03-24T14:48:05.016Z"
   },
   {
    "duration": 10,
    "start_time": "2024-03-24T14:48:05.025Z"
   },
   {
    "duration": 55,
    "start_time": "2024-03-24T14:48:05.037Z"
   },
   {
    "duration": 20,
    "start_time": "2024-03-24T14:48:05.093Z"
   },
   {
    "duration": 497,
    "start_time": "2024-03-24T14:48:05.114Z"
   },
   {
    "duration": 12,
    "start_time": "2024-03-24T14:48:05.612Z"
   },
   {
    "duration": 482,
    "start_time": "2024-03-24T14:48:05.626Z"
   },
   {
    "duration": 11,
    "start_time": "2024-03-24T14:48:06.110Z"
   },
   {
    "duration": 80,
    "start_time": "2024-03-24T14:48:06.122Z"
   },
   {
    "duration": 76,
    "start_time": "2024-03-24T14:48:06.204Z"
   },
   {
    "duration": 68,
    "start_time": "2024-03-24T14:48:48.709Z"
   },
   {
    "duration": 72,
    "start_time": "2024-03-24T14:50:03.373Z"
   },
   {
    "duration": 57,
    "start_time": "2024-03-24T14:50:09.317Z"
   },
   {
    "duration": 48,
    "start_time": "2024-03-24T14:51:45.734Z"
   },
   {
    "duration": 621,
    "start_time": "2024-03-24T14:51:54.592Z"
   },
   {
    "duration": 69,
    "start_time": "2024-03-24T14:51:55.215Z"
   },
   {
    "duration": 16,
    "start_time": "2024-03-24T14:51:55.285Z"
   },
   {
    "duration": 23,
    "start_time": "2024-03-24T14:51:55.302Z"
   },
   {
    "duration": 11,
    "start_time": "2024-03-24T14:51:55.328Z"
   },
   {
    "duration": 26,
    "start_time": "2024-03-24T14:51:55.341Z"
   },
   {
    "duration": 14,
    "start_time": "2024-03-24T14:51:55.368Z"
   },
   {
    "duration": 8,
    "start_time": "2024-03-24T14:51:55.383Z"
   },
   {
    "duration": 6,
    "start_time": "2024-03-24T14:51:55.393Z"
   },
   {
    "duration": 26,
    "start_time": "2024-03-24T14:51:55.401Z"
   },
   {
    "duration": 22,
    "start_time": "2024-03-24T14:51:55.428Z"
   },
   {
    "duration": 4,
    "start_time": "2024-03-24T14:51:55.452Z"
   },
   {
    "duration": 10,
    "start_time": "2024-03-24T14:51:55.457Z"
   },
   {
    "duration": 8,
    "start_time": "2024-03-24T14:51:55.470Z"
   },
   {
    "duration": 180,
    "start_time": "2024-03-24T14:51:55.480Z"
   },
   {
    "duration": 8,
    "start_time": "2024-03-24T14:51:55.662Z"
   },
   {
    "duration": 39,
    "start_time": "2024-03-24T14:51:55.672Z"
   },
   {
    "duration": 13,
    "start_time": "2024-03-24T14:51:55.713Z"
   },
   {
    "duration": 197,
    "start_time": "2024-03-24T14:51:55.728Z"
   },
   {
    "duration": 8,
    "start_time": "2024-03-24T14:51:55.927Z"
   },
   {
    "duration": 305,
    "start_time": "2024-03-24T14:51:55.936Z"
   },
   {
    "duration": 17,
    "start_time": "2024-03-24T14:51:56.242Z"
   },
   {
    "duration": 425,
    "start_time": "2024-03-24T14:51:56.260Z"
   },
   {
    "duration": 8,
    "start_time": "2024-03-24T14:51:56.686Z"
   },
   {
    "duration": 15,
    "start_time": "2024-03-24T14:51:56.696Z"
   },
   {
    "duration": 31,
    "start_time": "2024-03-24T14:51:56.712Z"
   },
   {
    "duration": 19,
    "start_time": "2024-03-24T14:51:56.759Z"
   },
   {
    "duration": 506,
    "start_time": "2024-03-24T14:51:56.780Z"
   },
   {
    "duration": 11,
    "start_time": "2024-03-24T14:51:57.288Z"
   },
   {
    "duration": 460,
    "start_time": "2024-03-24T14:51:57.301Z"
   },
   {
    "duration": 11,
    "start_time": "2024-03-24T14:51:57.763Z"
   },
   {
    "duration": 75,
    "start_time": "2024-03-24T14:51:57.776Z"
   },
   {
    "duration": 72,
    "start_time": "2024-03-24T14:51:57.852Z"
   },
   {
    "duration": 59,
    "start_time": "2024-03-24T14:53:04.616Z"
   },
   {
    "duration": 1026,
    "start_time": "2024-03-24T15:00:57.706Z"
   },
   {
    "duration": 699,
    "start_time": "2024-03-24T15:01:03.952Z"
   },
   {
    "duration": 70,
    "start_time": "2024-03-24T15:01:04.653Z"
   },
   {
    "duration": 14,
    "start_time": "2024-03-24T15:01:04.725Z"
   },
   {
    "duration": 15,
    "start_time": "2024-03-24T15:01:04.741Z"
   },
   {
    "duration": 14,
    "start_time": "2024-03-24T15:01:04.766Z"
   },
   {
    "duration": 16,
    "start_time": "2024-03-24T15:01:04.783Z"
   },
   {
    "duration": 14,
    "start_time": "2024-03-24T15:01:04.801Z"
   },
   {
    "duration": 9,
    "start_time": "2024-03-24T15:01:04.817Z"
   },
   {
    "duration": 38,
    "start_time": "2024-03-24T15:01:04.828Z"
   },
   {
    "duration": 9,
    "start_time": "2024-03-24T15:01:04.869Z"
   },
   {
    "duration": 42,
    "start_time": "2024-03-24T15:01:04.879Z"
   },
   {
    "duration": 4,
    "start_time": "2024-03-24T15:01:04.923Z"
   },
   {
    "duration": 8,
    "start_time": "2024-03-24T15:01:04.929Z"
   },
   {
    "duration": 21,
    "start_time": "2024-03-24T15:01:04.939Z"
   },
   {
    "duration": 199,
    "start_time": "2024-03-24T15:01:04.972Z"
   },
   {
    "duration": 9,
    "start_time": "2024-03-24T15:01:05.172Z"
   },
   {
    "duration": 7,
    "start_time": "2024-03-24T15:01:05.183Z"
   },
   {
    "duration": 19,
    "start_time": "2024-03-24T15:01:05.192Z"
   },
   {
    "duration": 220,
    "start_time": "2024-03-24T15:01:05.212Z"
   },
   {
    "duration": 9,
    "start_time": "2024-03-24T15:01:05.433Z"
   },
   {
    "duration": 330,
    "start_time": "2024-03-24T15:01:05.443Z"
   },
   {
    "duration": 10,
    "start_time": "2024-03-24T15:01:05.775Z"
   },
   {
    "duration": 483,
    "start_time": "2024-03-24T15:01:05.787Z"
   },
   {
    "duration": 9,
    "start_time": "2024-03-24T15:01:06.272Z"
   },
   {
    "duration": 31,
    "start_time": "2024-03-24T15:01:06.282Z"
   },
   {
    "duration": 31,
    "start_time": "2024-03-24T15:01:06.314Z"
   },
   {
    "duration": 28,
    "start_time": "2024-03-24T15:01:06.347Z"
   },
   {
    "duration": 477,
    "start_time": "2024-03-24T15:01:06.378Z"
   },
   {
    "duration": 20,
    "start_time": "2024-03-24T15:01:06.856Z"
   },
   {
    "duration": 541,
    "start_time": "2024-03-24T15:01:06.878Z"
   },
   {
    "duration": 12,
    "start_time": "2024-03-24T15:01:07.421Z"
   },
   {
    "duration": 1176,
    "start_time": "2024-03-24T15:01:07.434Z"
   },
   {
    "duration": 0,
    "start_time": "2024-03-24T15:01:08.612Z"
   },
   {
    "duration": 69,
    "start_time": "2024-03-24T15:01:22.305Z"
   },
   {
    "duration": 1055,
    "start_time": "2024-03-24T15:02:05.700Z"
   },
   {
    "duration": 66,
    "start_time": "2024-03-24T15:02:36.964Z"
   },
   {
    "duration": 975,
    "start_time": "2024-03-24T15:03:53.626Z"
   },
   {
    "duration": 5,
    "start_time": "2024-03-24T15:04:05.203Z"
   },
   {
    "duration": 22,
    "start_time": "2024-03-24T15:04:10.351Z"
   },
   {
    "duration": 11,
    "start_time": "2024-03-24T15:46:43.746Z"
   },
   {
    "duration": 1199,
    "start_time": "2024-03-24T15:46:49.544Z"
   },
   {
    "duration": 69,
    "start_time": "2024-03-24T15:46:50.745Z"
   },
   {
    "duration": 14,
    "start_time": "2024-03-24T15:46:50.816Z"
   },
   {
    "duration": 32,
    "start_time": "2024-03-24T15:46:50.831Z"
   },
   {
    "duration": 22,
    "start_time": "2024-03-24T15:46:50.866Z"
   },
   {
    "duration": 60,
    "start_time": "2024-03-24T15:46:50.890Z"
   },
   {
    "duration": 59,
    "start_time": "2024-03-24T15:46:50.952Z"
   },
   {
    "duration": 63,
    "start_time": "2024-03-24T15:46:51.013Z"
   },
   {
    "duration": 17,
    "start_time": "2024-03-24T15:46:51.078Z"
   },
   {
    "duration": 17,
    "start_time": "2024-03-24T15:46:51.097Z"
   },
   {
    "duration": 9,
    "start_time": "2024-03-24T15:46:51.116Z"
   },
   {
    "duration": 11,
    "start_time": "2024-03-24T15:46:51.127Z"
   },
   {
    "duration": 26,
    "start_time": "2024-03-24T15:46:51.139Z"
   },
   {
    "duration": 16,
    "start_time": "2024-03-24T15:46:51.168Z"
   },
   {
    "duration": 179,
    "start_time": "2024-03-24T15:46:51.186Z"
   },
   {
    "duration": 8,
    "start_time": "2024-03-24T15:46:51.367Z"
   },
   {
    "duration": 20,
    "start_time": "2024-03-24T15:46:51.377Z"
   },
   {
    "duration": 27,
    "start_time": "2024-03-24T15:46:51.399Z"
   },
   {
    "duration": 196,
    "start_time": "2024-03-24T15:46:51.428Z"
   },
   {
    "duration": 9,
    "start_time": "2024-03-24T15:46:51.626Z"
   },
   {
    "duration": 299,
    "start_time": "2024-03-24T15:46:51.637Z"
   },
   {
    "duration": 9,
    "start_time": "2024-03-24T15:46:51.938Z"
   },
   {
    "duration": 430,
    "start_time": "2024-03-24T15:46:51.959Z"
   },
   {
    "duration": 8,
    "start_time": "2024-03-24T15:46:52.391Z"
   },
   {
    "duration": 63,
    "start_time": "2024-03-24T15:46:52.400Z"
   },
   {
    "duration": 110,
    "start_time": "2024-03-24T15:46:52.465Z"
   },
   {
    "duration": 19,
    "start_time": "2024-03-24T15:46:52.577Z"
   },
   {
    "duration": 552,
    "start_time": "2024-03-24T15:46:52.598Z"
   },
   {
    "duration": 15,
    "start_time": "2024-03-24T15:46:53.152Z"
   },
   {
    "duration": 476,
    "start_time": "2024-03-24T15:46:53.169Z"
   },
   {
    "duration": 16,
    "start_time": "2024-03-24T15:46:53.646Z"
   },
   {
    "duration": 57,
    "start_time": "2024-03-24T15:46:53.663Z"
   },
   {
    "duration": 39,
    "start_time": "2024-03-24T15:46:53.722Z"
   },
   {
    "duration": 164,
    "start_time": "2024-03-24T15:46:53.762Z"
   },
   {
    "duration": 6,
    "start_time": "2024-03-24T15:47:37.626Z"
   },
   {
    "duration": 6,
    "start_time": "2024-03-24T15:49:05.868Z"
   },
   {
    "duration": 6,
    "start_time": "2024-03-24T15:50:23.555Z"
   },
   {
    "duration": 6,
    "start_time": "2024-03-24T15:50:29.299Z"
   },
   {
    "duration": 7,
    "start_time": "2024-03-24T16:07:33.954Z"
   },
   {
    "duration": 6,
    "start_time": "2024-03-24T16:10:16.194Z"
   },
   {
    "duration": 6,
    "start_time": "2024-03-24T16:14:10.616Z"
   },
   {
    "duration": 477,
    "start_time": "2024-03-24T16:54:27.537Z"
   },
   {
    "duration": 10,
    "start_time": "2024-03-24T16:54:46.079Z"
   },
   {
    "duration": 5,
    "start_time": "2024-03-24T20:19:51.305Z"
   },
   {
    "duration": 5,
    "start_time": "2024-03-24T20:19:55.152Z"
   },
   {
    "duration": 3,
    "start_time": "2024-03-24T20:20:04.560Z"
   },
   {
    "duration": 11,
    "start_time": "2024-03-24T20:20:12.744Z"
   },
   {
    "duration": 57,
    "start_time": "2024-03-24T20:23:33.104Z"
   },
   {
    "duration": 59,
    "start_time": "2024-03-24T20:23:49.543Z"
   },
   {
    "duration": 80,
    "start_time": "2024-03-24T20:24:10.498Z"
   },
   {
    "duration": 61,
    "start_time": "2024-03-24T20:24:32.545Z"
   },
   {
    "duration": 53,
    "start_time": "2024-03-24T20:24:52.914Z"
   },
   {
    "duration": 51,
    "start_time": "2024-03-24T20:25:07.041Z"
   },
   {
    "duration": 9,
    "start_time": "2024-03-24T20:25:14.386Z"
   },
   {
    "duration": 3,
    "start_time": "2024-03-24T20:25:21.218Z"
   },
   {
    "duration": 5,
    "start_time": "2024-03-24T20:26:02.626Z"
   },
   {
    "duration": 5,
    "start_time": "2024-03-24T20:26:10.569Z"
   },
   {
    "duration": 9,
    "start_time": "2024-03-24T20:27:14.130Z"
   },
   {
    "duration": 5,
    "start_time": "2024-03-24T20:27:27.395Z"
   },
   {
    "duration": 1279,
    "start_time": "2024-03-25T07:07:12.237Z"
   },
   {
    "duration": 218,
    "start_time": "2024-03-25T07:07:13.518Z"
   },
   {
    "duration": 13,
    "start_time": "2024-03-25T07:07:13.738Z"
   },
   {
    "duration": 22,
    "start_time": "2024-03-25T07:07:13.753Z"
   },
   {
    "duration": 12,
    "start_time": "2024-03-25T07:07:13.777Z"
   },
   {
    "duration": 14,
    "start_time": "2024-03-25T07:07:13.790Z"
   },
   {
    "duration": 13,
    "start_time": "2024-03-25T07:07:13.805Z"
   },
   {
    "duration": 28,
    "start_time": "2024-03-25T07:07:13.819Z"
   },
   {
    "duration": 7,
    "start_time": "2024-03-25T07:07:13.848Z"
   },
   {
    "duration": 9,
    "start_time": "2024-03-25T07:07:13.857Z"
   },
   {
    "duration": 15,
    "start_time": "2024-03-25T07:07:13.867Z"
   },
   {
    "duration": 8,
    "start_time": "2024-03-25T07:07:13.883Z"
   },
   {
    "duration": 16,
    "start_time": "2024-03-25T07:07:13.893Z"
   },
   {
    "duration": 27,
    "start_time": "2024-03-25T07:07:13.911Z"
   },
   {
    "duration": 166,
    "start_time": "2024-03-25T07:07:13.939Z"
   },
   {
    "duration": 7,
    "start_time": "2024-03-25T07:07:14.107Z"
   },
   {
    "duration": 17,
    "start_time": "2024-03-25T07:07:14.116Z"
   },
   {
    "duration": 13,
    "start_time": "2024-03-25T07:07:14.134Z"
   },
   {
    "duration": 189,
    "start_time": "2024-03-25T07:07:14.149Z"
   },
   {
    "duration": 11,
    "start_time": "2024-03-25T07:07:14.340Z"
   },
   {
    "duration": 267,
    "start_time": "2024-03-25T07:07:14.352Z"
   },
   {
    "duration": 8,
    "start_time": "2024-03-25T07:07:14.620Z"
   },
   {
    "duration": 368,
    "start_time": "2024-03-25T07:07:14.630Z"
   },
   {
    "duration": 8,
    "start_time": "2024-03-25T07:07:15.000Z"
   },
   {
    "duration": 48,
    "start_time": "2024-03-25T07:07:15.010Z"
   },
   {
    "duration": 147,
    "start_time": "2024-03-25T07:07:15.059Z"
   },
   {
    "duration": 51,
    "start_time": "2024-03-25T07:07:15.208Z"
   },
   {
    "duration": 541,
    "start_time": "2024-03-25T07:07:15.260Z"
   },
   {
    "duration": 11,
    "start_time": "2024-03-25T07:07:15.802Z"
   },
   {
    "duration": 427,
    "start_time": "2024-03-25T07:07:15.814Z"
   },
   {
    "duration": 10,
    "start_time": "2024-03-25T07:07:16.244Z"
   },
   {
    "duration": 72,
    "start_time": "2024-03-25T07:07:16.256Z"
   },
   {
    "duration": 21,
    "start_time": "2024-03-25T07:07:16.330Z"
   },
   {
    "duration": 11,
    "start_time": "2024-03-25T07:07:16.353Z"
   },
   {
    "duration": 26,
    "start_time": "2024-03-25T07:07:16.366Z"
   },
   {
    "duration": 11,
    "start_time": "2024-03-25T07:07:16.393Z"
   },
   {
    "duration": 5,
    "start_time": "2024-03-25T07:08:00.677Z"
   },
   {
    "duration": 5,
    "start_time": "2024-03-25T07:09:49.700Z"
   },
   {
    "duration": 6,
    "start_time": "2024-03-25T07:16:01.476Z"
   },
   {
    "duration": 5,
    "start_time": "2024-03-25T07:16:09.666Z"
   },
   {
    "duration": 6,
    "start_time": "2024-03-25T07:16:13.145Z"
   },
   {
    "duration": 5,
    "start_time": "2024-03-25T07:23:31.882Z"
   },
   {
    "duration": 5,
    "start_time": "2024-03-25T07:26:25.145Z"
   },
   {
    "duration": 9,
    "start_time": "2024-03-25T07:31:03.396Z"
   },
   {
    "duration": 69,
    "start_time": "2024-03-25T08:13:04.604Z"
   },
   {
    "duration": 994,
    "start_time": "2024-03-25T08:15:12.504Z"
   },
   {
    "duration": 67,
    "start_time": "2024-03-25T08:15:13.500Z"
   },
   {
    "duration": 13,
    "start_time": "2024-03-25T08:15:13.569Z"
   },
   {
    "duration": 22,
    "start_time": "2024-03-25T08:15:13.584Z"
   },
   {
    "duration": 34,
    "start_time": "2024-03-25T08:15:13.608Z"
   },
   {
    "duration": 39,
    "start_time": "2024-03-25T08:15:13.644Z"
   },
   {
    "duration": 24,
    "start_time": "2024-03-25T08:15:13.685Z"
   },
   {
    "duration": 18,
    "start_time": "2024-03-25T08:15:13.710Z"
   },
   {
    "duration": 18,
    "start_time": "2024-03-25T08:15:13.729Z"
   },
   {
    "duration": 17,
    "start_time": "2024-03-25T08:15:13.750Z"
   },
   {
    "duration": 32,
    "start_time": "2024-03-25T08:15:13.769Z"
   },
   {
    "duration": 9,
    "start_time": "2024-03-25T08:15:13.803Z"
   },
   {
    "duration": 41,
    "start_time": "2024-03-25T08:15:13.813Z"
   },
   {
    "duration": 33,
    "start_time": "2024-03-25T08:15:13.855Z"
   },
   {
    "duration": 179,
    "start_time": "2024-03-25T08:15:13.889Z"
   },
   {
    "duration": 9,
    "start_time": "2024-03-25T08:15:14.070Z"
   },
   {
    "duration": 16,
    "start_time": "2024-03-25T08:15:14.080Z"
   },
   {
    "duration": 6,
    "start_time": "2024-03-25T08:15:14.098Z"
   },
   {
    "duration": 206,
    "start_time": "2024-03-25T08:15:14.105Z"
   },
   {
    "duration": 7,
    "start_time": "2024-03-25T08:15:14.313Z"
   },
   {
    "duration": 257,
    "start_time": "2024-03-25T08:15:14.322Z"
   },
   {
    "duration": 8,
    "start_time": "2024-03-25T08:15:14.581Z"
   },
   {
    "duration": 368,
    "start_time": "2024-03-25T08:15:14.591Z"
   },
   {
    "duration": 9,
    "start_time": "2024-03-25T08:15:14.960Z"
   },
   {
    "duration": 9,
    "start_time": "2024-03-25T08:15:14.971Z"
   },
   {
    "duration": 30,
    "start_time": "2024-03-25T08:15:14.981Z"
   },
   {
    "duration": 42,
    "start_time": "2024-03-25T08:15:15.012Z"
   },
   {
    "duration": 491,
    "start_time": "2024-03-25T08:15:15.057Z"
   },
   {
    "duration": 11,
    "start_time": "2024-03-25T08:15:15.549Z"
   },
   {
    "duration": 429,
    "start_time": "2024-03-25T08:15:15.561Z"
   },
   {
    "duration": 11,
    "start_time": "2024-03-25T08:15:15.991Z"
   },
   {
    "duration": 65,
    "start_time": "2024-03-25T08:15:16.003Z"
   },
   {
    "duration": 16,
    "start_time": "2024-03-25T08:15:16.070Z"
   },
   {
    "duration": 4,
    "start_time": "2024-03-25T08:15:16.088Z"
   },
   {
    "duration": 27,
    "start_time": "2024-03-25T08:15:16.093Z"
   },
   {
    "duration": 18,
    "start_time": "2024-03-25T08:15:16.121Z"
   },
   {
    "duration": 1226,
    "start_time": "2024-03-25T08:22:43.338Z"
   },
   {
    "duration": 292,
    "start_time": "2024-03-25T08:22:44.566Z"
   },
   {
    "duration": 15,
    "start_time": "2024-03-25T08:22:44.860Z"
   },
   {
    "duration": 34,
    "start_time": "2024-03-25T08:22:44.877Z"
   },
   {
    "duration": 98,
    "start_time": "2024-03-25T08:22:44.913Z"
   },
   {
    "duration": 157,
    "start_time": "2024-03-25T08:22:45.013Z"
   },
   {
    "duration": 72,
    "start_time": "2024-03-25T08:22:45.171Z"
   },
   {
    "duration": 29,
    "start_time": "2024-03-25T08:22:45.245Z"
   },
   {
    "duration": 80,
    "start_time": "2024-03-25T08:22:45.275Z"
   },
   {
    "duration": 99,
    "start_time": "2024-03-25T08:22:45.357Z"
   },
   {
    "duration": 94,
    "start_time": "2024-03-25T08:22:45.457Z"
   },
   {
    "duration": 64,
    "start_time": "2024-03-25T08:22:45.552Z"
   },
   {
    "duration": 60,
    "start_time": "2024-03-25T08:22:45.617Z"
   },
   {
    "duration": 34,
    "start_time": "2024-03-25T08:22:45.679Z"
   },
   {
    "duration": 187,
    "start_time": "2024-03-25T08:22:45.714Z"
   },
   {
    "duration": 8,
    "start_time": "2024-03-25T08:22:45.902Z"
   },
   {
    "duration": 18,
    "start_time": "2024-03-25T08:22:45.912Z"
   },
   {
    "duration": 30,
    "start_time": "2024-03-25T08:22:45.932Z"
   },
   {
    "duration": 175,
    "start_time": "2024-03-25T08:22:45.963Z"
   },
   {
    "duration": 8,
    "start_time": "2024-03-25T08:22:46.139Z"
   },
   {
    "duration": 293,
    "start_time": "2024-03-25T08:22:46.148Z"
   },
   {
    "duration": 8,
    "start_time": "2024-03-25T08:22:46.443Z"
   },
   {
    "duration": 403,
    "start_time": "2024-03-25T08:22:46.452Z"
   },
   {
    "duration": 8,
    "start_time": "2024-03-25T08:22:46.857Z"
   },
   {
    "duration": 98,
    "start_time": "2024-03-25T08:22:46.866Z"
   },
   {
    "duration": 180,
    "start_time": "2024-03-25T08:22:46.965Z"
   },
   {
    "duration": 53,
    "start_time": "2024-03-25T08:22:47.147Z"
   },
   {
    "duration": 526,
    "start_time": "2024-03-25T08:22:47.203Z"
   },
   {
    "duration": 11,
    "start_time": "2024-03-25T08:22:47.731Z"
   },
   {
    "duration": 425,
    "start_time": "2024-03-25T08:22:47.743Z"
   },
   {
    "duration": 11,
    "start_time": "2024-03-25T08:22:48.169Z"
   },
   {
    "duration": 81,
    "start_time": "2024-03-25T08:22:48.182Z"
   },
   {
    "duration": 20,
    "start_time": "2024-03-25T08:22:48.265Z"
   },
   {
    "duration": 36,
    "start_time": "2024-03-25T08:22:48.286Z"
   },
   {
    "duration": 29,
    "start_time": "2024-03-25T08:22:48.324Z"
   },
   {
    "duration": 23,
    "start_time": "2024-03-25T08:22:48.355Z"
   },
   {
    "duration": 1020,
    "start_time": "2024-03-25T09:01:25.758Z"
   },
   {
    "duration": 73,
    "start_time": "2024-03-25T09:01:26.780Z"
   },
   {
    "duration": 13,
    "start_time": "2024-03-25T09:01:26.854Z"
   },
   {
    "duration": 13,
    "start_time": "2024-03-25T09:01:26.868Z"
   },
   {
    "duration": 10,
    "start_time": "2024-03-25T09:01:26.883Z"
   },
   {
    "duration": 15,
    "start_time": "2024-03-25T09:01:26.894Z"
   },
   {
    "duration": 12,
    "start_time": "2024-03-25T09:01:26.910Z"
   },
   {
    "duration": 7,
    "start_time": "2024-03-25T09:01:26.945Z"
   },
   {
    "duration": 5,
    "start_time": "2024-03-25T09:01:26.954Z"
   },
   {
    "duration": 49,
    "start_time": "2024-03-25T09:01:26.960Z"
   },
   {
    "duration": 22,
    "start_time": "2024-03-25T09:01:27.010Z"
   },
   {
    "duration": 40,
    "start_time": "2024-03-25T09:01:27.033Z"
   },
   {
    "duration": 20,
    "start_time": "2024-03-25T09:01:27.074Z"
   },
   {
    "duration": 24,
    "start_time": "2024-03-25T09:01:27.097Z"
   },
   {
    "duration": 171,
    "start_time": "2024-03-25T09:01:27.122Z"
   },
   {
    "duration": 9,
    "start_time": "2024-03-25T09:01:27.294Z"
   },
   {
    "duration": 25,
    "start_time": "2024-03-25T09:01:27.304Z"
   },
   {
    "duration": 26,
    "start_time": "2024-03-25T09:01:27.330Z"
   },
   {
    "duration": 204,
    "start_time": "2024-03-25T09:01:27.358Z"
   },
   {
    "duration": 7,
    "start_time": "2024-03-25T09:01:27.564Z"
   },
   {
    "duration": 263,
    "start_time": "2024-03-25T09:01:27.573Z"
   },
   {
    "duration": 24,
    "start_time": "2024-03-25T09:01:27.837Z"
   },
   {
    "duration": 370,
    "start_time": "2024-03-25T09:01:27.863Z"
   },
   {
    "duration": 12,
    "start_time": "2024-03-25T09:01:28.234Z"
   },
   {
    "duration": 9,
    "start_time": "2024-03-25T09:01:28.247Z"
   },
   {
    "duration": 30,
    "start_time": "2024-03-25T09:01:28.257Z"
   },
   {
    "duration": 25,
    "start_time": "2024-03-25T09:01:28.288Z"
   },
   {
    "duration": 471,
    "start_time": "2024-03-25T09:01:28.345Z"
   },
   {
    "duration": 11,
    "start_time": "2024-03-25T09:01:28.818Z"
   },
   {
    "duration": 429,
    "start_time": "2024-03-25T09:01:28.830Z"
   },
   {
    "duration": 11,
    "start_time": "2024-03-25T09:01:29.260Z"
   },
   {
    "duration": 84,
    "start_time": "2024-03-25T09:01:29.273Z"
   },
   {
    "duration": 23,
    "start_time": "2024-03-25T09:01:29.358Z"
   },
   {
    "duration": 5,
    "start_time": "2024-03-25T09:01:29.382Z"
   },
   {
    "duration": 6,
    "start_time": "2024-03-25T09:01:29.388Z"
   },
   {
    "duration": 11,
    "start_time": "2024-03-25T09:01:29.395Z"
   },
   {
    "duration": 170,
    "start_time": "2024-03-25T09:04:04.785Z"
   },
   {
    "duration": 159,
    "start_time": "2024-03-25T09:04:11.474Z"
   },
   {
    "duration": 8,
    "start_time": "2024-03-25T09:16:54.300Z"
   },
   {
    "duration": 10,
    "start_time": "2024-03-25T09:17:55.563Z"
   },
   {
    "duration": 6,
    "start_time": "2024-03-25T09:18:15.110Z"
   },
   {
    "duration": 62,
    "start_time": "2024-03-25T09:24:21.368Z"
   },
   {
    "duration": 57,
    "start_time": "2024-03-25T09:25:08.310Z"
   },
   {
    "duration": 61,
    "start_time": "2024-03-25T09:25:13.007Z"
   },
   {
    "duration": 180,
    "start_time": "2024-03-25T09:25:29.368Z"
   },
   {
    "duration": 88,
    "start_time": "2024-03-25T09:25:35.019Z"
   },
   {
    "duration": 178,
    "start_time": "2024-03-25T09:26:53.906Z"
   },
   {
    "duration": 92,
    "start_time": "2024-03-25T09:27:00.971Z"
   },
   {
    "duration": 84,
    "start_time": "2024-03-25T09:28:35.201Z"
   },
   {
    "duration": 58,
    "start_time": "2024-03-25T09:30:37.150Z"
   },
   {
    "duration": 181,
    "start_time": "2024-03-25T09:36:01.559Z"
   },
   {
    "duration": 168,
    "start_time": "2024-03-25T09:38:52.707Z"
   },
   {
    "duration": 171,
    "start_time": "2024-03-25T09:39:02.645Z"
   },
   {
    "duration": 166,
    "start_time": "2024-03-25T09:39:10.964Z"
   },
   {
    "duration": 244,
    "start_time": "2024-03-25T09:40:16.372Z"
   },
   {
    "duration": 446,
    "start_time": "2024-03-25T09:41:15.973Z"
   },
   {
    "duration": 254,
    "start_time": "2024-03-25T09:41:26.359Z"
   },
   {
    "duration": 164,
    "start_time": "2024-03-25T09:42:11.582Z"
   },
   {
    "duration": 237,
    "start_time": "2024-03-25T09:42:16.445Z"
   },
   {
    "duration": 340,
    "start_time": "2024-03-25T09:42:20.235Z"
   },
   {
    "duration": 3,
    "start_time": "2024-03-25T09:42:54.843Z"
   },
   {
    "duration": 7,
    "start_time": "2024-03-25T09:48:26.715Z"
   },
   {
    "duration": 4,
    "start_time": "2024-03-25T09:48:32.175Z"
   },
   {
    "duration": 4,
    "start_time": "2024-03-25T09:48:45.371Z"
   },
   {
    "duration": 4,
    "start_time": "2024-03-25T09:49:15.848Z"
   },
   {
    "duration": 3,
    "start_time": "2024-03-25T09:49:36.410Z"
   },
   {
    "duration": 3,
    "start_time": "2024-03-25T09:51:56.840Z"
   },
   {
    "duration": 5,
    "start_time": "2024-03-25T09:55:42.447Z"
   },
   {
    "duration": 1051,
    "start_time": "2024-03-25T09:57:42.442Z"
   },
   {
    "duration": 71,
    "start_time": "2024-03-25T09:57:43.495Z"
   },
   {
    "duration": 14,
    "start_time": "2024-03-25T09:57:43.567Z"
   },
   {
    "duration": 12,
    "start_time": "2024-03-25T09:57:43.583Z"
   },
   {
    "duration": 9,
    "start_time": "2024-03-25T09:57:43.596Z"
   },
   {
    "duration": 31,
    "start_time": "2024-03-25T09:57:43.607Z"
   },
   {
    "duration": 11,
    "start_time": "2024-03-25T09:57:43.639Z"
   },
   {
    "duration": 7,
    "start_time": "2024-03-25T09:57:43.652Z"
   },
   {
    "duration": 14,
    "start_time": "2024-03-25T09:57:43.660Z"
   },
   {
    "duration": 11,
    "start_time": "2024-03-25T09:57:43.676Z"
   },
   {
    "duration": 6,
    "start_time": "2024-03-25T09:57:43.688Z"
   },
   {
    "duration": 7,
    "start_time": "2024-03-25T09:57:43.695Z"
   },
   {
    "duration": 5,
    "start_time": "2024-03-25T09:57:43.703Z"
   },
   {
    "duration": 5,
    "start_time": "2024-03-25T09:57:43.710Z"
   },
   {
    "duration": 184,
    "start_time": "2024-03-25T09:57:43.716Z"
   },
   {
    "duration": 8,
    "start_time": "2024-03-25T09:57:43.901Z"
   },
   {
    "duration": 16,
    "start_time": "2024-03-25T09:57:43.910Z"
   },
   {
    "duration": 7,
    "start_time": "2024-03-25T09:57:43.927Z"
   },
   {
    "duration": 90,
    "start_time": "2024-03-25T09:57:43.935Z"
   },
   {
    "duration": 173,
    "start_time": "2024-03-25T09:57:44.027Z"
   },
   {
    "duration": 7,
    "start_time": "2024-03-25T09:57:44.201Z"
   },
   {
    "duration": 266,
    "start_time": "2024-03-25T09:57:44.210Z"
   },
   {
    "duration": 8,
    "start_time": "2024-03-25T09:57:44.477Z"
   },
   {
    "duration": 362,
    "start_time": "2024-03-25T09:57:44.486Z"
   },
   {
    "duration": 8,
    "start_time": "2024-03-25T09:57:44.849Z"
   },
   {
    "duration": 9,
    "start_time": "2024-03-25T09:57:44.858Z"
   },
   {
    "duration": 28,
    "start_time": "2024-03-25T09:57:44.868Z"
   },
   {
    "duration": 4,
    "start_time": "2024-03-25T09:57:44.900Z"
   },
   {
    "duration": 61,
    "start_time": "2024-03-25T09:57:44.905Z"
   },
   {
    "duration": 453,
    "start_time": "2024-03-25T09:57:44.968Z"
   },
   {
    "duration": 22,
    "start_time": "2024-03-25T09:57:45.423Z"
   },
   {
    "duration": 418,
    "start_time": "2024-03-25T09:57:45.447Z"
   },
   {
    "duration": 11,
    "start_time": "2024-03-25T09:57:45.867Z"
   },
   {
    "duration": 67,
    "start_time": "2024-03-25T09:57:45.879Z"
   },
   {
    "duration": 17,
    "start_time": "2024-03-25T09:57:45.947Z"
   },
   {
    "duration": 10,
    "start_time": "2024-03-25T09:57:45.965Z"
   },
   {
    "duration": 5,
    "start_time": "2024-03-25T09:57:45.976Z"
   },
   {
    "duration": 8,
    "start_time": "2024-03-25T09:57:45.983Z"
   },
   {
    "duration": 6,
    "start_time": "2024-03-25T10:09:32.256Z"
   },
   {
    "duration": 90,
    "start_time": "2024-03-25T10:10:00.783Z"
   },
   {
    "duration": 5,
    "start_time": "2024-03-25T10:10:38.117Z"
   },
   {
    "duration": 190,
    "start_time": "2024-03-25T10:10:55.775Z"
   },
   {
    "duration": 9,
    "start_time": "2024-03-25T10:11:58.678Z"
   },
   {
    "duration": 189,
    "start_time": "2024-03-25T10:12:22.539Z"
   },
   {
    "duration": 340,
    "start_time": "2024-03-25T10:13:27.818Z"
   },
   {
    "duration": 133,
    "start_time": "2024-03-25T10:13:50.778Z"
   },
   {
    "duration": 6,
    "start_time": "2024-03-25T10:14:42.313Z"
   },
   {
    "duration": 8,
    "start_time": "2024-03-25T10:14:47.273Z"
   },
   {
    "duration": 4,
    "start_time": "2024-03-25T10:16:34.060Z"
   },
   {
    "duration": 11,
    "start_time": "2024-03-25T10:16:51.897Z"
   },
   {
    "duration": 4,
    "start_time": "2024-03-25T10:16:52.537Z"
   },
   {
    "duration": 13,
    "start_time": "2024-03-25T10:17:36.200Z"
   },
   {
    "duration": 9,
    "start_time": "2024-03-25T10:18:07.327Z"
   },
   {
    "duration": 11,
    "start_time": "2024-03-25T10:18:08.069Z"
   },
   {
    "duration": 11,
    "start_time": "2024-03-25T10:18:19.712Z"
   },
   {
    "duration": 9,
    "start_time": "2024-03-25T10:18:48.868Z"
   },
   {
    "duration": 10,
    "start_time": "2024-03-25T10:19:19.099Z"
   },
   {
    "duration": 7,
    "start_time": "2024-03-25T10:19:19.792Z"
   },
   {
    "duration": 6,
    "start_time": "2024-03-25T10:19:52.080Z"
   },
   {
    "duration": 6,
    "start_time": "2024-03-25T10:19:56.932Z"
   },
   {
    "duration": 7,
    "start_time": "2024-03-25T10:20:34.739Z"
   },
   {
    "duration": 7,
    "start_time": "2024-03-25T10:20:40.279Z"
   },
   {
    "duration": 6,
    "start_time": "2024-03-25T10:20:49.803Z"
   },
   {
    "duration": 1019,
    "start_time": "2024-03-25T10:21:29.172Z"
   },
   {
    "duration": 70,
    "start_time": "2024-03-25T10:21:30.192Z"
   },
   {
    "duration": 60,
    "start_time": "2024-03-25T10:21:30.263Z"
   },
   {
    "duration": 56,
    "start_time": "2024-03-25T10:21:30.325Z"
   },
   {
    "duration": 153,
    "start_time": "2024-03-25T10:21:30.383Z"
   },
   {
    "duration": 264,
    "start_time": "2024-03-25T10:21:30.537Z"
   },
   {
    "duration": 134,
    "start_time": "2024-03-25T10:21:30.802Z"
   },
   {
    "duration": 94,
    "start_time": "2024-03-25T10:21:30.938Z"
   },
   {
    "duration": 44,
    "start_time": "2024-03-25T10:21:31.034Z"
   },
   {
    "duration": 46,
    "start_time": "2024-03-25T10:21:31.080Z"
   },
   {
    "duration": 41,
    "start_time": "2024-03-25T10:21:31.128Z"
   },
   {
    "duration": 56,
    "start_time": "2024-03-25T10:21:31.171Z"
   },
   {
    "duration": 37,
    "start_time": "2024-03-25T10:21:31.229Z"
   },
   {
    "duration": 40,
    "start_time": "2024-03-25T10:21:31.269Z"
   },
   {
    "duration": 38,
    "start_time": "2024-03-25T10:21:31.310Z"
   },
   {
    "duration": 35,
    "start_time": "2024-03-25T10:21:31.350Z"
   },
   {
    "duration": 202,
    "start_time": "2024-03-25T10:21:31.386Z"
   },
   {
    "duration": 7,
    "start_time": "2024-03-25T10:21:31.589Z"
   },
   {
    "duration": 69,
    "start_time": "2024-03-25T10:21:31.597Z"
   },
   {
    "duration": 31,
    "start_time": "2024-03-25T10:21:31.667Z"
   },
   {
    "duration": 120,
    "start_time": "2024-03-25T10:21:31.700Z"
   },
   {
    "duration": 186,
    "start_time": "2024-03-25T10:21:31.821Z"
   },
   {
    "duration": 7,
    "start_time": "2024-03-25T10:21:32.008Z"
   },
   {
    "duration": 283,
    "start_time": "2024-03-25T10:21:32.016Z"
   },
   {
    "duration": 8,
    "start_time": "2024-03-25T10:21:32.300Z"
   },
   {
    "duration": 412,
    "start_time": "2024-03-25T10:21:32.309Z"
   },
   {
    "duration": 8,
    "start_time": "2024-03-25T10:21:32.723Z"
   },
   {
    "duration": 20,
    "start_time": "2024-03-25T10:21:32.732Z"
   },
   {
    "duration": 39,
    "start_time": "2024-03-25T10:21:32.753Z"
   },
   {
    "duration": 4,
    "start_time": "2024-03-25T10:21:32.793Z"
   },
   {
    "duration": 115,
    "start_time": "2024-03-25T10:21:32.798Z"
   },
   {
    "duration": 459,
    "start_time": "2024-03-25T10:21:32.914Z"
   },
   {
    "duration": 11,
    "start_time": "2024-03-25T10:21:33.374Z"
   },
   {
    "duration": 415,
    "start_time": "2024-03-25T10:21:33.387Z"
   },
   {
    "duration": 10,
    "start_time": "2024-03-25T10:21:33.804Z"
   },
   {
    "duration": 63,
    "start_time": "2024-03-25T10:21:33.815Z"
   },
   {
    "duration": 17,
    "start_time": "2024-03-25T10:21:33.879Z"
   },
   {
    "duration": 11,
    "start_time": "2024-03-25T10:21:33.897Z"
   },
   {
    "duration": 13,
    "start_time": "2024-03-25T10:21:33.909Z"
   },
   {
    "duration": 16,
    "start_time": "2024-03-25T10:21:33.923Z"
   },
   {
    "duration": 8,
    "start_time": "2024-03-25T10:21:56.139Z"
   },
   {
    "duration": 7,
    "start_time": "2024-03-25T10:22:23.203Z"
   },
   {
    "duration": 5,
    "start_time": "2024-03-25T10:26:46.032Z"
   },
   {
    "duration": 1189,
    "start_time": "2024-03-25T10:29:52.371Z"
   },
   {
    "duration": 1026,
    "start_time": "2024-03-25T10:30:02.948Z"
   },
   {
    "duration": 960,
    "start_time": "2024-03-25T10:30:54.188Z"
   },
   {
    "duration": 5,
    "start_time": "2024-03-25T10:31:19.091Z"
   },
   {
    "duration": 63,
    "start_time": "2024-03-25T11:58:04.376Z"
   },
   {
    "duration": 1364,
    "start_time": "2024-03-25T11:58:09.110Z"
   },
   {
    "duration": 313,
    "start_time": "2024-03-25T11:58:10.476Z"
   },
   {
    "duration": 17,
    "start_time": "2024-03-25T11:58:10.790Z"
   },
   {
    "duration": 24,
    "start_time": "2024-03-25T11:58:10.808Z"
   },
   {
    "duration": 14,
    "start_time": "2024-03-25T11:58:10.834Z"
   },
   {
    "duration": 18,
    "start_time": "2024-03-25T11:58:10.849Z"
   },
   {
    "duration": 22,
    "start_time": "2024-03-25T11:58:10.869Z"
   },
   {
    "duration": 10,
    "start_time": "2024-03-25T11:58:10.893Z"
   },
   {
    "duration": 13,
    "start_time": "2024-03-25T11:58:10.905Z"
   },
   {
    "duration": 14,
    "start_time": "2024-03-25T11:58:10.920Z"
   },
   {
    "duration": 5,
    "start_time": "2024-03-25T11:58:10.936Z"
   },
   {
    "duration": 9,
    "start_time": "2024-03-25T11:58:10.943Z"
   },
   {
    "duration": 32,
    "start_time": "2024-03-25T11:58:10.954Z"
   },
   {
    "duration": 14,
    "start_time": "2024-03-25T11:58:10.990Z"
   },
   {
    "duration": 19,
    "start_time": "2024-03-25T11:58:11.006Z"
   },
   {
    "duration": 32,
    "start_time": "2024-03-25T11:58:11.027Z"
   },
   {
    "duration": 8,
    "start_time": "2024-03-25T11:58:11.061Z"
   },
   {
    "duration": 7,
    "start_time": "2024-03-25T11:58:11.071Z"
   },
   {
    "duration": 193,
    "start_time": "2024-03-25T11:58:11.079Z"
   },
   {
    "duration": 11,
    "start_time": "2024-03-25T11:58:11.274Z"
   },
   {
    "duration": 8,
    "start_time": "2024-03-25T11:58:11.287Z"
   },
   {
    "duration": 17,
    "start_time": "2024-03-25T11:58:11.296Z"
   },
   {
    "duration": 104,
    "start_time": "2024-03-25T11:58:11.315Z"
   },
   {
    "duration": 209,
    "start_time": "2024-03-25T11:58:11.420Z"
   },
   {
    "duration": 8,
    "start_time": "2024-03-25T11:58:11.632Z"
   },
   {
    "duration": 298,
    "start_time": "2024-03-25T11:58:11.642Z"
   },
   {
    "duration": 8,
    "start_time": "2024-03-25T11:58:11.942Z"
   },
   {
    "duration": 429,
    "start_time": "2024-03-25T11:58:11.952Z"
   },
   {
    "duration": 9,
    "start_time": "2024-03-25T11:58:12.382Z"
   },
   {
    "duration": 25,
    "start_time": "2024-03-25T11:58:12.392Z"
   },
   {
    "duration": 34,
    "start_time": "2024-03-25T11:58:12.419Z"
   },
   {
    "duration": 4,
    "start_time": "2024-03-25T11:58:12.455Z"
   },
   {
    "duration": 58,
    "start_time": "2024-03-25T11:58:12.461Z"
   },
   {
    "duration": 519,
    "start_time": "2024-03-25T11:58:12.521Z"
   },
   {
    "duration": 11,
    "start_time": "2024-03-25T11:58:13.041Z"
   },
   {
    "duration": 475,
    "start_time": "2024-03-25T11:58:13.054Z"
   },
   {
    "duration": 12,
    "start_time": "2024-03-25T11:58:13.531Z"
   },
   {
    "duration": 79,
    "start_time": "2024-03-25T11:58:13.544Z"
   },
   {
    "duration": 17,
    "start_time": "2024-03-25T11:58:13.625Z"
   },
   {
    "duration": 9,
    "start_time": "2024-03-25T11:58:13.643Z"
   },
   {
    "duration": 23,
    "start_time": "2024-03-25T11:58:13.655Z"
   },
   {
    "duration": 33,
    "start_time": "2024-03-25T11:58:13.680Z"
   },
   {
    "duration": 7,
    "start_time": "2024-03-25T11:59:31.415Z"
   },
   {
    "duration": 79,
    "start_time": "2024-03-25T12:20:32.781Z"
   },
   {
    "duration": 10,
    "start_time": "2024-03-25T12:28:57.208Z"
   },
   {
    "duration": 1134,
    "start_time": "2024-03-25T13:13:07.420Z"
   },
   {
    "duration": 71,
    "start_time": "2024-03-25T13:13:08.556Z"
   },
   {
    "duration": 14,
    "start_time": "2024-03-25T13:13:08.629Z"
   },
   {
    "duration": 16,
    "start_time": "2024-03-25T13:13:08.645Z"
   },
   {
    "duration": 11,
    "start_time": "2024-03-25T13:13:08.664Z"
   },
   {
    "duration": 35,
    "start_time": "2024-03-25T13:13:08.677Z"
   },
   {
    "duration": 12,
    "start_time": "2024-03-25T13:13:08.714Z"
   },
   {
    "duration": 10,
    "start_time": "2024-03-25T13:13:08.728Z"
   },
   {
    "duration": 11,
    "start_time": "2024-03-25T13:13:08.740Z"
   },
   {
    "duration": 7,
    "start_time": "2024-03-25T13:13:08.753Z"
   },
   {
    "duration": 4,
    "start_time": "2024-03-25T13:13:08.761Z"
   },
   {
    "duration": 7,
    "start_time": "2024-03-25T13:13:08.785Z"
   },
   {
    "duration": 11,
    "start_time": "2024-03-25T13:13:08.793Z"
   },
   {
    "duration": 8,
    "start_time": "2024-03-25T13:13:08.806Z"
   },
   {
    "duration": 5,
    "start_time": "2024-03-25T13:13:08.816Z"
   },
   {
    "duration": 10,
    "start_time": "2024-03-25T13:13:08.823Z"
   },
   {
    "duration": 11,
    "start_time": "2024-03-25T13:13:08.835Z"
   },
   {
    "duration": 46,
    "start_time": "2024-03-25T13:13:08.848Z"
   },
   {
    "duration": 211,
    "start_time": "2024-03-25T13:13:08.896Z"
   },
   {
    "duration": 9,
    "start_time": "2024-03-25T13:13:09.110Z"
   },
   {
    "duration": 6,
    "start_time": "2024-03-25T13:13:09.121Z"
   },
   {
    "duration": 8,
    "start_time": "2024-03-25T13:13:09.128Z"
   },
   {
    "duration": 136,
    "start_time": "2024-03-25T13:13:09.137Z"
   },
   {
    "duration": 215,
    "start_time": "2024-03-25T13:13:09.275Z"
   },
   {
    "duration": 11,
    "start_time": "2024-03-25T13:13:09.492Z"
   },
   {
    "duration": 350,
    "start_time": "2024-03-25T13:13:09.504Z"
   },
   {
    "duration": 11,
    "start_time": "2024-03-25T13:13:09.856Z"
   },
   {
    "duration": 467,
    "start_time": "2024-03-25T13:13:09.869Z"
   },
   {
    "duration": 9,
    "start_time": "2024-03-25T13:13:10.339Z"
   },
   {
    "duration": 29,
    "start_time": "2024-03-25T13:13:10.349Z"
   },
   {
    "duration": 40,
    "start_time": "2024-03-25T13:13:10.380Z"
   },
   {
    "duration": 5,
    "start_time": "2024-03-25T13:13:10.422Z"
   },
   {
    "duration": 29,
    "start_time": "2024-03-25T13:13:10.428Z"
   },
   {
    "duration": 37,
    "start_time": "2024-03-25T13:13:10.459Z"
   },
   {
    "duration": 581,
    "start_time": "2024-03-25T13:13:10.498Z"
   },
   {
    "duration": 19,
    "start_time": "2024-03-25T13:13:11.088Z"
   },
   {
    "duration": 487,
    "start_time": "2024-03-25T13:13:11.109Z"
   },
   {
    "duration": 18,
    "start_time": "2024-03-25T13:13:11.598Z"
   },
   {
    "duration": 92,
    "start_time": "2024-03-25T13:13:11.618Z"
   },
   {
    "duration": 19,
    "start_time": "2024-03-25T13:13:11.711Z"
   },
   {
    "duration": 27,
    "start_time": "2024-03-25T13:13:11.733Z"
   },
   {
    "duration": 18,
    "start_time": "2024-03-25T13:13:11.762Z"
   },
   {
    "duration": 15,
    "start_time": "2024-03-25T13:13:11.788Z"
   },
   {
    "duration": 1115,
    "start_time": "2024-03-25T13:36:11.372Z"
   },
   {
    "duration": 67,
    "start_time": "2024-03-25T13:36:12.489Z"
   },
   {
    "duration": 14,
    "start_time": "2024-03-25T13:36:12.558Z"
   },
   {
    "duration": 13,
    "start_time": "2024-03-25T13:36:12.573Z"
   },
   {
    "duration": 10,
    "start_time": "2024-03-25T13:36:12.589Z"
   },
   {
    "duration": 44,
    "start_time": "2024-03-25T13:36:12.601Z"
   },
   {
    "duration": 17,
    "start_time": "2024-03-25T13:36:12.647Z"
   },
   {
    "duration": 8,
    "start_time": "2024-03-25T13:36:12.665Z"
   },
   {
    "duration": 6,
    "start_time": "2024-03-25T13:36:12.675Z"
   },
   {
    "duration": 8,
    "start_time": "2024-03-25T13:36:12.683Z"
   },
   {
    "duration": 5,
    "start_time": "2024-03-25T13:36:12.692Z"
   },
   {
    "duration": 13,
    "start_time": "2024-03-25T13:36:12.698Z"
   },
   {
    "duration": 8,
    "start_time": "2024-03-25T13:36:12.712Z"
   },
   {
    "duration": 26,
    "start_time": "2024-03-25T13:36:12.723Z"
   },
   {
    "duration": 7,
    "start_time": "2024-03-25T13:36:12.751Z"
   },
   {
    "duration": 29,
    "start_time": "2024-03-25T13:36:12.759Z"
   },
   {
    "duration": 14,
    "start_time": "2024-03-25T13:36:12.790Z"
   },
   {
    "duration": 5,
    "start_time": "2024-03-25T13:36:12.806Z"
   },
   {
    "duration": 192,
    "start_time": "2024-03-25T13:36:12.812Z"
   },
   {
    "duration": 7,
    "start_time": "2024-03-25T13:36:13.005Z"
   },
   {
    "duration": 37,
    "start_time": "2024-03-25T13:36:13.013Z"
   },
   {
    "duration": 15,
    "start_time": "2024-03-25T13:36:13.052Z"
   },
   {
    "duration": 114,
    "start_time": "2024-03-25T13:36:13.068Z"
   },
   {
    "duration": 199,
    "start_time": "2024-03-25T13:36:13.184Z"
   },
   {
    "duration": 13,
    "start_time": "2024-03-25T13:36:13.385Z"
   },
   {
    "duration": 308,
    "start_time": "2024-03-25T13:36:13.400Z"
   },
   {
    "duration": 8,
    "start_time": "2024-03-25T13:36:13.710Z"
   },
   {
    "duration": 416,
    "start_time": "2024-03-25T13:36:13.719Z"
   },
   {
    "duration": 9,
    "start_time": "2024-03-25T13:36:14.136Z"
   },
   {
    "duration": 13,
    "start_time": "2024-03-25T13:36:14.147Z"
   },
   {
    "duration": 46,
    "start_time": "2024-03-25T13:36:14.162Z"
   },
   {
    "duration": 5,
    "start_time": "2024-03-25T13:36:14.209Z"
   },
   {
    "duration": 17,
    "start_time": "2024-03-25T13:36:14.215Z"
   },
   {
    "duration": 38,
    "start_time": "2024-03-25T13:36:14.233Z"
   },
   {
    "duration": 488,
    "start_time": "2024-03-25T13:36:14.273Z"
   },
   {
    "duration": 11,
    "start_time": "2024-03-25T13:36:14.762Z"
   },
   {
    "duration": 452,
    "start_time": "2024-03-25T13:36:14.775Z"
   },
   {
    "duration": 13,
    "start_time": "2024-03-25T13:36:15.229Z"
   },
   {
    "duration": 300,
    "start_time": "2024-03-25T13:36:15.244Z"
   },
   {
    "duration": 54,
    "start_time": "2024-03-25T13:36:15.545Z"
   },
   {
    "duration": 8,
    "start_time": "2024-03-25T13:36:15.602Z"
   },
   {
    "duration": 30,
    "start_time": "2024-03-25T13:36:15.612Z"
   },
   {
    "duration": 60,
    "start_time": "2024-03-25T13:36:15.644Z"
   }
  ],
  "kernelspec": {
   "display_name": "Python 3 (ipykernel)",
   "language": "python",
   "name": "python3"
  },
  "language_info": {
   "codemirror_mode": {
    "name": "ipython",
    "version": 3
   },
   "file_extension": ".py",
   "mimetype": "text/x-python",
   "name": "python",
   "nbconvert_exporter": "python",
   "pygments_lexer": "ipython3",
   "version": "3.12.2"
  },
  "toc": {
   "base_numbering": 1,
   "nav_menu": {},
   "number_sections": true,
   "sideBar": true,
   "skip_h1_title": true,
   "title_cell": "Table of Contents",
   "title_sidebar": "Contents",
   "toc_cell": false,
   "toc_position": {},
   "toc_section_display": true,
   "toc_window_display": false
  }
 },
 "nbformat": 4,
 "nbformat_minor": 5
}
