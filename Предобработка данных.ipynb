{
 "cells": [
  {
   "cell_type": "markdown",
   "id": "91c4751a",
   "metadata": {
    "deletable": false,
    "editable": false,
    "id": "c81daeeb"
   },
   "source": [
    "# Исследование надежности заемщиков\n"
   ]
  },
  {
   "cell_type": "markdown",
   "id": "4ac33084",
   "metadata": {
    "deletable": false,
    "editable": false,
    "id": "827c20bf"
   },
   "source": [
    "Во второй части проекта вы выполните шаги 3 и 4. Их вручную проверит ревьюер.\n",
    "Чтобы вам не пришлось писать код заново для шагов 1 и 2, мы добавили авторские решения в ячейки с кодом. \n",
    "\n"
   ]
  },
  {
   "cell_type": "markdown",
   "id": "27420f13",
   "metadata": {
    "deletable": false,
    "editable": false,
    "id": "744d7639"
   },
   "source": [
    "## Откройте таблицу и изучите общую информацию о данных"
   ]
  },
  {
   "cell_type": "markdown",
   "id": "f82e89f2",
   "metadata": {
    "deletable": false,
    "editable": false,
    "id": "e7a14c31"
   },
   "source": [
    "**Задание 1. Импортируйте библиотеку pandas. Считайте данные из csv-файла в датафрейм и сохраните в переменную `data`. Путь к файлу:**\n",
    "\n",
    "`/datasets/data.csv`"
   ]
  },
  {
   "cell_type": "code",
   "execution_count": 1,
   "id": "8965aad4",
   "metadata": {
    "deletable": false,
    "id": "7bcf75c9"
   },
   "outputs": [],
   "source": [
    "import pandas as pd\n",
    "\n",
    "try:\n",
    "    data = pd.read_csv('/datasets/data.csv')\n",
    "except:\n",
    "    data = pd.read_csv('https://code.s3.yandex.net/datasets/data.csv')"
   ]
  },
  {
   "cell_type": "markdown",
   "id": "b2e4a5db",
   "metadata": {
    "deletable": false,
    "editable": false,
    "id": "b8038fe3"
   },
   "source": [
    "**Задание 2. Выведите первые 20 строчек датафрейма `data` на экран.**"
   ]
  },
  {
   "cell_type": "code",
   "execution_count": 2,
   "id": "973101be",
   "metadata": {
    "deletable": false,
    "id": "2a7cab99",
    "outputId": "1a8f3ef2-d323-4ec2-ddf7-89670b5944c4"
   },
   "outputs": [
    {
     "data": {
      "text/html": [
       "<div>\n",
       "<style scoped>\n",
       "    .dataframe tbody tr th:only-of-type {\n",
       "        vertical-align: middle;\n",
       "    }\n",
       "\n",
       "    .dataframe tbody tr th {\n",
       "        vertical-align: top;\n",
       "    }\n",
       "\n",
       "    .dataframe thead th {\n",
       "        text-align: right;\n",
       "    }\n",
       "</style>\n",
       "<table border=\"1\" class=\"dataframe\">\n",
       "  <thead>\n",
       "    <tr style=\"text-align: right;\">\n",
       "      <th></th>\n",
       "      <th>children</th>\n",
       "      <th>days_employed</th>\n",
       "      <th>dob_years</th>\n",
       "      <th>education</th>\n",
       "      <th>education_id</th>\n",
       "      <th>family_status</th>\n",
       "      <th>family_status_id</th>\n",
       "      <th>gender</th>\n",
       "      <th>income_type</th>\n",
       "      <th>debt</th>\n",
       "      <th>total_income</th>\n",
       "      <th>purpose</th>\n",
       "    </tr>\n",
       "  </thead>\n",
       "  <tbody>\n",
       "    <tr>\n",
       "      <th>0</th>\n",
       "      <td>1</td>\n",
       "      <td>-8437.673028</td>\n",
       "      <td>42</td>\n",
       "      <td>высшее</td>\n",
       "      <td>0</td>\n",
       "      <td>женат / замужем</td>\n",
       "      <td>0</td>\n",
       "      <td>F</td>\n",
       "      <td>сотрудник</td>\n",
       "      <td>0</td>\n",
       "      <td>253875.639453</td>\n",
       "      <td>покупка жилья</td>\n",
       "    </tr>\n",
       "    <tr>\n",
       "      <th>1</th>\n",
       "      <td>1</td>\n",
       "      <td>-4024.803754</td>\n",
       "      <td>36</td>\n",
       "      <td>среднее</td>\n",
       "      <td>1</td>\n",
       "      <td>женат / замужем</td>\n",
       "      <td>0</td>\n",
       "      <td>F</td>\n",
       "      <td>сотрудник</td>\n",
       "      <td>0</td>\n",
       "      <td>112080.014102</td>\n",
       "      <td>приобретение автомобиля</td>\n",
       "    </tr>\n",
       "    <tr>\n",
       "      <th>2</th>\n",
       "      <td>0</td>\n",
       "      <td>-5623.422610</td>\n",
       "      <td>33</td>\n",
       "      <td>Среднее</td>\n",
       "      <td>1</td>\n",
       "      <td>женат / замужем</td>\n",
       "      <td>0</td>\n",
       "      <td>M</td>\n",
       "      <td>сотрудник</td>\n",
       "      <td>0</td>\n",
       "      <td>145885.952297</td>\n",
       "      <td>покупка жилья</td>\n",
       "    </tr>\n",
       "    <tr>\n",
       "      <th>3</th>\n",
       "      <td>3</td>\n",
       "      <td>-4124.747207</td>\n",
       "      <td>32</td>\n",
       "      <td>среднее</td>\n",
       "      <td>1</td>\n",
       "      <td>женат / замужем</td>\n",
       "      <td>0</td>\n",
       "      <td>M</td>\n",
       "      <td>сотрудник</td>\n",
       "      <td>0</td>\n",
       "      <td>267628.550329</td>\n",
       "      <td>дополнительное образование</td>\n",
       "    </tr>\n",
       "    <tr>\n",
       "      <th>4</th>\n",
       "      <td>0</td>\n",
       "      <td>340266.072047</td>\n",
       "      <td>53</td>\n",
       "      <td>среднее</td>\n",
       "      <td>1</td>\n",
       "      <td>гражданский брак</td>\n",
       "      <td>1</td>\n",
       "      <td>F</td>\n",
       "      <td>пенсионер</td>\n",
       "      <td>0</td>\n",
       "      <td>158616.077870</td>\n",
       "      <td>сыграть свадьбу</td>\n",
       "    </tr>\n",
       "    <tr>\n",
       "      <th>5</th>\n",
       "      <td>0</td>\n",
       "      <td>-926.185831</td>\n",
       "      <td>27</td>\n",
       "      <td>высшее</td>\n",
       "      <td>0</td>\n",
       "      <td>гражданский брак</td>\n",
       "      <td>1</td>\n",
       "      <td>M</td>\n",
       "      <td>компаньон</td>\n",
       "      <td>0</td>\n",
       "      <td>255763.565419</td>\n",
       "      <td>покупка жилья</td>\n",
       "    </tr>\n",
       "    <tr>\n",
       "      <th>6</th>\n",
       "      <td>0</td>\n",
       "      <td>-2879.202052</td>\n",
       "      <td>43</td>\n",
       "      <td>высшее</td>\n",
       "      <td>0</td>\n",
       "      <td>женат / замужем</td>\n",
       "      <td>0</td>\n",
       "      <td>F</td>\n",
       "      <td>компаньон</td>\n",
       "      <td>0</td>\n",
       "      <td>240525.971920</td>\n",
       "      <td>операции с жильем</td>\n",
       "    </tr>\n",
       "    <tr>\n",
       "      <th>7</th>\n",
       "      <td>0</td>\n",
       "      <td>-152.779569</td>\n",
       "      <td>50</td>\n",
       "      <td>СРЕДНЕЕ</td>\n",
       "      <td>1</td>\n",
       "      <td>женат / замужем</td>\n",
       "      <td>0</td>\n",
       "      <td>M</td>\n",
       "      <td>сотрудник</td>\n",
       "      <td>0</td>\n",
       "      <td>135823.934197</td>\n",
       "      <td>образование</td>\n",
       "    </tr>\n",
       "    <tr>\n",
       "      <th>8</th>\n",
       "      <td>2</td>\n",
       "      <td>-6929.865299</td>\n",
       "      <td>35</td>\n",
       "      <td>ВЫСШЕЕ</td>\n",
       "      <td>0</td>\n",
       "      <td>гражданский брак</td>\n",
       "      <td>1</td>\n",
       "      <td>F</td>\n",
       "      <td>сотрудник</td>\n",
       "      <td>0</td>\n",
       "      <td>95856.832424</td>\n",
       "      <td>на проведение свадьбы</td>\n",
       "    </tr>\n",
       "    <tr>\n",
       "      <th>9</th>\n",
       "      <td>0</td>\n",
       "      <td>-2188.756445</td>\n",
       "      <td>41</td>\n",
       "      <td>среднее</td>\n",
       "      <td>1</td>\n",
       "      <td>женат / замужем</td>\n",
       "      <td>0</td>\n",
       "      <td>M</td>\n",
       "      <td>сотрудник</td>\n",
       "      <td>0</td>\n",
       "      <td>144425.938277</td>\n",
       "      <td>покупка жилья для семьи</td>\n",
       "    </tr>\n",
       "    <tr>\n",
       "      <th>10</th>\n",
       "      <td>2</td>\n",
       "      <td>-4171.483647</td>\n",
       "      <td>36</td>\n",
       "      <td>высшее</td>\n",
       "      <td>0</td>\n",
       "      <td>женат / замужем</td>\n",
       "      <td>0</td>\n",
       "      <td>M</td>\n",
       "      <td>компаньон</td>\n",
       "      <td>0</td>\n",
       "      <td>113943.491460</td>\n",
       "      <td>покупка недвижимости</td>\n",
       "    </tr>\n",
       "    <tr>\n",
       "      <th>11</th>\n",
       "      <td>0</td>\n",
       "      <td>-792.701887</td>\n",
       "      <td>40</td>\n",
       "      <td>среднее</td>\n",
       "      <td>1</td>\n",
       "      <td>женат / замужем</td>\n",
       "      <td>0</td>\n",
       "      <td>F</td>\n",
       "      <td>сотрудник</td>\n",
       "      <td>0</td>\n",
       "      <td>77069.234271</td>\n",
       "      <td>покупка коммерческой недвижимости</td>\n",
       "    </tr>\n",
       "    <tr>\n",
       "      <th>12</th>\n",
       "      <td>0</td>\n",
       "      <td>NaN</td>\n",
       "      <td>65</td>\n",
       "      <td>среднее</td>\n",
       "      <td>1</td>\n",
       "      <td>гражданский брак</td>\n",
       "      <td>1</td>\n",
       "      <td>M</td>\n",
       "      <td>пенсионер</td>\n",
       "      <td>0</td>\n",
       "      <td>NaN</td>\n",
       "      <td>сыграть свадьбу</td>\n",
       "    </tr>\n",
       "    <tr>\n",
       "      <th>13</th>\n",
       "      <td>0</td>\n",
       "      <td>-1846.641941</td>\n",
       "      <td>54</td>\n",
       "      <td>неоконченное высшее</td>\n",
       "      <td>2</td>\n",
       "      <td>женат / замужем</td>\n",
       "      <td>0</td>\n",
       "      <td>F</td>\n",
       "      <td>сотрудник</td>\n",
       "      <td>0</td>\n",
       "      <td>130458.228857</td>\n",
       "      <td>приобретение автомобиля</td>\n",
       "    </tr>\n",
       "    <tr>\n",
       "      <th>14</th>\n",
       "      <td>0</td>\n",
       "      <td>-1844.956182</td>\n",
       "      <td>56</td>\n",
       "      <td>высшее</td>\n",
       "      <td>0</td>\n",
       "      <td>гражданский брак</td>\n",
       "      <td>1</td>\n",
       "      <td>F</td>\n",
       "      <td>компаньон</td>\n",
       "      <td>1</td>\n",
       "      <td>165127.911772</td>\n",
       "      <td>покупка жилой недвижимости</td>\n",
       "    </tr>\n",
       "    <tr>\n",
       "      <th>15</th>\n",
       "      <td>1</td>\n",
       "      <td>-972.364419</td>\n",
       "      <td>26</td>\n",
       "      <td>среднее</td>\n",
       "      <td>1</td>\n",
       "      <td>женат / замужем</td>\n",
       "      <td>0</td>\n",
       "      <td>F</td>\n",
       "      <td>сотрудник</td>\n",
       "      <td>0</td>\n",
       "      <td>116820.904450</td>\n",
       "      <td>строительство собственной недвижимости</td>\n",
       "    </tr>\n",
       "    <tr>\n",
       "      <th>16</th>\n",
       "      <td>0</td>\n",
       "      <td>-1719.934226</td>\n",
       "      <td>35</td>\n",
       "      <td>среднее</td>\n",
       "      <td>1</td>\n",
       "      <td>женат / замужем</td>\n",
       "      <td>0</td>\n",
       "      <td>F</td>\n",
       "      <td>сотрудник</td>\n",
       "      <td>0</td>\n",
       "      <td>289202.704229</td>\n",
       "      <td>недвижимость</td>\n",
       "    </tr>\n",
       "    <tr>\n",
       "      <th>17</th>\n",
       "      <td>0</td>\n",
       "      <td>-2369.999720</td>\n",
       "      <td>33</td>\n",
       "      <td>высшее</td>\n",
       "      <td>0</td>\n",
       "      <td>гражданский брак</td>\n",
       "      <td>1</td>\n",
       "      <td>M</td>\n",
       "      <td>сотрудник</td>\n",
       "      <td>0</td>\n",
       "      <td>90410.586745</td>\n",
       "      <td>строительство недвижимости</td>\n",
       "    </tr>\n",
       "    <tr>\n",
       "      <th>18</th>\n",
       "      <td>0</td>\n",
       "      <td>400281.136913</td>\n",
       "      <td>53</td>\n",
       "      <td>среднее</td>\n",
       "      <td>1</td>\n",
       "      <td>вдовец / вдова</td>\n",
       "      <td>2</td>\n",
       "      <td>F</td>\n",
       "      <td>пенсионер</td>\n",
       "      <td>0</td>\n",
       "      <td>56823.777243</td>\n",
       "      <td>на покупку подержанного автомобиля</td>\n",
       "    </tr>\n",
       "    <tr>\n",
       "      <th>19</th>\n",
       "      <td>0</td>\n",
       "      <td>-10038.818549</td>\n",
       "      <td>48</td>\n",
       "      <td>СРЕДНЕЕ</td>\n",
       "      <td>1</td>\n",
       "      <td>в разводе</td>\n",
       "      <td>3</td>\n",
       "      <td>F</td>\n",
       "      <td>сотрудник</td>\n",
       "      <td>0</td>\n",
       "      <td>242831.107982</td>\n",
       "      <td>на покупку своего автомобиля</td>\n",
       "    </tr>\n",
       "  </tbody>\n",
       "</table>\n",
       "</div>"
      ],
      "text/plain": [
       "    children  days_employed  dob_years            education  education_id  \\\n",
       "0          1   -8437.673028         42               высшее             0   \n",
       "1          1   -4024.803754         36              среднее             1   \n",
       "2          0   -5623.422610         33              Среднее             1   \n",
       "3          3   -4124.747207         32              среднее             1   \n",
       "4          0  340266.072047         53              среднее             1   \n",
       "5          0    -926.185831         27               высшее             0   \n",
       "6          0   -2879.202052         43               высшее             0   \n",
       "7          0    -152.779569         50              СРЕДНЕЕ             1   \n",
       "8          2   -6929.865299         35               ВЫСШЕЕ             0   \n",
       "9          0   -2188.756445         41              среднее             1   \n",
       "10         2   -4171.483647         36               высшее             0   \n",
       "11         0    -792.701887         40              среднее             1   \n",
       "12         0            NaN         65              среднее             1   \n",
       "13         0   -1846.641941         54  неоконченное высшее             2   \n",
       "14         0   -1844.956182         56               высшее             0   \n",
       "15         1    -972.364419         26              среднее             1   \n",
       "16         0   -1719.934226         35              среднее             1   \n",
       "17         0   -2369.999720         33               высшее             0   \n",
       "18         0  400281.136913         53              среднее             1   \n",
       "19         0  -10038.818549         48              СРЕДНЕЕ             1   \n",
       "\n",
       "       family_status  family_status_id gender income_type  debt  \\\n",
       "0    женат / замужем                 0      F   сотрудник     0   \n",
       "1    женат / замужем                 0      F   сотрудник     0   \n",
       "2    женат / замужем                 0      M   сотрудник     0   \n",
       "3    женат / замужем                 0      M   сотрудник     0   \n",
       "4   гражданский брак                 1      F   пенсионер     0   \n",
       "5   гражданский брак                 1      M   компаньон     0   \n",
       "6    женат / замужем                 0      F   компаньон     0   \n",
       "7    женат / замужем                 0      M   сотрудник     0   \n",
       "8   гражданский брак                 1      F   сотрудник     0   \n",
       "9    женат / замужем                 0      M   сотрудник     0   \n",
       "10   женат / замужем                 0      M   компаньон     0   \n",
       "11   женат / замужем                 0      F   сотрудник     0   \n",
       "12  гражданский брак                 1      M   пенсионер     0   \n",
       "13   женат / замужем                 0      F   сотрудник     0   \n",
       "14  гражданский брак                 1      F   компаньон     1   \n",
       "15   женат / замужем                 0      F   сотрудник     0   \n",
       "16   женат / замужем                 0      F   сотрудник     0   \n",
       "17  гражданский брак                 1      M   сотрудник     0   \n",
       "18    вдовец / вдова                 2      F   пенсионер     0   \n",
       "19         в разводе                 3      F   сотрудник     0   \n",
       "\n",
       "     total_income                                 purpose  \n",
       "0   253875.639453                           покупка жилья  \n",
       "1   112080.014102                 приобретение автомобиля  \n",
       "2   145885.952297                           покупка жилья  \n",
       "3   267628.550329              дополнительное образование  \n",
       "4   158616.077870                         сыграть свадьбу  \n",
       "5   255763.565419                           покупка жилья  \n",
       "6   240525.971920                       операции с жильем  \n",
       "7   135823.934197                             образование  \n",
       "8    95856.832424                   на проведение свадьбы  \n",
       "9   144425.938277                 покупка жилья для семьи  \n",
       "10  113943.491460                    покупка недвижимости  \n",
       "11   77069.234271       покупка коммерческой недвижимости  \n",
       "12            NaN                         сыграть свадьбу  \n",
       "13  130458.228857                 приобретение автомобиля  \n",
       "14  165127.911772              покупка жилой недвижимости  \n",
       "15  116820.904450  строительство собственной недвижимости  \n",
       "16  289202.704229                            недвижимость  \n",
       "17   90410.586745              строительство недвижимости  \n",
       "18   56823.777243      на покупку подержанного автомобиля  \n",
       "19  242831.107982            на покупку своего автомобиля  "
      ]
     },
     "execution_count": 2,
     "metadata": {},
     "output_type": "execute_result"
    }
   ],
   "source": [
    "data.head(20)"
   ]
  },
  {
   "cell_type": "markdown",
   "id": "fbc0d3f8",
   "metadata": {
    "deletable": false,
    "editable": false,
    "id": "1c12e233"
   },
   "source": [
    "**Задание 3. Выведите основную информацию о датафрейме с помощью метода `info()`.**"
   ]
  },
  {
   "cell_type": "code",
   "execution_count": 3,
   "id": "09ffc529",
   "metadata": {
    "deletable": false,
    "id": "2b757bca",
    "outputId": "15376089-8dad-46c9-b520-c05248d43158"
   },
   "outputs": [
    {
     "name": "stdout",
     "output_type": "stream",
     "text": [
      "<class 'pandas.core.frame.DataFrame'>\n",
      "RangeIndex: 21525 entries, 0 to 21524\n",
      "Data columns (total 12 columns):\n",
      " #   Column            Non-Null Count  Dtype  \n",
      "---  ------            --------------  -----  \n",
      " 0   children          21525 non-null  int64  \n",
      " 1   days_employed     19351 non-null  float64\n",
      " 2   dob_years         21525 non-null  int64  \n",
      " 3   education         21525 non-null  object \n",
      " 4   education_id      21525 non-null  int64  \n",
      " 5   family_status     21525 non-null  object \n",
      " 6   family_status_id  21525 non-null  int64  \n",
      " 7   gender            21525 non-null  object \n",
      " 8   income_type       21525 non-null  object \n",
      " 9   debt              21525 non-null  int64  \n",
      " 10  total_income      19351 non-null  float64\n",
      " 11  purpose           21525 non-null  object \n",
      "dtypes: float64(2), int64(5), object(5)\n",
      "memory usage: 2.0+ MB\n"
     ]
    }
   ],
   "source": [
    "data.info()"
   ]
  },
  {
   "cell_type": "markdown",
   "id": "c2bb0bfb",
   "metadata": {
    "deletable": false,
    "editable": false,
    "id": "333ec665"
   },
   "source": [
    "## Предобработка данных"
   ]
  },
  {
   "cell_type": "markdown",
   "id": "205dbbdb",
   "metadata": {
    "deletable": false,
    "editable": false,
    "id": "02d92d53"
   },
   "source": [
    "### Удаление пропусков"
   ]
  },
  {
   "cell_type": "markdown",
   "id": "d5471614",
   "metadata": {
    "deletable": false,
    "editable": false,
    "id": "cd84967c"
   },
   "source": [
    "**Задание 4. Выведите количество пропущенных значений для каждого столбца. Используйте комбинацию двух методов.**"
   ]
  },
  {
   "cell_type": "code",
   "execution_count": 4,
   "id": "8ba01672",
   "metadata": {
    "deletable": false,
    "id": "7f9b2309",
    "outputId": "81f4d817-781c-465c-ed15-91ce4446810d"
   },
   "outputs": [
    {
     "data": {
      "text/plain": [
       "children               0\n",
       "days_employed       2174\n",
       "dob_years              0\n",
       "education              0\n",
       "education_id           0\n",
       "family_status          0\n",
       "family_status_id       0\n",
       "gender                 0\n",
       "income_type            0\n",
       "debt                   0\n",
       "total_income        2174\n",
       "purpose                0\n",
       "dtype: int64"
      ]
     },
     "execution_count": 4,
     "metadata": {},
     "output_type": "execute_result"
    }
   ],
   "source": [
    "data.isna().sum()"
   ]
  },
  {
   "cell_type": "markdown",
   "id": "e7aba749",
   "metadata": {
    "deletable": false,
    "editable": false,
    "id": "db86e27b"
   },
   "source": [
    "**Задание 5. В двух столбцах есть пропущенные значения. Один из них — `days_employed`. Пропуски в этом столбце вы обработаете на следующем этапе. Другой столбец с пропущенными значениями — `total_income` — хранит данные о доходах. На сумму дохода сильнее всего влияет тип занятости, поэтому заполнить пропуски в этом столбце нужно медианным значением по каждому типу из столбца `income_type`. Например, у человека с типом занятости `сотрудник` пропуск в столбце `total_income` должен быть заполнен медианным доходом среди всех записей с тем же типом.**"
   ]
  },
  {
   "cell_type": "code",
   "execution_count": 5,
   "id": "1920c234",
   "metadata": {
    "deletable": false,
    "id": "42006a93"
   },
   "outputs": [],
   "source": [
    "for t in data['income_type'].unique():\n",
    "    data.loc[(data['income_type'] == t) & (data['total_income'].isna()), 'total_income'] = \\\n",
    "    data.loc[(data['income_type'] == t), 'total_income'].median()"
   ]
  },
  {
   "cell_type": "markdown",
   "id": "4b91a931",
   "metadata": {
    "deletable": false,
    "editable": false,
    "id": "89da5ece"
   },
   "source": [
    "### Обработка аномальных значений"
   ]
  },
  {
   "cell_type": "markdown",
   "id": "cc2f257d",
   "metadata": {
    "deletable": false,
    "editable": false,
    "id": "57964554"
   },
   "source": [
    "**Задание 6. В данных могут встречаться артефакты (аномалии) — значения, которые не отражают действительность и появились по какой-то ошибке. таким артефактом будет отрицательное количество дней трудового стажа в столбце `days_employed`. Для реальных данных это нормально. Обработайте значения в этом столбце: замените все отрицательные значения положительными с помощью метода `abs()`.**"
   ]
  },
  {
   "cell_type": "code",
   "execution_count": 6,
   "id": "6fe715bd",
   "metadata": {
    "deletable": false,
    "id": "f6f055bf"
   },
   "outputs": [],
   "source": [
    "data['days_employed'] = data['days_employed'].abs()"
   ]
  },
  {
   "cell_type": "markdown",
   "id": "6bb9f50d",
   "metadata": {
    "deletable": false,
    "editable": false,
    "id": "6107dd2f"
   },
   "source": [
    "**Задание 7. Для каждого типа занятости выведите медианное значение трудового стажа `days_employed` в днях.**"
   ]
  },
  {
   "cell_type": "code",
   "execution_count": 7,
   "id": "ff24dcb6",
   "metadata": {
    "deletable": false,
    "id": "85a5faf6",
    "outputId": "801ef80e-522b-4668-f34e-565af7432bcf"
   },
   "outputs": [
    {
     "data": {
      "text/plain": [
       "income_type\n",
       "безработный        366413.652744\n",
       "в декрете            3296.759962\n",
       "госслужащий          2689.368353\n",
       "компаньон            1547.382223\n",
       "пенсионер          365213.306266\n",
       "предприниматель       520.848083\n",
       "сотрудник            1574.202821\n",
       "студент               578.751554\n",
       "Name: days_employed, dtype: float64"
      ]
     },
     "execution_count": 7,
     "metadata": {},
     "output_type": "execute_result"
    }
   ],
   "source": [
    "data.groupby('income_type')['days_employed'].agg('median')"
   ]
  },
  {
   "cell_type": "markdown",
   "id": "85a2025c",
   "metadata": {
    "deletable": false,
    "editable": false,
    "id": "38d1a030"
   },
   "source": [
    "У двух типов (безработные и пенсионеры) получатся аномально большие значения. Исправить такие значения сложно, поэтому оставьте их как есть. Тем более этот столбец не понадобится вам для исследования."
   ]
  },
  {
   "cell_type": "markdown",
   "id": "e163011a",
   "metadata": {
    "deletable": false,
    "editable": false,
    "id": "d8a9f147"
   },
   "source": [
    "**Задание 8. Выведите перечень уникальных значений столбца `children`.**"
   ]
  },
  {
   "cell_type": "code",
   "execution_count": 8,
   "id": "b123b1e4",
   "metadata": {
    "deletable": false,
    "id": "ef5056eb",
    "outputId": "6975b15c-7f95-4697-d16d-a0c79b657b03"
   },
   "outputs": [
    {
     "data": {
      "text/plain": [
       "array([ 1,  0,  3,  2, -1,  4, 20,  5])"
      ]
     },
     "execution_count": 8,
     "metadata": {},
     "output_type": "execute_result"
    }
   ],
   "source": [
    "data['children'].unique()"
   ]
  },
  {
   "cell_type": "markdown",
   "id": "78a3b104",
   "metadata": {
    "deletable": false,
    "editable": false,
    "id": "40b9ebf2"
   },
   "source": [
    "**Задание 9. В столбце `children` есть два аномальных значения. Удалите строки, в которых встречаются такие аномальные значения из датафрейма `data`.**"
   ]
  },
  {
   "cell_type": "code",
   "execution_count": 9,
   "id": "d8baa1ee",
   "metadata": {
    "deletable": false,
    "id": "3ff9801d"
   },
   "outputs": [],
   "source": [
    "data = data[(data['children'] != -1) & (data['children'] != 20)]"
   ]
  },
  {
   "cell_type": "markdown",
   "id": "823d4498",
   "metadata": {
    "deletable": false,
    "editable": false,
    "id": "bbc4d0ce"
   },
   "source": [
    "**Задание 10. Ещё раз выведите перечень уникальных значений столбца `children`, чтобы убедиться, что артефакты удалены.**"
   ]
  },
  {
   "cell_type": "code",
   "execution_count": 10,
   "id": "3d24a846",
   "metadata": {
    "deletable": false,
    "id": "ad4fa8b7",
    "outputId": "b2097101-d49d-44d9-901b-32a65c9463d1"
   },
   "outputs": [
    {
     "data": {
      "text/plain": [
       "array([1, 0, 3, 2, 4, 5])"
      ]
     },
     "execution_count": 10,
     "metadata": {},
     "output_type": "execute_result"
    }
   ],
   "source": [
    "data['children'].unique()"
   ]
  },
  {
   "cell_type": "markdown",
   "id": "04f8e753",
   "metadata": {
    "deletable": false,
    "editable": false,
    "id": "75440b63"
   },
   "source": [
    "### Удаление пропусков (продолжение)"
   ]
  },
  {
   "cell_type": "markdown",
   "id": "4a8bccbd",
   "metadata": {
    "deletable": false,
    "editable": false,
    "id": "f4ea573f"
   },
   "source": [
    "**Задание 11. Заполните пропуски в столбце `days_employed` медианными значениями по каждого типа занятости `income_type`.**"
   ]
  },
  {
   "cell_type": "code",
   "execution_count": 11,
   "id": "80806026",
   "metadata": {
    "deletable": false,
    "id": "af6b1a7e"
   },
   "outputs": [],
   "source": [
    "for t in data['income_type'].unique():\n",
    "    data.loc[(data['income_type'] == t) & (data['days_employed'].isna()), 'days_employed'] = \\\n",
    "    data.loc[(data['income_type'] == t), 'days_employed'].median()"
   ]
  },
  {
   "cell_type": "markdown",
   "id": "01259331",
   "metadata": {
    "deletable": false,
    "editable": false,
    "id": "2753f40d"
   },
   "source": [
    "**Задание 12. Убедитесь, что все пропуски заполнены. Проверьте себя и ещё раз выведите количество пропущенных значений для каждого столбца с помощью двух методов.**"
   ]
  },
  {
   "cell_type": "code",
   "execution_count": 12,
   "id": "f36a18bc",
   "metadata": {
    "deletable": false,
    "id": "55f78bc2",
    "outputId": "8da1e4e1-358e-4e87-98c9-f261bce0a7b2"
   },
   "outputs": [
    {
     "data": {
      "text/plain": [
       "children            0\n",
       "days_employed       0\n",
       "dob_years           0\n",
       "education           0\n",
       "education_id        0\n",
       "family_status       0\n",
       "family_status_id    0\n",
       "gender              0\n",
       "income_type         0\n",
       "debt                0\n",
       "total_income        0\n",
       "purpose             0\n",
       "dtype: int64"
      ]
     },
     "execution_count": 12,
     "metadata": {},
     "output_type": "execute_result"
    }
   ],
   "source": [
    "data.isna().sum()"
   ]
  },
  {
   "cell_type": "markdown",
   "id": "015c14db",
   "metadata": {
    "deletable": false,
    "editable": false,
    "id": "ddc81e43"
   },
   "source": [
    "### Изменение типов данных"
   ]
  },
  {
   "cell_type": "markdown",
   "id": "7f1eae3c",
   "metadata": {
    "deletable": false,
    "editable": false,
    "id": "42d19d24"
   },
   "source": [
    "**Задание 13. Замените вещественный тип данных в столбце `total_income` на целочисленный с помощью метода `astype()`.**"
   ]
  },
  {
   "cell_type": "code",
   "execution_count": 13,
   "id": "db7836fa",
   "metadata": {
    "deletable": false,
    "id": "920b65ad"
   },
   "outputs": [],
   "source": [
    "data['total_income'] = data['total_income'].astype(int)"
   ]
  },
  {
   "cell_type": "markdown",
   "id": "47ddd5af",
   "metadata": {
    "deletable": false,
    "editable": false,
    "id": "80c420ba"
   },
   "source": [
    "### Обработка дубликатов"
   ]
  },
  {
   "cell_type": "markdown",
   "id": "06ff5078",
   "metadata": {
    "deletable": false,
    "editable": false
   },
   "source": [
    "**Задание 14. Обработайте неявные дубликаты в столбце `education`. В этом столбце есть одни и те же значения, но записанные по-разному: с использованием заглавных и строчных букв. Приведите их к нижнему регистру. Проверьте остальные столбцы.**"
   ]
  },
  {
   "cell_type": "code",
   "execution_count": 14,
   "id": "eb11b114",
   "metadata": {
    "deletable": false
   },
   "outputs": [],
   "source": [
    "data['education'] = data['education'].str.lower()"
   ]
  },
  {
   "cell_type": "markdown",
   "id": "8cffae27",
   "metadata": {
    "deletable": false,
    "editable": false,
    "id": "dc587695"
   },
   "source": [
    "**Задание 15. Выведите на экран количество строк-дубликатов в данных. Если такие строки присутствуют, удалите их.**"
   ]
  },
  {
   "cell_type": "code",
   "execution_count": 15,
   "id": "8488d629",
   "metadata": {
    "deletable": false,
    "id": "3ee445e4",
    "outputId": "9684deba-1934-42d1-99e1-cda61740f822"
   },
   "outputs": [
    {
     "data": {
      "text/plain": [
       "71"
      ]
     },
     "execution_count": 15,
     "metadata": {},
     "output_type": "execute_result"
    }
   ],
   "source": [
    "data.duplicated().sum()"
   ]
  },
  {
   "cell_type": "code",
   "execution_count": 16,
   "id": "49d72cee",
   "metadata": {
    "deletable": false,
    "id": "8575fe05"
   },
   "outputs": [],
   "source": [
    "data = data.drop_duplicates()"
   ]
  },
  {
   "cell_type": "markdown",
   "id": "df5d1e0e",
   "metadata": {
    "deletable": false,
    "editable": false,
    "id": "9904cf55"
   },
   "source": [
    "### Категоризация данных"
   ]
  },
  {
   "cell_type": "markdown",
   "id": "8add4960",
   "metadata": {
    "deletable": false,
    "editable": false,
    "id": "72fcc8a2"
   },
   "source": [
    "**Задание 16. На основании диапазонов, указанных ниже, создайте в датафрейме `data` столбец `total_income_category` с категориями:**\n",
    "\n",
    "- 0–30000 — `'E'`;\n",
    "- 30001–50000 — `'D'`;\n",
    "- 50001–200000 — `'C'`;\n",
    "- 200001–1000000 — `'B'`;\n",
    "- 1000001 и выше — `'A'`.\n",
    "\n",
    "\n",
    "**Например, кредитополучателю с доходом 25000 нужно назначить категорию `'E'`, а клиенту, получающему 235000, — `'B'`. Используйте собственную функцию с именем `categorize_income()` и метод `apply()`.**"
   ]
  },
  {
   "cell_type": "code",
   "execution_count": 17,
   "id": "1d21f4fc",
   "metadata": {
    "deletable": false,
    "id": "e1771346"
   },
   "outputs": [],
   "source": [
    "def categorize_income(income):\n",
    "    try:\n",
    "        if 0 <= income <= 30000:\n",
    "            return 'E'\n",
    "        elif 30001 <= income <= 50000:\n",
    "            return 'D'\n",
    "        elif 50001 <= income <= 200000:\n",
    "            return 'C'\n",
    "        elif 200001 <= income <= 1000000:\n",
    "            return 'B'\n",
    "        elif income >= 1000001:\n",
    "            return 'A'\n",
    "    except:\n",
    "        pass"
   ]
  },
  {
   "cell_type": "code",
   "execution_count": 18,
   "id": "9cb65eb4",
   "metadata": {
    "deletable": false,
    "id": "d5f3586d"
   },
   "outputs": [],
   "source": [
    "data['total_income_category'] = data['total_income'].apply(categorize_income)"
   ]
  },
  {
   "cell_type": "markdown",
   "id": "3eb6245e",
   "metadata": {
    "deletable": false,
    "editable": false,
    "id": "dde49b5c"
   },
   "source": [
    "**Задание 17. Выведите на экран перечень уникальных целей взятия кредита из столбца `purpose`.**"
   ]
  },
  {
   "cell_type": "code",
   "execution_count": 19,
   "id": "ad3763aa",
   "metadata": {
    "deletable": false,
    "id": "f67ce9b3",
    "outputId": "673c12d9-7d7e-4ae0-9812-c622c89dd244"
   },
   "outputs": [
    {
     "data": {
      "text/plain": [
       "array(['покупка жилья', 'приобретение автомобиля',\n",
       "       'дополнительное образование', 'сыграть свадьбу',\n",
       "       'операции с жильем', 'образование', 'на проведение свадьбы',\n",
       "       'покупка жилья для семьи', 'покупка недвижимости',\n",
       "       'покупка коммерческой недвижимости', 'покупка жилой недвижимости',\n",
       "       'строительство собственной недвижимости', 'недвижимость',\n",
       "       'строительство недвижимости', 'на покупку подержанного автомобиля',\n",
       "       'на покупку своего автомобиля',\n",
       "       'операции с коммерческой недвижимостью',\n",
       "       'строительство жилой недвижимости', 'жилье',\n",
       "       'операции со своей недвижимостью', 'автомобили',\n",
       "       'заняться образованием', 'сделка с подержанным автомобилем',\n",
       "       'получение образования', 'автомобиль', 'свадьба',\n",
       "       'получение дополнительного образования', 'покупка своего жилья',\n",
       "       'операции с недвижимостью', 'получение высшего образования',\n",
       "       'свой автомобиль', 'сделка с автомобилем',\n",
       "       'профильное образование', 'высшее образование',\n",
       "       'покупка жилья для сдачи', 'на покупку автомобиля', 'ремонт жилью',\n",
       "       'заняться высшим образованием'], dtype=object)"
      ]
     },
     "execution_count": 19,
     "metadata": {},
     "output_type": "execute_result"
    }
   ],
   "source": [
    "data['purpose'].unique()"
   ]
  },
  {
   "cell_type": "markdown",
   "id": "147172ad",
   "metadata": {
    "deletable": false,
    "editable": false,
    "id": "85d0aef0"
   },
   "source": [
    "**Задание 18. Создайте функцию, которая на основании данных из столбца `purpose` сформирует новый столбец `purpose_category`, в который войдут следующие категории:**\n",
    "\n",
    "- `'операции с автомобилем'`,\n",
    "- `'операции с недвижимостью'`,\n",
    "- `'проведение свадьбы'`,\n",
    "- `'получение образования'`.\n",
    "\n",
    "**Например, если в столбце `purpose` находится подстрока `'на покупку автомобиля'`, то в столбце `purpose_category` должна появиться строка `'операции с автомобилем'`.**\n",
    "\n",
    "**Используйте собственную функцию с именем `categorize_purpose()` и метод `apply()`. Изучите данные в столбце `purpose` и определите, какие подстроки помогут вам правильно определить категорию.**"
   ]
  },
  {
   "cell_type": "code",
   "execution_count": 20,
   "id": "894c0571",
   "metadata": {
    "deletable": false,
    "id": "e149fab4"
   },
   "outputs": [],
   "source": [
    "def categorize_purpose(row):\n",
    "    try:\n",
    "        if 'автом' in row:\n",
    "            return 'операции с автомобилем'\n",
    "        elif 'жил' in row or 'недвиж' in row:\n",
    "            return 'операции с недвижимостью'\n",
    "        elif 'свад' in row:\n",
    "            return 'проведение свадьбы'\n",
    "        elif 'образов' in row:\n",
    "            return 'получение образования'\n",
    "    except:\n",
    "        return 'нет категории'"
   ]
  },
  {
   "cell_type": "code",
   "execution_count": 21,
   "id": "92778539",
   "metadata": {
    "deletable": false,
    "id": "bf36e69b"
   },
   "outputs": [],
   "source": [
    "data['purpose_category'] = data['purpose'].apply(categorize_purpose)"
   ]
  },
  {
   "cell_type": "markdown",
   "id": "47bf72d4",
   "metadata": {
    "deletable": false,
    "editable": false,
    "id": "09b242bf"
   },
   "source": [
    "### Шаг 3. Исследуйте данные и ответьте на вопросы"
   ]
  },
  {
   "cell_type": "markdown",
   "id": "32aeedd1",
   "metadata": {
    "deletable": false,
    "editable": false,
    "id": "c5d66278"
   },
   "source": [
    "#### 3.1 Есть ли зависимость между количеством детей и возвратом кредита в срок?"
   ]
  },
  {
   "cell_type": "code",
   "execution_count": 22,
   "id": "94123326",
   "metadata": {
    "deletable": false,
    "id": "2cacfc4a"
   },
   "outputs": [
    {
     "data": {
      "text/html": [
       "<div>\n",
       "<style scoped>\n",
       "    .dataframe tbody tr th:only-of-type {\n",
       "        vertical-align: middle;\n",
       "    }\n",
       "\n",
       "    .dataframe tbody tr th {\n",
       "        vertical-align: top;\n",
       "    }\n",
       "\n",
       "    .dataframe thead th {\n",
       "        text-align: right;\n",
       "    }\n",
       "</style>\n",
       "<table border=\"1\" class=\"dataframe\">\n",
       "  <thead>\n",
       "    <tr style=\"text-align: right;\">\n",
       "      <th></th>\n",
       "      <th>mean debt</th>\n",
       "      <th>number of clients</th>\n",
       "    </tr>\n",
       "    <tr>\n",
       "      <th>children</th>\n",
       "      <th></th>\n",
       "      <th></th>\n",
       "    </tr>\n",
       "  </thead>\n",
       "  <tbody>\n",
       "    <tr>\n",
       "      <th>0</th>\n",
       "      <td>0.075438</td>\n",
       "      <td>14091</td>\n",
       "    </tr>\n",
       "    <tr>\n",
       "      <th>1</th>\n",
       "      <td>0.092346</td>\n",
       "      <td>4808</td>\n",
       "    </tr>\n",
       "    <tr>\n",
       "      <th>2</th>\n",
       "      <td>0.094542</td>\n",
       "      <td>2052</td>\n",
       "    </tr>\n",
       "    <tr>\n",
       "      <th>3</th>\n",
       "      <td>0.081818</td>\n",
       "      <td>330</td>\n",
       "    </tr>\n",
       "    <tr>\n",
       "      <th>4</th>\n",
       "      <td>0.097561</td>\n",
       "      <td>41</td>\n",
       "    </tr>\n",
       "    <tr>\n",
       "      <th>5</th>\n",
       "      <td>0.000000</td>\n",
       "      <td>9</td>\n",
       "    </tr>\n",
       "  </tbody>\n",
       "</table>\n",
       "</div>"
      ],
      "text/plain": [
       "          mean debt  number of clients\n",
       "children                              \n",
       "0          0.075438              14091\n",
       "1          0.092346               4808\n",
       "2          0.094542               2052\n",
       "3          0.081818                330\n",
       "4          0.097561                 41\n",
       "5          0.000000                  9"
      ]
     },
     "execution_count": 22,
     "metadata": {},
     "output_type": "execute_result"
    }
   ],
   "source": [
    "data_children = data.groupby('children').agg({'debt': ['mean', 'count']})['debt']\\\n",
    ".rename(columns = {'mean':'mean debt', 'count':'number of clients'})\n",
    "data_children"
   ]
  },
  {
   "cell_type": "markdown",
   "id": "572d697a",
   "metadata": {},
   "source": [
    "<div class=\"alert alert-success\">\n",
    "<b>Комментарий ревьюера №1</b> ✅\n",
    "    \n",
    "Могу посоветовать переименовать столбцы и написать функцию для построения сводных во всех вопросах.\n",
    "</div>"
   ]
  },
  {
   "cell_type": "markdown",
   "id": "b87f6e97",
   "metadata": {
    "deletable": false,
    "id": "3a6b99ec"
   },
   "source": [
    "**Вывод:** \n",
    "Сравним категории с большим количеством заёмщиков. Для групп без детей, с 1 ребёнком и с 2 детьми. Можно сделать вывод, что с увеличением количества детей, количество просроченных кредитов увеличивается, а значит и должников."
   ]
  },
  {
   "cell_type": "markdown",
   "id": "007e5b58",
   "metadata": {
    "deletable": false,
    "editable": false,
    "id": "97be82ca"
   },
   "source": [
    "#### 3.2 Есть ли зависимость между семейным положением и возвратом кредита в срок?"
   ]
  },
  {
   "cell_type": "code",
   "execution_count": 23,
   "id": "522f3924",
   "metadata": {
    "deletable": false,
    "id": "dc3f7ee8"
   },
   "outputs": [
    {
     "data": {
      "text/html": [
       "<div>\n",
       "<style scoped>\n",
       "    .dataframe tbody tr th:only-of-type {\n",
       "        vertical-align: middle;\n",
       "    }\n",
       "\n",
       "    .dataframe tbody tr th {\n",
       "        vertical-align: top;\n",
       "    }\n",
       "\n",
       "    .dataframe thead th {\n",
       "        text-align: right;\n",
       "    }\n",
       "</style>\n",
       "<table border=\"1\" class=\"dataframe\">\n",
       "  <thead>\n",
       "    <tr style=\"text-align: right;\">\n",
       "      <th></th>\n",
       "      <th>mean debt</th>\n",
       "      <th>number of clients</th>\n",
       "    </tr>\n",
       "    <tr>\n",
       "      <th>family_status</th>\n",
       "      <th></th>\n",
       "      <th></th>\n",
       "    </tr>\n",
       "  </thead>\n",
       "  <tbody>\n",
       "    <tr>\n",
       "      <th>Не женат / не замужем</th>\n",
       "      <td>0.097639</td>\n",
       "      <td>2796</td>\n",
       "    </tr>\n",
       "    <tr>\n",
       "      <th>в разводе</th>\n",
       "      <td>0.070648</td>\n",
       "      <td>1189</td>\n",
       "    </tr>\n",
       "    <tr>\n",
       "      <th>вдовец / вдова</th>\n",
       "      <td>0.066246</td>\n",
       "      <td>951</td>\n",
       "    </tr>\n",
       "    <tr>\n",
       "      <th>гражданский брак</th>\n",
       "      <td>0.093130</td>\n",
       "      <td>4134</td>\n",
       "    </tr>\n",
       "    <tr>\n",
       "      <th>женат / замужем</th>\n",
       "      <td>0.075606</td>\n",
       "      <td>12261</td>\n",
       "    </tr>\n",
       "  </tbody>\n",
       "</table>\n",
       "</div>"
      ],
      "text/plain": [
       "                       mean debt  number of clients\n",
       "family_status                                      \n",
       "Не женат / не замужем   0.097639               2796\n",
       "в разводе               0.070648               1189\n",
       "вдовец / вдова          0.066246                951\n",
       "гражданский брак        0.093130               4134\n",
       "женат / замужем         0.075606              12261"
      ]
     },
     "execution_count": 23,
     "metadata": {},
     "output_type": "execute_result"
    }
   ],
   "source": [
    "data_family_status = data.groupby('family_status').agg({'debt': ['mean', 'count']})['debt']\\\n",
    ".rename(columns = {'mean':'mean debt', 'count':'number of clients'})\n",
    "data_family_status"
   ]
  },
  {
   "cell_type": "markdown",
   "id": "f14f3a76",
   "metadata": {
    "deletable": false,
    "id": "1cef7837"
   },
   "source": [
    "**Вывод:** \n",
    "По полученным данным можно сделать вывод, что возвращают кредиты в срок люди, который либо состояли в браке, либо до сих пор состоят. Самый лучший показатель у вдов и вдовцов."
   ]
  },
  {
   "cell_type": "markdown",
   "id": "8c6f9e14",
   "metadata": {},
   "source": [
    "<div class=\"alert alert-success\">\n",
    "<b>Комментарий ревьюера №1</b> ✅\n",
    "    \n",
    "Люди, побывавшие в официальном браке, наиболее надежны. Возможно, есть связь с возрастом\n",
    "</div>"
   ]
  },
  {
   "cell_type": "markdown",
   "id": "09b4b1c6",
   "metadata": {
    "deletable": false,
    "editable": false,
    "id": "1e8b2fca"
   },
   "source": [
    "#### 3.3 Есть ли зависимость между уровнем дохода и возвратом кредита в срок?"
   ]
  },
  {
   "cell_type": "code",
   "execution_count": 24,
   "id": "aeca7a8c",
   "metadata": {
    "deletable": false,
    "id": "cd7e3720",
    "scrolled": true
   },
   "outputs": [
    {
     "data": {
      "text/html": [
       "<div>\n",
       "<style scoped>\n",
       "    .dataframe tbody tr th:only-of-type {\n",
       "        vertical-align: middle;\n",
       "    }\n",
       "\n",
       "    .dataframe tbody tr th {\n",
       "        vertical-align: top;\n",
       "    }\n",
       "\n",
       "    .dataframe thead th {\n",
       "        text-align: right;\n",
       "    }\n",
       "</style>\n",
       "<table border=\"1\" class=\"dataframe\">\n",
       "  <thead>\n",
       "    <tr style=\"text-align: right;\">\n",
       "      <th></th>\n",
       "      <th>mean debt</th>\n",
       "      <th>number of clients</th>\n",
       "    </tr>\n",
       "    <tr>\n",
       "      <th>total_income_category</th>\n",
       "      <th></th>\n",
       "      <th></th>\n",
       "    </tr>\n",
       "  </thead>\n",
       "  <tbody>\n",
       "    <tr>\n",
       "      <th>A</th>\n",
       "      <td>0.080000</td>\n",
       "      <td>25</td>\n",
       "    </tr>\n",
       "    <tr>\n",
       "      <th>B</th>\n",
       "      <td>0.070602</td>\n",
       "      <td>5014</td>\n",
       "    </tr>\n",
       "    <tr>\n",
       "      <th>C</th>\n",
       "      <td>0.084982</td>\n",
       "      <td>15921</td>\n",
       "    </tr>\n",
       "    <tr>\n",
       "      <th>D</th>\n",
       "      <td>0.060172</td>\n",
       "      <td>349</td>\n",
       "    </tr>\n",
       "    <tr>\n",
       "      <th>E</th>\n",
       "      <td>0.090909</td>\n",
       "      <td>22</td>\n",
       "    </tr>\n",
       "  </tbody>\n",
       "</table>\n",
       "</div>"
      ],
      "text/plain": [
       "                       mean debt  number of clients\n",
       "total_income_category                              \n",
       "A                       0.080000                 25\n",
       "B                       0.070602               5014\n",
       "C                       0.084982              15921\n",
       "D                       0.060172                349\n",
       "E                       0.090909                 22"
      ]
     },
     "execution_count": 24,
     "metadata": {},
     "output_type": "execute_result"
    }
   ],
   "source": [
    "data_total_income_category = data.groupby('total_income_category').agg({'debt': ['mean', 'count']})['debt']\\\n",
    ".rename(columns = {'mean':'mean debt', 'count':'number of clients'})\n",
    "data_total_income_category"
   ]
  },
  {
   "cell_type": "markdown",
   "id": "f7569685",
   "metadata": {
    "deletable": false,
    "id": "e8593def"
   },
   "source": [
    "**Вывод:** Ранее мы разделили заёмщиков на категории по уровню заработка.\n",
    "\n",
    "0–30000 — 'E';\n",
    "\n",
    "30001–50000 — 'D';\n",
    "\n",
    "50001–200000 — 'C';\n",
    "\n",
    "200001–1000000 — 'B';\n",
    "\n",
    "1000001 и выше — 'A'.\n",
    "\n",
    "\n",
    "Для вывода возьмём средние по самым крупным категориям - B и C. Таким образом, с увеличением дохода, количество кредитов погашенных в срок возрастает, а сответственно уменьшается доля должников.\n"
   ]
  },
  {
   "cell_type": "markdown",
   "id": "e85c59da",
   "metadata": {
    "deletable": false,
    "editable": false,
    "id": "99ecbd1f"
   },
   "source": [
    "#### 3.4 Как разные цели кредита влияют на его возврат в срок?"
   ]
  },
  {
   "cell_type": "code",
   "execution_count": 25,
   "id": "2d890150",
   "metadata": {
    "scrolled": true
   },
   "outputs": [
    {
     "data": {
      "text/html": [
       "<div>\n",
       "<style scoped>\n",
       "    .dataframe tbody tr th:only-of-type {\n",
       "        vertical-align: middle;\n",
       "    }\n",
       "\n",
       "    .dataframe tbody tr th {\n",
       "        vertical-align: top;\n",
       "    }\n",
       "\n",
       "    .dataframe thead th {\n",
       "        text-align: right;\n",
       "    }\n",
       "</style>\n",
       "<table border=\"1\" class=\"dataframe\">\n",
       "  <thead>\n",
       "    <tr style=\"text-align: right;\">\n",
       "      <th></th>\n",
       "      <th>mean debt</th>\n",
       "      <th>number of clients</th>\n",
       "    </tr>\n",
       "    <tr>\n",
       "      <th>purpose_category</th>\n",
       "      <th></th>\n",
       "      <th></th>\n",
       "    </tr>\n",
       "  </thead>\n",
       "  <tbody>\n",
       "    <tr>\n",
       "      <th>операции с автомобилем</th>\n",
       "      <td>0.093480</td>\n",
       "      <td>4279</td>\n",
       "    </tr>\n",
       "    <tr>\n",
       "      <th>операции с недвижимостью</th>\n",
       "      <td>0.072551</td>\n",
       "      <td>10751</td>\n",
       "    </tr>\n",
       "    <tr>\n",
       "      <th>получение образования</th>\n",
       "      <td>0.092528</td>\n",
       "      <td>3988</td>\n",
       "    </tr>\n",
       "    <tr>\n",
       "      <th>проведение свадьбы</th>\n",
       "      <td>0.079118</td>\n",
       "      <td>2313</td>\n",
       "    </tr>\n",
       "  </tbody>\n",
       "</table>\n",
       "</div>"
      ],
      "text/plain": [
       "                          mean debt  number of clients\n",
       "purpose_category                                      \n",
       "операции с автомобилем     0.093480               4279\n",
       "операции с недвижимостью   0.072551              10751\n",
       "получение образования      0.092528               3988\n",
       "проведение свадьбы         0.079118               2313"
      ]
     },
     "execution_count": 25,
     "metadata": {},
     "output_type": "execute_result"
    }
   ],
   "source": [
    "data_purpose_category = data.groupby('purpose_category').agg({'debt': ['mean', 'count']})['debt']\\\n",
    ".rename(columns = {'mean':'mean debt', 'count':'number of clients'})\n",
    "data_purpose_category"
   ]
  },
  {
   "cell_type": "markdown",
   "id": "715ffb18",
   "metadata": {},
   "source": [
    "Создадим сводную таблицу по семейному статусу и цели кредита. Это пригодится для вывода."
   ]
  },
  {
   "cell_type": "code",
   "execution_count": 26,
   "id": "84e8670e",
   "metadata": {
    "deletable": false,
    "id": "2b687290"
   },
   "outputs": [
    {
     "data": {
      "text/html": [
       "<div>\n",
       "<style scoped>\n",
       "    .dataframe tbody tr th:only-of-type {\n",
       "        vertical-align: middle;\n",
       "    }\n",
       "\n",
       "    .dataframe tbody tr th {\n",
       "        vertical-align: top;\n",
       "    }\n",
       "\n",
       "    .dataframe thead tr th {\n",
       "        text-align: left;\n",
       "    }\n",
       "\n",
       "    .dataframe thead tr:last-of-type th {\n",
       "        text-align: right;\n",
       "    }\n",
       "</style>\n",
       "<table border=\"1\" class=\"dataframe\">\n",
       "  <thead>\n",
       "    <tr>\n",
       "      <th></th>\n",
       "      <th></th>\n",
       "      <th>mean debt</th>\n",
       "      <th>number of clients</th>\n",
       "    </tr>\n",
       "    <tr>\n",
       "      <th></th>\n",
       "      <th></th>\n",
       "      <th>debt</th>\n",
       "      <th>debt</th>\n",
       "    </tr>\n",
       "    <tr>\n",
       "      <th>purpose_category</th>\n",
       "      <th>family_status</th>\n",
       "      <th></th>\n",
       "      <th></th>\n",
       "    </tr>\n",
       "  </thead>\n",
       "  <tbody>\n",
       "    <tr>\n",
       "      <th rowspan=\"5\" valign=\"top\">операции с автомобилем</th>\n",
       "      <th>Не женат / не замужем</th>\n",
       "      <td>0.129134</td>\n",
       "      <td>635</td>\n",
       "    </tr>\n",
       "    <tr>\n",
       "      <th>в разводе</th>\n",
       "      <td>0.075269</td>\n",
       "      <td>279</td>\n",
       "    </tr>\n",
       "    <tr>\n",
       "      <th>вдовец / вдова</th>\n",
       "      <td>0.091743</td>\n",
       "      <td>218</td>\n",
       "    </tr>\n",
       "    <tr>\n",
       "      <th>гражданский брак</th>\n",
       "      <td>0.118605</td>\n",
       "      <td>430</td>\n",
       "    </tr>\n",
       "    <tr>\n",
       "      <th>женат / замужем</th>\n",
       "      <td>0.083180</td>\n",
       "      <td>2717</td>\n",
       "    </tr>\n",
       "    <tr>\n",
       "      <th rowspan=\"5\" valign=\"top\">операции с недвижимостью</th>\n",
       "      <th>Не женат / не замужем</th>\n",
       "      <td>0.081337</td>\n",
       "      <td>1586</td>\n",
       "    </tr>\n",
       "    <tr>\n",
       "      <th>в разводе</th>\n",
       "      <td>0.068452</td>\n",
       "      <td>672</td>\n",
       "    </tr>\n",
       "    <tr>\n",
       "      <th>вдовец / вдова</th>\n",
       "      <td>0.052336</td>\n",
       "      <td>535</td>\n",
       "    </tr>\n",
       "    <tr>\n",
       "      <th>гражданский брак</th>\n",
       "      <td>0.092105</td>\n",
       "      <td>988</td>\n",
       "    </tr>\n",
       "    <tr>\n",
       "      <th>женат / замужем</th>\n",
       "      <td>0.069727</td>\n",
       "      <td>6970</td>\n",
       "    </tr>\n",
       "    <tr>\n",
       "      <th rowspan=\"5\" valign=\"top\">получение образования</th>\n",
       "      <th>Не женат / не замужем</th>\n",
       "      <td>0.107826</td>\n",
       "      <td>575</td>\n",
       "    </tr>\n",
       "    <tr>\n",
       "      <th>в разводе</th>\n",
       "      <td>0.071429</td>\n",
       "      <td>238</td>\n",
       "    </tr>\n",
       "    <tr>\n",
       "      <th>вдовец / вдова</th>\n",
       "      <td>0.075758</td>\n",
       "      <td>198</td>\n",
       "    </tr>\n",
       "    <tr>\n",
       "      <th>гражданский брак</th>\n",
       "      <td>0.148883</td>\n",
       "      <td>403</td>\n",
       "    </tr>\n",
       "    <tr>\n",
       "      <th>женат / замужем</th>\n",
       "      <td>0.083528</td>\n",
       "      <td>2574</td>\n",
       "    </tr>\n",
       "    <tr>\n",
       "      <th>проведение свадьбы</th>\n",
       "      <th>гражданский брак</th>\n",
       "      <td>0.079118</td>\n",
       "      <td>2313</td>\n",
       "    </tr>\n",
       "  </tbody>\n",
       "</table>\n",
       "</div>"
      ],
      "text/plain": [
       "                                               mean debt number of clients\n",
       "                                                    debt              debt\n",
       "purpose_category         family_status                                    \n",
       "операции с автомобилем   Не женат / не замужем  0.129134               635\n",
       "                         в разводе              0.075269               279\n",
       "                         вдовец / вдова         0.091743               218\n",
       "                         гражданский брак       0.118605               430\n",
       "                         женат / замужем        0.083180              2717\n",
       "операции с недвижимостью Не женат / не замужем  0.081337              1586\n",
       "                         в разводе              0.068452               672\n",
       "                         вдовец / вдова         0.052336               535\n",
       "                         гражданский брак       0.092105               988\n",
       "                         женат / замужем        0.069727              6970\n",
       "получение образования    Не женат / не замужем  0.107826               575\n",
       "                         в разводе              0.071429               238\n",
       "                         вдовец / вдова         0.075758               198\n",
       "                         гражданский брак       0.148883               403\n",
       "                         женат / замужем        0.083528              2574\n",
       "проведение свадьбы       гражданский брак       0.079118              2313"
      ]
     },
     "execution_count": 26,
     "metadata": {},
     "output_type": "execute_result"
    }
   ],
   "source": [
    "\n",
    "data_purpose_category_svod = data.pivot_table(index=['purpose_category', 'family_status'], values='debt', aggfunc=['mean','count'])\\\n",
    ".rename(columns = {'mean':'mean debt', 'count':'number of clients'})\n",
    "data_purpose_category_svod"
   ]
  },
  {
   "cell_type": "markdown",
   "id": "bb377f07",
   "metadata": {
    "deletable": false,
    "id": "b4bb2ce6"
   },
   "source": [
    "**Вывод:** Судя по полученным данным кредиты на оперции с недвижимостью возвращают чаще всего в срок. Также обстоят дела с кредитами на проведение свадеб, хоть средний показатель и похуже. А вот кредиты на операции с автомобилеми и на получение образования заёмщики возвращяют в срок реже."
   ]
  },
  {
   "cell_type": "markdown",
   "id": "75fdc90d",
   "metadata": {
    "deletable": false,
    "editable": false,
    "id": "09c3ac4c"
   },
   "source": [
    "#### 3.5 Приведите возможные причины появления пропусков в исходных данных."
   ]
  },
  {
   "cell_type": "markdown",
   "id": "c8604d93",
   "metadata": {
    "deletable": false,
    "id": "9da2ceda"
   },
   "source": [
    "*Ответ:* Пропущенные значения были в столбцах \n",
    "\n",
    "days_employed — общий трудовой стаж в днях,\n",
    "\n",
    "total_income — ежемесячный доход.\n",
    "\n",
    "К возможным причинам можно отнести отсутствие трудового стажа заёмщика, неофициальная работа, сам человек мог не предоставить данных о доходах и стаже. Также могли возникнуть какие-то технические проблемы, которые привели к пропускам в данных."
   ]
  },
  {
   "cell_type": "markdown",
   "id": "b9131041",
   "metadata": {
    "deletable": false,
    "editable": false,
    "id": "7b0487d6"
   },
   "source": [
    "#### 3.6 Объясните, почему заполнить пропуски медианным значением — лучшее решение для количественных переменных."
   ]
  },
  {
   "cell_type": "markdown",
   "id": "a2d2475e",
   "metadata": {
    "deletable": false,
    "id": "7ecf2b8e"
   },
   "source": [
    "*Ответ:* Заполнить пропуски медианным значением - это лучшее решение, потому что медианное значение не будет влиять на дальнейший анализ, в отличие, например, от среднего. Медиана - это число, которое находится по середине выборки и на него не влияют сильно отличающиеся от остальных значения, а среднее находится путём деления суммы всех чисел на их количество, поэтому любое сильно отличающееся значение может повлиять, что приводит к искажению в анализе."
   ]
  },
  {
   "cell_type": "markdown",
   "id": "1f1b9501",
   "metadata": {
    "deletable": false,
    "editable": false,
    "id": "6db5255a"
   },
   "source": [
    "### Шаг 4: общий вывод."
   ]
  },
  {
   "cell_type": "markdown",
   "id": "e30559dd",
   "metadata": {
    "deletable": false,
    "id": "bad65432"
   },
   "source": [
    "**Общий вывод**\n",
    "\n",
    "Для корректного анализа была проведена предобработка данных. В ней мы заполнили недостающие данный медианными значениями, которые не будут оказвать сильное влияние на будущий анализ, некорректные и аномальные данный привели к нужному формату или удалили.\n",
    "\n",
    "По полученным данным можно сделать вывод, что есть зависимость между количеством детей, семейным положением, уровнем дохода и возвратом кредита в срок. Так люди когда-либо состоящие в браке чаще возвращаеют кредиты в срок, с увеличением дохода клиента, так же кредит чаще всего закрывается в срок, а с увеличением количества детей уменьшается количество закрытых вовремя кредитов.\n",
    "Также люди возвращают кредиты в срок чаще в зависимости от цели. Так по кредитам, где цели 'операции с недвижимостью' и 'проведение свадеб' меньше всего просрочек. Возможно на это влияет семейное положение. По полученным данным самые хорошие показатели погашения кредита в срок с целью 'операции с недвижимостью' у людей состоящих в браке ранее или в данный момент. А все заёмщики, которые взяли кредит с целью 'проведение свадеб' состоят в гражданском браке, но по всей видимости планируют вступать в официальный.\n",
    "\n",
    "Теперь мы можем составить портрет *надёжного заёмщика.* Это человек, который берёт кредит на цель 'операции с недвижимостью' и 'проведение свадеб', состоящий в официальном браке на данный момент или ранее (в гражданском, если цель проведение свадьбы), без детей и с высоким уровнем дохода.\n",
    "\n",
    "Портрет *рискованного заёмщика.* Человек никогда не состоящий в официальном браке, с низким уровнем дохода и с большим количеством детей.\n",
    "\n",
    "Таким образом, рекомендуется выдавать кредиты людям, состоящим в официальном браке или гражданском, если цель проведение свадьбы, без детей или с небольшим количеством детей и со средним, высоким уровнем дохода. Эти заёмщики стабильные, надёжные и ответственные, а значит наиболее кредитоспособные."
   ]
  }
 ],
 "metadata": {
  "ExecuteTimeLog": [
   {
    "duration": 52,
    "start_time": "2024-02-12T08:24:10.203Z"
   },
   {
    "duration": 520,
    "start_time": "2024-02-12T08:24:28.099Z"
   },
   {
    "duration": 22,
    "start_time": "2024-02-12T08:24:30.670Z"
   },
   {
    "duration": 16,
    "start_time": "2024-02-12T08:24:31.309Z"
   },
   {
    "duration": 11,
    "start_time": "2024-02-12T08:24:32.406Z"
   },
   {
    "duration": 35,
    "start_time": "2024-02-12T08:24:32.734Z"
   },
   {
    "duration": 4,
    "start_time": "2024-02-12T08:24:33.371Z"
   },
   {
    "duration": 8,
    "start_time": "2024-02-12T08:24:33.753Z"
   },
   {
    "duration": 4,
    "start_time": "2024-02-12T08:24:34.367Z"
   },
   {
    "duration": 7,
    "start_time": "2024-02-12T08:24:34.912Z"
   },
   {
    "duration": 4,
    "start_time": "2024-02-12T08:24:35.469Z"
   },
   {
    "duration": 34,
    "start_time": "2024-02-12T08:24:36.699Z"
   },
   {
    "duration": 11,
    "start_time": "2024-02-12T08:24:37.533Z"
   },
   {
    "duration": 4,
    "start_time": "2024-02-12T08:24:39.747Z"
   },
   {
    "duration": 12,
    "start_time": "2024-02-12T08:24:41.006Z"
   },
   {
    "duration": 19,
    "start_time": "2024-02-12T08:24:41.531Z"
   },
   {
    "duration": 16,
    "start_time": "2024-02-12T08:24:42.054Z"
   },
   {
    "duration": 3,
    "start_time": "2024-02-12T08:24:42.654Z"
   },
   {
    "duration": 10,
    "start_time": "2024-02-12T08:24:42.838Z"
   },
   {
    "duration": 6,
    "start_time": "2024-02-12T08:24:43.551Z"
   },
   {
    "duration": 3,
    "start_time": "2024-02-12T08:24:44.159Z"
   },
   {
    "duration": 8,
    "start_time": "2024-02-12T08:24:44.831Z"
   },
   {
    "duration": 4,
    "start_time": "2024-02-12T08:24:47.354Z"
   },
   {
    "duration": 5,
    "start_time": "2024-02-12T08:25:02.772Z"
   },
   {
    "duration": 3,
    "start_time": "2024-02-12T08:25:18.318Z"
   },
   {
    "duration": 29,
    "start_time": "2024-02-12T08:26:05.821Z"
   },
   {
    "duration": 4,
    "start_time": "2024-02-12T08:26:11.131Z"
   },
   {
    "duration": 3,
    "start_time": "2024-02-12T08:26:31.589Z"
   },
   {
    "duration": 23,
    "start_time": "2024-02-12T08:26:38.189Z"
   },
   {
    "duration": 18,
    "start_time": "2024-02-12T08:27:55.577Z"
   },
   {
    "duration": 15,
    "start_time": "2024-02-12T08:28:10.645Z"
   },
   {
    "duration": 6,
    "start_time": "2024-02-12T08:28:35.798Z"
   },
   {
    "duration": 13,
    "start_time": "2024-02-12T08:29:33.990Z"
   },
   {
    "duration": 18,
    "start_time": "2024-02-12T08:30:50.216Z"
   },
   {
    "duration": 49,
    "start_time": "2024-02-14T11:39:04.058Z"
   },
   {
    "duration": 693,
    "start_time": "2024-02-14T11:39:23.843Z"
   },
   {
    "duration": 21,
    "start_time": "2024-02-14T11:39:25.492Z"
   },
   {
    "duration": 15,
    "start_time": "2024-02-14T11:39:26.579Z"
   },
   {
    "duration": 10,
    "start_time": "2024-02-14T11:39:27.324Z"
   },
   {
    "duration": 42,
    "start_time": "2024-02-14T11:39:27.659Z"
   },
   {
    "duration": 3,
    "start_time": "2024-02-14T11:39:28.274Z"
   },
   {
    "duration": 8,
    "start_time": "2024-02-14T11:39:28.690Z"
   },
   {
    "duration": 4,
    "start_time": "2024-02-14T11:39:29.251Z"
   },
   {
    "duration": 6,
    "start_time": "2024-02-14T11:39:29.763Z"
   },
   {
    "duration": 5,
    "start_time": "2024-02-14T11:39:30.283Z"
   },
   {
    "duration": 32,
    "start_time": "2024-02-14T11:39:31.051Z"
   },
   {
    "duration": 11,
    "start_time": "2024-02-14T11:39:32.066Z"
   },
   {
    "duration": 4,
    "start_time": "2024-02-14T11:39:32.591Z"
   },
   {
    "duration": 12,
    "start_time": "2024-02-14T11:39:33.298Z"
   },
   {
    "duration": 19,
    "start_time": "2024-02-14T11:39:33.626Z"
   },
   {
    "duration": 17,
    "start_time": "2024-02-14T11:39:33.820Z"
   },
   {
    "duration": 4,
    "start_time": "2024-02-14T11:39:34.611Z"
   },
   {
    "duration": 11,
    "start_time": "2024-02-14T11:39:34.795Z"
   },
   {
    "duration": 6,
    "start_time": "2024-02-14T11:39:35.307Z"
   },
   {
    "duration": 3,
    "start_time": "2024-02-14T11:39:35.772Z"
   },
   {
    "duration": 9,
    "start_time": "2024-02-14T11:39:35.874Z"
   },
   {
    "duration": 6,
    "start_time": "2024-02-14T11:39:37.436Z"
   },
   {
    "duration": 9,
    "start_time": "2024-02-14T11:39:51.883Z"
   },
   {
    "duration": 6,
    "start_time": "2024-02-14T11:40:07.787Z"
   },
   {
    "duration": 10,
    "start_time": "2024-02-14T11:40:14.083Z"
   },
   {
    "duration": 7,
    "start_time": "2024-02-14T11:40:37.756Z"
   },
   {
    "duration": 4,
    "start_time": "2024-02-14T11:42:05.893Z"
   },
   {
    "duration": 7,
    "start_time": "2024-02-14T11:42:14.004Z"
   },
   {
    "duration": 10,
    "start_time": "2024-02-14T11:43:48.469Z"
   },
   {
    "duration": 9,
    "start_time": "2024-02-14T11:44:01.404Z"
   },
   {
    "duration": 12,
    "start_time": "2024-02-14T11:45:50.692Z"
   },
   {
    "duration": 7,
    "start_time": "2024-02-14T11:51:44.584Z"
   },
   {
    "duration": 8,
    "start_time": "2024-02-14T11:52:48.695Z"
   },
   {
    "duration": 9,
    "start_time": "2024-02-14T11:54:12.071Z"
   },
   {
    "duration": 12,
    "start_time": "2024-02-14T11:55:05.135Z"
   },
   {
    "duration": 7,
    "start_time": "2024-02-14T11:57:08.309Z"
   },
   {
    "duration": 6,
    "start_time": "2024-02-14T11:57:15.143Z"
   },
   {
    "duration": 6,
    "start_time": "2024-02-14T12:05:39.041Z"
   },
   {
    "duration": 10,
    "start_time": "2024-02-14T12:07:33.748Z"
   },
   {
    "duration": 11,
    "start_time": "2024-02-14T12:07:47.266Z"
   },
   {
    "duration": 66,
    "start_time": "2024-02-14T15:27:40.226Z"
   },
   {
    "duration": 15,
    "start_time": "2024-02-14T15:27:54.145Z"
   },
   {
    "duration": 13,
    "start_time": "2024-02-14T15:28:26.941Z"
   },
   {
    "duration": 10,
    "start_time": "2024-02-14T15:28:39.417Z"
   },
   {
    "duration": 6,
    "start_time": "2024-02-14T15:28:42.631Z"
   },
   {
    "duration": 57,
    "start_time": "2024-02-15T11:23:37.317Z"
   },
   {
    "duration": 753,
    "start_time": "2024-02-15T11:23:46.505Z"
   },
   {
    "duration": 21,
    "start_time": "2024-02-15T11:23:48.794Z"
   },
   {
    "duration": 19,
    "start_time": "2024-02-15T11:23:49.984Z"
   },
   {
    "duration": 11,
    "start_time": "2024-02-15T11:23:51.304Z"
   },
   {
    "duration": 35,
    "start_time": "2024-02-15T11:23:51.633Z"
   },
   {
    "duration": 4,
    "start_time": "2024-02-15T11:23:52.121Z"
   },
   {
    "duration": 11,
    "start_time": "2024-02-15T11:23:52.456Z"
   },
   {
    "duration": 6,
    "start_time": "2024-02-15T11:23:52.985Z"
   },
   {
    "duration": 6,
    "start_time": "2024-02-15T11:23:53.321Z"
   },
   {
    "duration": 4,
    "start_time": "2024-02-15T11:23:54.330Z"
   },
   {
    "duration": 33,
    "start_time": "2024-02-15T11:23:55.217Z"
   },
   {
    "duration": 10,
    "start_time": "2024-02-15T11:23:56.881Z"
   },
   {
    "duration": 4,
    "start_time": "2024-02-15T11:23:57.696Z"
   },
   {
    "duration": 11,
    "start_time": "2024-02-15T11:23:58.777Z"
   },
   {
    "duration": 25,
    "start_time": "2024-02-15T11:23:59.583Z"
   },
   {
    "duration": 26,
    "start_time": "2024-02-15T11:23:59.858Z"
   },
   {
    "duration": 5,
    "start_time": "2024-02-15T11:24:00.465Z"
   },
   {
    "duration": 11,
    "start_time": "2024-02-15T11:24:01.169Z"
   },
   {
    "duration": 6,
    "start_time": "2024-02-15T11:24:02.381Z"
   },
   {
    "duration": 4,
    "start_time": "2024-02-15T11:24:02.992Z"
   },
   {
    "duration": 9,
    "start_time": "2024-02-15T11:24:03.185Z"
   },
   {
    "duration": 13,
    "start_time": "2024-02-15T11:24:06.796Z"
   },
   {
    "duration": 13,
    "start_time": "2024-02-15T11:38:38.973Z"
   },
   {
    "duration": 11,
    "start_time": "2024-02-15T11:40:58.585Z"
   },
   {
    "duration": 514,
    "start_time": "2024-02-15T13:54:28.190Z"
   },
   {
    "duration": 36,
    "start_time": "2024-02-15T13:54:28.706Z"
   },
   {
    "duration": 42,
    "start_time": "2024-02-15T13:54:28.744Z"
   },
   {
    "duration": 11,
    "start_time": "2024-02-15T13:54:28.789Z"
   },
   {
    "duration": 39,
    "start_time": "2024-02-15T13:54:28.802Z"
   },
   {
    "duration": 4,
    "start_time": "2024-02-15T13:54:28.842Z"
   },
   {
    "duration": 33,
    "start_time": "2024-02-15T13:54:28.847Z"
   },
   {
    "duration": 4,
    "start_time": "2024-02-15T13:54:28.882Z"
   },
   {
    "duration": 30,
    "start_time": "2024-02-15T13:54:28.888Z"
   },
   {
    "duration": 5,
    "start_time": "2024-02-15T13:54:28.922Z"
   },
   {
    "duration": 38,
    "start_time": "2024-02-15T13:54:28.929Z"
   },
   {
    "duration": 13,
    "start_time": "2024-02-15T13:54:28.968Z"
   },
   {
    "duration": 4,
    "start_time": "2024-02-15T13:54:28.982Z"
   },
   {
    "duration": 13,
    "start_time": "2024-02-15T13:54:28.988Z"
   },
   {
    "duration": 21,
    "start_time": "2024-02-15T13:54:29.003Z"
   },
   {
    "duration": 18,
    "start_time": "2024-02-15T13:54:29.025Z"
   },
   {
    "duration": 3,
    "start_time": "2024-02-15T13:54:29.045Z"
   },
   {
    "duration": 44,
    "start_time": "2024-02-15T13:54:29.049Z"
   },
   {
    "duration": 13,
    "start_time": "2024-02-15T13:54:29.094Z"
   },
   {
    "duration": 6,
    "start_time": "2024-02-15T13:54:29.108Z"
   },
   {
    "duration": 19,
    "start_time": "2024-02-15T13:54:29.116Z"
   },
   {
    "duration": 28,
    "start_time": "2024-02-15T13:54:29.137Z"
   },
   {
    "duration": 13,
    "start_time": "2024-02-15T13:54:29.166Z"
   },
   {
    "duration": 12,
    "start_time": "2024-02-15T13:54:29.180Z"
   },
   {
    "duration": 8,
    "start_time": "2024-02-15T13:54:29.194Z"
   },
   {
    "duration": 13,
    "start_time": "2024-02-15T14:20:28.995Z"
   },
   {
    "duration": 1199,
    "start_time": "2024-02-15T14:31:21.218Z"
   },
   {
    "duration": 1189,
    "start_time": "2024-02-15T14:31:27.141Z"
   },
   {
    "duration": 11,
    "start_time": "2024-02-15T14:31:36.301Z"
   },
   {
    "duration": 1172,
    "start_time": "2024-02-15T14:31:52.393Z"
   },
   {
    "duration": 1140,
    "start_time": "2024-02-15T14:32:01.753Z"
   },
   {
    "duration": 11,
    "start_time": "2024-02-15T14:32:08.514Z"
   },
   {
    "duration": 8,
    "start_time": "2024-02-15T14:32:27.642Z"
   },
   {
    "duration": 10,
    "start_time": "2024-02-15T14:32:36.377Z"
   },
   {
    "duration": 12,
    "start_time": "2024-02-15T14:32:45.277Z"
   },
   {
    "duration": 10,
    "start_time": "2024-02-15T14:33:11.225Z"
   },
   {
    "duration": 14,
    "start_time": "2024-02-15T14:35:50.724Z"
   },
   {
    "duration": 17,
    "start_time": "2024-02-15T14:36:11.898Z"
   },
   {
    "duration": 16,
    "start_time": "2024-02-15T14:36:21.154Z"
   },
   {
    "duration": 17,
    "start_time": "2024-02-15T14:36:42.810Z"
   },
   {
    "duration": 18,
    "start_time": "2024-02-15T14:37:14.627Z"
   },
   {
    "duration": 19,
    "start_time": "2024-02-15T14:37:26.611Z"
   },
   {
    "duration": 11,
    "start_time": "2024-02-15T14:37:57.585Z"
   },
   {
    "duration": 12,
    "start_time": "2024-02-15T14:40:08.129Z"
   },
   {
    "duration": 8,
    "start_time": "2024-02-15T14:40:14.839Z"
   },
   {
    "duration": 12,
    "start_time": "2024-02-15T14:40:20.572Z"
   },
   {
    "duration": 11,
    "start_time": "2024-02-15T14:42:06.773Z"
   },
   {
    "duration": 11,
    "start_time": "2024-02-15T14:43:35.197Z"
   },
   {
    "duration": 11,
    "start_time": "2024-02-15T14:44:00.895Z"
   },
   {
    "duration": 73,
    "start_time": "2024-02-15T14:44:15.697Z"
   },
   {
    "duration": 14,
    "start_time": "2024-02-15T14:44:26.255Z"
   },
   {
    "duration": 12,
    "start_time": "2024-02-15T14:45:02.846Z"
   },
   {
    "duration": 13,
    "start_time": "2024-02-15T14:45:50.479Z"
   },
   {
    "duration": 15,
    "start_time": "2024-02-15T15:41:37.138Z"
   },
   {
    "duration": 18,
    "start_time": "2024-02-15T15:41:43.743Z"
   },
   {
    "duration": 13,
    "start_time": "2024-02-15T15:41:57.256Z"
   },
   {
    "duration": 12,
    "start_time": "2024-02-15T15:44:20.504Z"
   },
   {
    "duration": 13,
    "start_time": "2024-02-15T16:42:58.163Z"
   },
   {
    "duration": 11,
    "start_time": "2024-02-15T16:43:04.252Z"
   },
   {
    "duration": 24,
    "start_time": "2024-02-15T16:43:18.563Z"
   },
   {
    "duration": 20,
    "start_time": "2024-02-15T16:44:10.230Z"
   },
   {
    "duration": 13,
    "start_time": "2024-02-15T16:44:15.068Z"
   },
   {
    "duration": 25,
    "start_time": "2024-02-15T16:44:30.226Z"
   },
   {
    "duration": 25,
    "start_time": "2024-02-15T16:44:36.844Z"
   },
   {
    "duration": 36,
    "start_time": "2024-02-15T16:45:12.780Z"
   },
   {
    "duration": 36,
    "start_time": "2024-02-15T16:46:09.172Z"
   },
   {
    "duration": 26,
    "start_time": "2024-02-15T16:47:06.651Z"
   },
   {
    "duration": 18,
    "start_time": "2024-02-15T16:47:08.633Z"
   },
   {
    "duration": 28,
    "start_time": "2024-02-15T16:47:24.379Z"
   },
   {
    "duration": 33,
    "start_time": "2024-02-15T16:47:47.924Z"
   },
   {
    "duration": 1139,
    "start_time": "2024-02-15T16:48:08.204Z"
   },
   {
    "duration": 29,
    "start_time": "2024-02-15T16:48:12.845Z"
   },
   {
    "duration": 31,
    "start_time": "2024-02-15T16:50:04.745Z"
   },
   {
    "duration": 13,
    "start_time": "2024-02-15T16:50:07.564Z"
   },
   {
    "duration": 12,
    "start_time": "2024-02-15T16:53:01.279Z"
   },
   {
    "duration": 40,
    "start_time": "2024-02-15T16:53:02.406Z"
   },
   {
    "duration": 475,
    "start_time": "2024-02-15T20:26:39.814Z"
   },
   {
    "duration": 23,
    "start_time": "2024-02-15T20:26:40.291Z"
   },
   {
    "duration": 16,
    "start_time": "2024-02-15T20:26:40.315Z"
   },
   {
    "duration": 27,
    "start_time": "2024-02-15T20:26:40.333Z"
   },
   {
    "duration": 44,
    "start_time": "2024-02-15T20:26:40.361Z"
   },
   {
    "duration": 3,
    "start_time": "2024-02-15T20:26:40.407Z"
   },
   {
    "duration": 13,
    "start_time": "2024-02-15T20:26:40.411Z"
   },
   {
    "duration": 5,
    "start_time": "2024-02-15T20:26:40.425Z"
   },
   {
    "duration": 7,
    "start_time": "2024-02-15T20:26:40.431Z"
   },
   {
    "duration": 4,
    "start_time": "2024-02-15T20:26:40.442Z"
   },
   {
    "duration": 61,
    "start_time": "2024-02-15T20:26:40.448Z"
   },
   {
    "duration": 11,
    "start_time": "2024-02-15T20:26:40.511Z"
   },
   {
    "duration": 15,
    "start_time": "2024-02-15T20:26:40.523Z"
   },
   {
    "duration": 16,
    "start_time": "2024-02-15T20:26:40.540Z"
   },
   {
    "duration": 31,
    "start_time": "2024-02-15T20:26:40.558Z"
   },
   {
    "duration": 17,
    "start_time": "2024-02-15T20:26:40.591Z"
   },
   {
    "duration": 4,
    "start_time": "2024-02-15T20:26:40.610Z"
   },
   {
    "duration": 12,
    "start_time": "2024-02-15T20:26:40.615Z"
   },
   {
    "duration": 7,
    "start_time": "2024-02-15T20:26:40.629Z"
   },
   {
    "duration": 4,
    "start_time": "2024-02-15T20:26:40.638Z"
   },
   {
    "duration": 41,
    "start_time": "2024-02-15T20:26:40.645Z"
   },
   {
    "duration": 15,
    "start_time": "2024-02-15T20:26:40.688Z"
   },
   {
    "duration": 14,
    "start_time": "2024-02-15T20:26:40.705Z"
   },
   {
    "duration": 15,
    "start_time": "2024-02-15T20:26:40.721Z"
   },
   {
    "duration": 45,
    "start_time": "2024-02-15T20:26:40.738Z"
   },
   {
    "duration": 38,
    "start_time": "2024-02-15T20:26:40.785Z"
   },
   {
    "duration": 20,
    "start_time": "2024-02-15T20:27:52.065Z"
   },
   {
    "duration": 12,
    "start_time": "2024-02-15T20:28:01.312Z"
   },
   {
    "duration": 14,
    "start_time": "2024-02-15T20:34:51.332Z"
   },
   {
    "duration": 532,
    "start_time": "2024-02-15T20:35:08.852Z"
   },
   {
    "duration": 24,
    "start_time": "2024-02-15T20:35:09.386Z"
   },
   {
    "duration": 20,
    "start_time": "2024-02-15T20:35:09.412Z"
   },
   {
    "duration": 12,
    "start_time": "2024-02-15T20:35:09.434Z"
   },
   {
    "duration": 67,
    "start_time": "2024-02-15T20:35:09.448Z"
   },
   {
    "duration": 3,
    "start_time": "2024-02-15T20:35:09.517Z"
   },
   {
    "duration": 11,
    "start_time": "2024-02-15T20:35:09.522Z"
   },
   {
    "duration": 5,
    "start_time": "2024-02-15T20:35:09.535Z"
   },
   {
    "duration": 19,
    "start_time": "2024-02-15T20:35:09.542Z"
   },
   {
    "duration": 21,
    "start_time": "2024-02-15T20:35:09.563Z"
   },
   {
    "duration": 47,
    "start_time": "2024-02-15T20:35:09.586Z"
   },
   {
    "duration": 11,
    "start_time": "2024-02-15T20:35:09.634Z"
   },
   {
    "duration": 12,
    "start_time": "2024-02-15T20:35:09.646Z"
   },
   {
    "duration": 25,
    "start_time": "2024-02-15T20:35:09.660Z"
   },
   {
    "duration": 22,
    "start_time": "2024-02-15T20:35:09.687Z"
   },
   {
    "duration": 17,
    "start_time": "2024-02-15T20:35:09.711Z"
   },
   {
    "duration": 4,
    "start_time": "2024-02-15T20:35:09.729Z"
   },
   {
    "duration": 13,
    "start_time": "2024-02-15T20:35:09.735Z"
   },
   {
    "duration": 6,
    "start_time": "2024-02-15T20:35:09.749Z"
   },
   {
    "duration": 3,
    "start_time": "2024-02-15T20:35:09.781Z"
   },
   {
    "duration": 13,
    "start_time": "2024-02-15T20:35:09.786Z"
   },
   {
    "duration": 15,
    "start_time": "2024-02-15T20:35:09.801Z"
   },
   {
    "duration": 14,
    "start_time": "2024-02-15T20:35:09.817Z"
   },
   {
    "duration": 14,
    "start_time": "2024-02-15T20:35:09.832Z"
   },
   {
    "duration": 42,
    "start_time": "2024-02-15T20:35:09.848Z"
   },
   {
    "duration": 37,
    "start_time": "2024-02-15T20:35:09.891Z"
   }
  ],
  "colab": {
   "name": "dpp_template_part2.ipynb",
   "provenance": []
  },
  "kernelspec": {
   "display_name": "Python 3 (ipykernel)",
   "language": "python",
   "name": "python3"
  },
  "language_info": {
   "codemirror_mode": {
    "name": "ipython",
    "version": 3
   },
   "file_extension": ".py",
   "mimetype": "text/x-python",
   "name": "python",
   "nbconvert_exporter": "python",
   "pygments_lexer": "ipython3",
   "version": "3.12.2"
  },
  "toc": {
   "base_numbering": 1,
   "nav_menu": {},
   "number_sections": true,
   "sideBar": true,
   "skip_h1_title": true,
   "title_cell": "Table of Contents",
   "title_sidebar": "Contents",
   "toc_cell": false,
   "toc_position": {},
   "toc_section_display": true,
   "toc_window_display": false
  }
 },
 "nbformat": 4,
 "nbformat_minor": 5
}
